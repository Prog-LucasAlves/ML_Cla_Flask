{
 "cells": [
  {
   "cell_type": "markdown",
   "id": "cf08b8d7",
   "metadata": {},
   "source": [
    "## Diabetes Prediction App"
   ]
  },
  {
   "cell_type": "code",
   "execution_count": null,
   "id": "5530f3bc",
   "metadata": {},
   "outputs": [],
   "source": [
    "# Libraries\n",
    "\n",
    "import pandas as pd\n",
    "import numpy as np\n",
    "from sklearn.preprocessing import LabelEncoder, StandardScaler\n",
    "from sklearn.decomposition import PCA\n",
    "from sklearn.model_selection import train_test_split\n",
    "from sklearn.metrics import (\n",
    "    accuracy_score,\n",
    "    classification_report,\n",
    "    roc_curve,\n",
    "    auc,\n",
    "    confusion_matrix,\n",
    ")\n",
    "from xgboost import XGBClassifier\n",
    "import joblib\n",
    "import plotly.graph_objects as go\n",
    "from tqdm import tqdm"
   ]
  },
  {
   "cell_type": "code",
   "execution_count": 2,
   "id": "e29f3deb",
   "metadata": {},
   "outputs": [
    {
     "data": {
      "text/html": [
       "<div>\n",
       "<style scoped>\n",
       "    .dataframe tbody tr th:only-of-type {\n",
       "        vertical-align: middle;\n",
       "    }\n",
       "\n",
       "    .dataframe tbody tr th {\n",
       "        vertical-align: top;\n",
       "    }\n",
       "\n",
       "    .dataframe thead th {\n",
       "        text-align: right;\n",
       "    }\n",
       "</style>\n",
       "<table border=\"1\" class=\"dataframe\">\n",
       "  <thead>\n",
       "    <tr style=\"text-align: right;\">\n",
       "      <th></th>\n",
       "      <th>gender</th>\n",
       "      <th>age</th>\n",
       "      <th>hypertension</th>\n",
       "      <th>heart_disease</th>\n",
       "      <th>smoking_history</th>\n",
       "      <th>bmi</th>\n",
       "      <th>HbA1c_level</th>\n",
       "      <th>blood_glucose_level</th>\n",
       "      <th>diabetes</th>\n",
       "    </tr>\n",
       "  </thead>\n",
       "  <tbody>\n",
       "    <tr>\n",
       "      <th>0</th>\n",
       "      <td>Female</td>\n",
       "      <td>80.0</td>\n",
       "      <td>0</td>\n",
       "      <td>1</td>\n",
       "      <td>never</td>\n",
       "      <td>25.19</td>\n",
       "      <td>6.6</td>\n",
       "      <td>140</td>\n",
       "      <td>0</td>\n",
       "    </tr>\n",
       "    <tr>\n",
       "      <th>1</th>\n",
       "      <td>Female</td>\n",
       "      <td>54.0</td>\n",
       "      <td>0</td>\n",
       "      <td>0</td>\n",
       "      <td>No Info</td>\n",
       "      <td>27.32</td>\n",
       "      <td>6.6</td>\n",
       "      <td>80</td>\n",
       "      <td>0</td>\n",
       "    </tr>\n",
       "    <tr>\n",
       "      <th>2</th>\n",
       "      <td>Male</td>\n",
       "      <td>28.0</td>\n",
       "      <td>0</td>\n",
       "      <td>0</td>\n",
       "      <td>never</td>\n",
       "      <td>27.32</td>\n",
       "      <td>5.7</td>\n",
       "      <td>158</td>\n",
       "      <td>0</td>\n",
       "    </tr>\n",
       "    <tr>\n",
       "      <th>3</th>\n",
       "      <td>Female</td>\n",
       "      <td>36.0</td>\n",
       "      <td>0</td>\n",
       "      <td>0</td>\n",
       "      <td>current</td>\n",
       "      <td>23.45</td>\n",
       "      <td>5.0</td>\n",
       "      <td>155</td>\n",
       "      <td>0</td>\n",
       "    </tr>\n",
       "    <tr>\n",
       "      <th>4</th>\n",
       "      <td>Male</td>\n",
       "      <td>76.0</td>\n",
       "      <td>1</td>\n",
       "      <td>1</td>\n",
       "      <td>current</td>\n",
       "      <td>20.14</td>\n",
       "      <td>4.8</td>\n",
       "      <td>155</td>\n",
       "      <td>0</td>\n",
       "    </tr>\n",
       "  </tbody>\n",
       "</table>\n",
       "</div>"
      ],
      "text/plain": [
       "   gender   age  hypertension  heart_disease smoking_history    bmi  \\\n",
       "0  Female  80.0             0              1           never  25.19   \n",
       "1  Female  54.0             0              0         No Info  27.32   \n",
       "2    Male  28.0             0              0           never  27.32   \n",
       "3  Female  36.0             0              0         current  23.45   \n",
       "4    Male  76.0             1              1         current  20.14   \n",
       "\n",
       "   HbA1c_level  blood_glucose_level  diabetes  \n",
       "0          6.6                  140         0  \n",
       "1          6.6                   80         0  \n",
       "2          5.7                  158         0  \n",
       "3          5.0                  155         0  \n",
       "4          4.8                  155         0  "
      ]
     },
     "execution_count": 2,
     "metadata": {},
     "output_type": "execute_result"
    }
   ],
   "source": [
    "# Loading the dataset\n",
    "\n",
    "data = pd.read_csv(\"../data/diabetes_prediction_dataset.csv\")\n",
    "\n",
    "# View the first few rows of the dataset\n",
    "\n",
    "data.head()"
   ]
  },
  {
   "cell_type": "code",
   "execution_count": 3,
   "id": "19f01d47",
   "metadata": {},
   "outputs": [
    {
     "data": {
      "text/plain": [
       "diabetes\n",
       "0    91500\n",
       "1     8500\n",
       "Name: count, dtype: int64"
      ]
     },
     "execution_count": 3,
     "metadata": {},
     "output_type": "execute_result"
    }
   ],
   "source": [
    "# Variable y in the dataset\n",
    "\n",
    "data[\"diabetes\"].value_counts()"
   ]
  },
  {
   "cell_type": "code",
   "execution_count": 4,
   "id": "ff0b40b0",
   "metadata": {},
   "outputs": [
    {
     "data": {
      "text/html": [
       "<div>\n",
       "<style scoped>\n",
       "    .dataframe tbody tr th:only-of-type {\n",
       "        vertical-align: middle;\n",
       "    }\n",
       "\n",
       "    .dataframe tbody tr th {\n",
       "        vertical-align: top;\n",
       "    }\n",
       "\n",
       "    .dataframe thead th {\n",
       "        text-align: right;\n",
       "    }\n",
       "</style>\n",
       "<table border=\"1\" class=\"dataframe\">\n",
       "  <thead>\n",
       "    <tr style=\"text-align: right;\">\n",
       "      <th></th>\n",
       "      <th>age</th>\n",
       "      <th>hypertension</th>\n",
       "      <th>heart_disease</th>\n",
       "      <th>bmi</th>\n",
       "      <th>HbA1c_level</th>\n",
       "      <th>blood_glucose_level</th>\n",
       "      <th>diabetes</th>\n",
       "    </tr>\n",
       "  </thead>\n",
       "  <tbody>\n",
       "    <tr>\n",
       "      <th>count</th>\n",
       "      <td>100000.000000</td>\n",
       "      <td>100000.00000</td>\n",
       "      <td>100000.000000</td>\n",
       "      <td>100000.000000</td>\n",
       "      <td>100000.000000</td>\n",
       "      <td>100000.000000</td>\n",
       "      <td>100000.000000</td>\n",
       "    </tr>\n",
       "    <tr>\n",
       "      <th>mean</th>\n",
       "      <td>41.885856</td>\n",
       "      <td>0.07485</td>\n",
       "      <td>0.039420</td>\n",
       "      <td>27.320767</td>\n",
       "      <td>5.527507</td>\n",
       "      <td>138.058060</td>\n",
       "      <td>0.085000</td>\n",
       "    </tr>\n",
       "    <tr>\n",
       "      <th>std</th>\n",
       "      <td>22.516840</td>\n",
       "      <td>0.26315</td>\n",
       "      <td>0.194593</td>\n",
       "      <td>6.636783</td>\n",
       "      <td>1.070672</td>\n",
       "      <td>40.708136</td>\n",
       "      <td>0.278883</td>\n",
       "    </tr>\n",
       "    <tr>\n",
       "      <th>min</th>\n",
       "      <td>0.080000</td>\n",
       "      <td>0.00000</td>\n",
       "      <td>0.000000</td>\n",
       "      <td>10.010000</td>\n",
       "      <td>3.500000</td>\n",
       "      <td>80.000000</td>\n",
       "      <td>0.000000</td>\n",
       "    </tr>\n",
       "    <tr>\n",
       "      <th>25%</th>\n",
       "      <td>24.000000</td>\n",
       "      <td>0.00000</td>\n",
       "      <td>0.000000</td>\n",
       "      <td>23.630000</td>\n",
       "      <td>4.800000</td>\n",
       "      <td>100.000000</td>\n",
       "      <td>0.000000</td>\n",
       "    </tr>\n",
       "    <tr>\n",
       "      <th>50%</th>\n",
       "      <td>43.000000</td>\n",
       "      <td>0.00000</td>\n",
       "      <td>0.000000</td>\n",
       "      <td>27.320000</td>\n",
       "      <td>5.800000</td>\n",
       "      <td>140.000000</td>\n",
       "      <td>0.000000</td>\n",
       "    </tr>\n",
       "    <tr>\n",
       "      <th>75%</th>\n",
       "      <td>60.000000</td>\n",
       "      <td>0.00000</td>\n",
       "      <td>0.000000</td>\n",
       "      <td>29.580000</td>\n",
       "      <td>6.200000</td>\n",
       "      <td>159.000000</td>\n",
       "      <td>0.000000</td>\n",
       "    </tr>\n",
       "    <tr>\n",
       "      <th>max</th>\n",
       "      <td>80.000000</td>\n",
       "      <td>1.00000</td>\n",
       "      <td>1.000000</td>\n",
       "      <td>95.690000</td>\n",
       "      <td>9.000000</td>\n",
       "      <td>300.000000</td>\n",
       "      <td>1.000000</td>\n",
       "    </tr>\n",
       "  </tbody>\n",
       "</table>\n",
       "</div>"
      ],
      "text/plain": [
       "                 age  hypertension  heart_disease            bmi  \\\n",
       "count  100000.000000  100000.00000  100000.000000  100000.000000   \n",
       "mean       41.885856       0.07485       0.039420      27.320767   \n",
       "std        22.516840       0.26315       0.194593       6.636783   \n",
       "min         0.080000       0.00000       0.000000      10.010000   \n",
       "25%        24.000000       0.00000       0.000000      23.630000   \n",
       "50%        43.000000       0.00000       0.000000      27.320000   \n",
       "75%        60.000000       0.00000       0.000000      29.580000   \n",
       "max        80.000000       1.00000       1.000000      95.690000   \n",
       "\n",
       "         HbA1c_level  blood_glucose_level       diabetes  \n",
       "count  100000.000000        100000.000000  100000.000000  \n",
       "mean        5.527507           138.058060       0.085000  \n",
       "std         1.070672            40.708136       0.278883  \n",
       "min         3.500000            80.000000       0.000000  \n",
       "25%         4.800000           100.000000       0.000000  \n",
       "50%         5.800000           140.000000       0.000000  \n",
       "75%         6.200000           159.000000       0.000000  \n",
       "max         9.000000           300.000000       1.000000  "
      ]
     },
     "execution_count": 4,
     "metadata": {},
     "output_type": "execute_result"
    }
   ],
   "source": [
    "# Summary statistics of the dataset\n",
    "\n",
    "data.describe()"
   ]
  },
  {
   "cell_type": "code",
   "execution_count": 5,
   "id": "631a8493",
   "metadata": {},
   "outputs": [
    {
     "data": {
      "text/plain": [
       "count    82781.000000\n",
       "mean        48.856682\n",
       "std         18.014698\n",
       "min         18.000000\n",
       "25%         34.000000\n",
       "50%         49.000000\n",
       "75%         63.000000\n",
       "max         80.000000\n",
       "Name: age, dtype: float64"
      ]
     },
     "execution_count": 5,
     "metadata": {},
     "output_type": "execute_result"
    }
   ],
   "source": [
    "# Creating a filter for the age column\n",
    "\n",
    "filter_age = data[\"age\"] >= 18\n",
    "\n",
    "data = data[filter_age]\n",
    "\n",
    "data[\"age\"].describe()"
   ]
  },
  {
   "cell_type": "code",
   "execution_count": 6,
   "id": "2c90bd4a",
   "metadata": {},
   "outputs": [],
   "source": [
    "# Transform column age into int\n",
    "\n",
    "data[\"age\"] = data[\"age\"].astype(int)"
   ]
  },
  {
   "cell_type": "code",
   "execution_count": 7,
   "id": "fc055572",
   "metadata": {},
   "outputs": [
    {
     "name": "stdout",
     "output_type": "stream",
     "text": [
      "<class 'pandas.core.frame.DataFrame'>\n",
      "Index: 82781 entries, 0 to 99999\n",
      "Data columns (total 9 columns):\n",
      " #   Column               Non-Null Count  Dtype  \n",
      "---  ------               --------------  -----  \n",
      " 0   gender               82781 non-null  object \n",
      " 1   age                  82781 non-null  int64  \n",
      " 2   hypertension         82781 non-null  int64  \n",
      " 3   heart_disease        82781 non-null  int64  \n",
      " 4   smoking_history      82781 non-null  object \n",
      " 5   bmi                  82781 non-null  float64\n",
      " 6   HbA1c_level          82781 non-null  float64\n",
      " 7   blood_glucose_level  82781 non-null  int64  \n",
      " 8   diabetes             82781 non-null  int64  \n",
      "dtypes: float64(2), int64(5), object(2)\n",
      "memory usage: 6.3+ MB\n"
     ]
    }
   ],
   "source": [
    "# Check basic information\n",
    "\n",
    "data.info()"
   ]
  },
  {
   "cell_type": "code",
   "execution_count": 8,
   "id": "d24dae86",
   "metadata": {},
   "outputs": [
    {
     "data": {
      "text/plain": [
       "gender                 0\n",
       "age                    0\n",
       "hypertension           0\n",
       "heart_disease          0\n",
       "smoking_history        0\n",
       "bmi                    0\n",
       "HbA1c_level            0\n",
       "blood_glucose_level    0\n",
       "diabetes               0\n",
       "dtype: int64"
      ]
     },
     "execution_count": 8,
     "metadata": {},
     "output_type": "execute_result"
    }
   ],
   "source": [
    "# Check for null values\n",
    "\n",
    "data.isnull().sum()"
   ]
  },
  {
   "cell_type": "code",
   "execution_count": 9,
   "id": "f5e5ccb2",
   "metadata": {},
   "outputs": [
    {
     "name": "stdout",
     "output_type": "stream",
     "text": [
      "3323\n",
      "---Removed Duplicate---\n",
      "0\n"
     ]
    }
   ],
   "source": [
    "# Check for duplicate rows\n",
    "\n",
    "print(data.duplicated().sum())\n",
    "\n",
    "# Drop duplicate rows\n",
    "\n",
    "data.drop_duplicates(inplace=True)\n",
    "\n",
    "print(\"---Removed Duplicate---\")\n",
    "print(data.duplicated().sum())"
   ]
  },
  {
   "cell_type": "code",
   "execution_count": 10,
   "id": "c8c82e62",
   "metadata": {},
   "outputs": [],
   "source": [
    "# Incode the categorical columns\n",
    "\n",
    "le_gender = LabelEncoder()\n",
    "le_smoking = LabelEncoder()\n",
    "data[\"gender\"] = le_gender.fit_transform(data[\"gender\"])\n",
    "data[\"smoking_history\"] = le_smoking.fit_transform(data[\"smoking_history\"])"
   ]
  },
  {
   "cell_type": "code",
   "execution_count": 11,
   "id": "6a413018",
   "metadata": {},
   "outputs": [
    {
     "data": {
      "text/html": [
       "<div>\n",
       "<style scoped>\n",
       "    .dataframe tbody tr th:only-of-type {\n",
       "        vertical-align: middle;\n",
       "    }\n",
       "\n",
       "    .dataframe tbody tr th {\n",
       "        vertical-align: top;\n",
       "    }\n",
       "\n",
       "    .dataframe thead th {\n",
       "        text-align: right;\n",
       "    }\n",
       "</style>\n",
       "<table border=\"1\" class=\"dataframe\">\n",
       "  <thead>\n",
       "    <tr style=\"text-align: right;\">\n",
       "      <th></th>\n",
       "      <th>gender</th>\n",
       "      <th>age</th>\n",
       "      <th>hypertension</th>\n",
       "      <th>heart_disease</th>\n",
       "      <th>smoking_history</th>\n",
       "      <th>bmi</th>\n",
       "      <th>HbA1c_level</th>\n",
       "      <th>blood_glucose_level</th>\n",
       "      <th>diabetes</th>\n",
       "    </tr>\n",
       "  </thead>\n",
       "  <tbody>\n",
       "    <tr>\n",
       "      <th>0</th>\n",
       "      <td>0</td>\n",
       "      <td>80</td>\n",
       "      <td>0</td>\n",
       "      <td>1</td>\n",
       "      <td>4</td>\n",
       "      <td>25.19</td>\n",
       "      <td>6.6</td>\n",
       "      <td>140</td>\n",
       "      <td>0</td>\n",
       "    </tr>\n",
       "    <tr>\n",
       "      <th>1</th>\n",
       "      <td>0</td>\n",
       "      <td>54</td>\n",
       "      <td>0</td>\n",
       "      <td>0</td>\n",
       "      <td>0</td>\n",
       "      <td>27.32</td>\n",
       "      <td>6.6</td>\n",
       "      <td>80</td>\n",
       "      <td>0</td>\n",
       "    </tr>\n",
       "    <tr>\n",
       "      <th>2</th>\n",
       "      <td>1</td>\n",
       "      <td>28</td>\n",
       "      <td>0</td>\n",
       "      <td>0</td>\n",
       "      <td>4</td>\n",
       "      <td>27.32</td>\n",
       "      <td>5.7</td>\n",
       "      <td>158</td>\n",
       "      <td>0</td>\n",
       "    </tr>\n",
       "    <tr>\n",
       "      <th>3</th>\n",
       "      <td>0</td>\n",
       "      <td>36</td>\n",
       "      <td>0</td>\n",
       "      <td>0</td>\n",
       "      <td>1</td>\n",
       "      <td>23.45</td>\n",
       "      <td>5.0</td>\n",
       "      <td>155</td>\n",
       "      <td>0</td>\n",
       "    </tr>\n",
       "    <tr>\n",
       "      <th>4</th>\n",
       "      <td>1</td>\n",
       "      <td>76</td>\n",
       "      <td>1</td>\n",
       "      <td>1</td>\n",
       "      <td>1</td>\n",
       "      <td>20.14</td>\n",
       "      <td>4.8</td>\n",
       "      <td>155</td>\n",
       "      <td>0</td>\n",
       "    </tr>\n",
       "  </tbody>\n",
       "</table>\n",
       "</div>"
      ],
      "text/plain": [
       "   gender  age  hypertension  heart_disease  smoking_history    bmi  \\\n",
       "0       0   80             0              1                4  25.19   \n",
       "1       0   54             0              0                0  27.32   \n",
       "2       1   28             0              0                4  27.32   \n",
       "3       0   36             0              0                1  23.45   \n",
       "4       1   76             1              1                1  20.14   \n",
       "\n",
       "   HbA1c_level  blood_glucose_level  diabetes  \n",
       "0          6.6                  140         0  \n",
       "1          6.6                   80         0  \n",
       "2          5.7                  158         0  \n",
       "3          5.0                  155         0  \n",
       "4          4.8                  155         0  "
      ]
     },
     "execution_count": 11,
     "metadata": {},
     "output_type": "execute_result"
    }
   ],
   "source": [
    "# Dataset after the column encoder\n",
    "\n",
    "data.head()"
   ]
  },
  {
   "cell_type": "code",
   "execution_count": 12,
   "id": "08de5480",
   "metadata": {},
   "outputs": [
    {
     "name": "stdout",
     "output_type": "stream",
     "text": [
      "<class 'pandas.core.frame.DataFrame'>\n",
      "Index: 79458 entries, 0 to 99999\n",
      "Data columns (total 9 columns):\n",
      " #   Column               Non-Null Count  Dtype  \n",
      "---  ------               --------------  -----  \n",
      " 0   gender               79458 non-null  int64  \n",
      " 1   age                  79458 non-null  int64  \n",
      " 2   hypertension         79458 non-null  int64  \n",
      " 3   heart_disease        79458 non-null  int64  \n",
      " 4   smoking_history      79458 non-null  int64  \n",
      " 5   bmi                  79458 non-null  float64\n",
      " 6   HbA1c_level          79458 non-null  float64\n",
      " 7   blood_glucose_level  79458 non-null  int64  \n",
      " 8   diabetes             79458 non-null  int64  \n",
      "dtypes: float64(2), int64(7)\n",
      "memory usage: 6.1 MB\n"
     ]
    }
   ],
   "source": [
    "# Dataset info\n",
    "\n",
    "data.info()"
   ]
  },
  {
   "cell_type": "code",
   "execution_count": 13,
   "id": "68f9f638",
   "metadata": {},
   "outputs": [],
   "source": [
    "# Selecting features and target variable\n",
    "\n",
    "features = data.drop(\"diabetes\", axis=1)\n",
    "\n",
    "X = features\n",
    "y = data[\"diabetes\"]"
   ]
  },
  {
   "cell_type": "code",
   "execution_count": 14,
   "id": "fbbf7ef4",
   "metadata": {},
   "outputs": [],
   "source": [
    "# Splitting the data into training and testing sets\n",
    "\n",
    "X_train, X_test, y_train, y_test = train_test_split(X, y, test_size=0.2, random_state=42)"
   ]
  },
  {
   "cell_type": "code",
   "execution_count": 15,
   "id": "5bdb5f8f",
   "metadata": {},
   "outputs": [],
   "source": [
    "# Scaling the features\n",
    "\n",
    "scaler = StandardScaler()\n",
    "X_train = scaler.fit_transform(X_train)\n",
    "X_test = scaler.transform(X_test)"
   ]
  },
  {
   "cell_type": "code",
   "execution_count": 16,
   "id": "e6049fe4",
   "metadata": {},
   "outputs": [],
   "source": [
    "# Applying PCA\n",
    "\n",
    "pca = PCA(n_components=0.95)  # Retain 95% of variance\n",
    "X_train_pca = pca.fit_transform(X_train)\n",
    "X_test_pca = pca.transform(X_test)"
   ]
  },
  {
   "cell_type": "code",
   "execution_count": 17,
   "id": "e1d2f656",
   "metadata": {},
   "outputs": [
    {
     "name": "stdout",
     "output_type": "stream",
     "text": [
      "Accuracy:, 0.9566\n",
      "Classification Report: \n",
      "               precision    recall  f1-score   support\n",
      "\n",
      "           0       0.96      0.99      0.98     14209\n",
      "           1       0.90      0.67      0.77      1683\n",
      "\n",
      "    accuracy                           0.96     15892\n",
      "   macro avg       0.93      0.83      0.87     15892\n",
      "weighted avg       0.95      0.96      0.95     15892\n",
      "\n"
     ]
    }
   ],
   "source": [
    "# Initializing and training the model\n",
    "\n",
    "model = XGBClassifier(random_state=42)\n",
    "model.fit(X_train_pca, y_train)\n",
    "\n",
    "# Making predictions on the test set\n",
    "\n",
    "y_pred = model.predict(X_test_pca)\n",
    "\n",
    "# Evaluating the model\n",
    "\n",
    "accuracy = accuracy_score(y_test, y_pred)\n",
    "print(f\"Accuracy:, {accuracy:.4f}\")\n",
    "print(f\"Classification Report: \\n {classification_report(y_test, y_pred)}\")"
   ]
  },
  {
   "cell_type": "code",
   "execution_count": null,
   "id": "42c061c8",
   "metadata": {},
   "outputs": [
    {
     "name": "stderr",
     "output_type": "stream",
     "text": [
      "100%|██████████| 1000/1000 [04:33<00:00,  3.65it/s]"
     ]
    },
    {
     "name": "stdout",
     "output_type": "stream",
     "text": [
      "Bootstrapped Accuracy: 0.9548 ± 0.0009\n"
     ]
    },
    {
     "name": "stderr",
     "output_type": "stream",
     "text": [
      "\n"
     ]
    }
   ],
   "source": [
    "# Bootstrap sampling to estimate accuracy and its confidence interval\n",
    "\n",
    "\n",
    "def bootstrapping_accuracy(X_train_pca, y_train, n_iterations=1000):\n",
    "    np.random.seed(42)\n",
    "    accuracies = []\n",
    "    n_size = int(len(X_train_pca) * 0.5)\n",
    "\n",
    "    for _ in tqdm(range(n_iterations)):\n",
    "        indices = np.random.randint(0, len(X_train_pca), n_size)\n",
    "        X_sample = X_train_pca[indices]\n",
    "        y_sample = y_train.iloc[indices]\n",
    "\n",
    "        model_sample = XGBClassifier(random_state=42)\n",
    "        model_sample.fit(X_sample, y_sample)\n",
    "\n",
    "        y_pred_sample = model_sample.predict(X_test_pca)\n",
    "        acc = accuracy_score(y_test, y_pred_sample)\n",
    "        accuracies.append(acc)\n",
    "\n",
    "    return np.mean(accuracies), np.std(accuracies)\n",
    "\n",
    "\n",
    "mean_acc, std_acc = bootstrapping_accuracy(X_train_pca, y_train)\n",
    "print(f\"Bootstrapped Accuracy: {mean_acc:.4f} ± {std_acc:.4f}\")"
   ]
  },
  {
   "cell_type": "code",
   "execution_count": 24,
   "id": "ad923fd9",
   "metadata": {},
   "outputs": [
    {
     "name": "stdout",
     "output_type": "stream",
     "text": [
      "95% confidence interval for the AUC score: [0.960 - 0.967]\n"
     ]
    }
   ],
   "source": [
    "# Bootstrap the ROC curve\n",
    "\n",
    "y_pred_proba = model.predict_proba(X_test_pca)[:, 1]\n",
    "n_bootstraps = 10000\n",
    "rng_seed = 42  # control reproducibility\n",
    "bootstrapped_scores = []\n",
    "rng = np.random.RandomState(rng_seed)\n",
    "\n",
    "for i in range(n_bootstraps):\n",
    "    indices = rng.randint(0, len(y_pred_proba), len(y_pred_proba))\n",
    "    if len(np.unique(y_test.iloc[indices])) < 2:\n",
    "        continue\n",
    "\n",
    "    score = auc(*roc_curve(y_test.iloc[indices], y_pred_proba[indices])[:2])\n",
    "    bootstrapped_scores.append(score)\n",
    "bootstrapped_scores = np.array(bootstrapped_scores)\n",
    "sorted_scores = np.sort(bootstrapped_scores)\n",
    "\n",
    "# Computing the lower bound of the 95% confidence interval (2.5th percentile)\n",
    "\n",
    "confidence_lower = sorted_scores[int(0.025 * len(sorted_scores))]\n",
    "\n",
    "# Computing the upper bound of the 95% confidence interval (97.5th percentile)\n",
    "\n",
    "confidence_upper = sorted_scores[int(0.975 * len(sorted_scores))]\n",
    "\n",
    "print(\n",
    "    f\"95% confidence interval for the AUC score: [{confidence_lower:.3f} - {confidence_upper:.3f}]\"\n",
    ")"
   ]
  },
  {
   "cell_type": "code",
   "execution_count": 18,
   "id": "d4cf0a75",
   "metadata": {},
   "outputs": [
    {
     "data": {
      "application/vnd.plotly.v1+json": {
       "config": {
        "plotlyServerURL": "https://plot.ly"
       },
       "data": [
        {
         "mode": "lines",
         "name": "ROC curve (AUC = 0.96)",
         "type": "scatter",
         "x": {
          "bdata": "AAAAAAAAAAAAAAAAAAAAAAAAAAAAAAAAAAAAAAAAAAAAAAAAAAAAAAAAAAAAAAAAAAAAAAAAAAAAAAAAAAAAAAAAAAAAAAAAAAAAAAAAAAAAAAAAAAAAAAAAAAAAAAAAAAAAAAAAAAAAAAAAAAAAAAAAAAAAAAAAAAAAAAAAAAAAAAAAAAAAAAAAAAAAAAAAAAAAAAAAAAAAAAAAAAAAAAAAAAAAAAAAAAAAAAAAAAAAAAAAAAAAAAAAAAAAAAAAAAAAAAAAAAAAAAAAAAAAAAAAAAAAAAAAAAAAAAAAAAAAAAAAAAAAAAAAAAAAAAAAAAAAAAAAAAAAAAAAAAAAAAAAAAAAAAAAAAAAAAAAAAAAAAAAAAAAAAAAAAAAAAAAAAAAAAAAAAAAAAAAAAAAAAAAAAAAAAAAAAAAAAAAAAAAAAAAAAAAAAAAAAAAAAAAAAAAAAAAAAAAAAAAAAAAAAAAAAAAAAAAAAAAAAAAAAAAAAAAAAAAAAAAAAAAAAAAAAAAAAAAAAAAAAAAAAAAAAAAAAAAAAAAAAAAAAAAAAAAAAAAAAAAAAAAAAAAAAAAAAAAAAAAAAAAAAAAAAAAAAAAAAAAAAAAAAAAAAAAAAAAAAAAAAAAAAAAAAAAAAAAAAAAAAAAAAAAAAAAAAAAAAAAAAAAAAAAAAAAAAAAAAAAAAAAAAAAAAAAAAAAAAAAAAAAAAAAAAAAAAAAAAAAAAAAAAAAAAAAAAAAAAAAAAAAAAAAAAAAAAAAAAAAAAAAAAAAAAAAAAAAAAAAAAAAAAAAAAAAAAAAAAAAAAAAAAAAAAAAAAAAAAAAAAAAAAAAAAAAAAAAAAAAAAAAAAAAAAAAAAAAAAAAAAAAAAAAAAAAAAAAAAAAAAAAAAAAAAAAAAAAAAAAAAAAAAAAAAAAAAAAAAAAAAAAAAAAAAAAAAAAAAAAAAAAAAAAAAAAAAAAAAAAAAAAAAAAAAAAAAAAAAAAAAAAAAAAAAAAAAAAAAAAAAAAAAAAAAAAAAAAAAAAAAAAAAAAAAAAAAAAAAAAAAAAAAAAAAAAAAAAAAAAAAAAAAAAAAAAAAAAAAAAAAAAAAAAAAAAAAAAAAAAAAAAAAAAAAAAAAAAAAAAAAAAAAAAAAAAAAAAAAAAAAAAAAAAAAAAAAAAAAAAAAAAAAAAAAAAAAAAAAAAAAAAAAAAAAAAAAAAAAAAAAAAAAAAAAAAAAAAAAAAAAAAAAAAAAAAAAAAAAAAAAAAAAAAAAAAAAAAAAAAAAAAAAAAAAAAAAAAAAAAAAAAAAAAAAAAAAAAAAAAAAAAAAAAAAAAAAAAAAAAAAAAAAAAAAAAAAAAAAAAAAAAAAAAAAD4yTaf+3ISP/jJNp/7chI/+Mk2n/tyIj/4yTaf+3IiP/Qu0m55rCs/9C7SbnmsKz/4yTaf+3IyP/jJNp/7cjI/dnwEh7oPNz92fASHug83P/Qu0m55rDs/9C7SbnmsOz+58E8rnCRAP7nwTyucJEA/+Mk2n/tyQj/4yTaf+3JCPzejHRNbwUQ/N6MdE1vBRD+1Vev6GV5JP7VV6/oZXkk/9C7SbnmsSz/0LtJueaxLPzMIueLY+k0/Mwi54tj6TT/4yTaf+3JSP/jJNp/7clI/N6MdE1vBVD83ox0TW8FUP9YPEc2K6FU/1g8RzYroVT92fASHug9XP3Z8BIe6D1c/tVXr+hleWT+1Vev6GV5ZP1TC3rRJhVo/VMLetEmFWj+Tm8UoqdNcP5ObxSip01w/Mwi54tj6XT8zCLni2PpdP1hdQ+XLS2E/WF1D5ctLYT+oEz3CY99hP6gTPcJj32E/+Mk2n/tyYj/4yTaf+3JiP5c2KlkrmmM/lzYqWSuaYz/n7CM2wy1kP+fsIzbDLWQ/N6MdE1vBZD83ox0TW8FkP4ZZF/DyVGU/hlkX8PJUZT/WDxHNiuhlP9YPEc2K6GU/JsYKqiJ8Zj8mxgqqInxmP3Z8BIe6D2c/dnwEh7oPZz/FMv5jUqNnP8Uy/mNSo2c/pHjYkeEYaz+keNiR4RhrP0Ply0sRQGw/Q+XLSxFAbD+Tm8UoqdNsP5ObxSip02w/41G/BUFnbT/jUb8FQWdtPzMIueLY+m0/Mwi54tj6bT8iK6Z5oLVvPyIrpnmgtW8/CadJCDS4cD8Jp0kINLhwP4A4wNOXlXE/gDjA05eVcT/4yTaf+3JyP/jJNp/7cnI/b1utal9Qcz9vW61qX1BzP5c2KlkrmnM/lzYqWSuacz+/EadH9+NzP78Rp0f343M/5+wjNsMtdD/n7CM2wy10Pw/IoCSPd3Q/D8igJI93dD83ox0TW8F0PzejHRNbwXQ/hlkX8PJUdT+GWRfw8lR1P640lN6+nnU/rjSU3r6edT/+6o27VjJ2P/7qjbtWMnY/JsYKqiJ8dj8mxgqqInx2P3Z8BIe6D3c/dnwEh7oPdz+eV4F1hll3P55XgXWGWXc/xTL+Y1Kjdz/FMv5jUqN3P2Wf8R2Cyng/ZZ/xHYLKeD/dMGjp5ad5P90waOnlp3k/fJ1boxXPej98nVujFc96PxsKT11F9ns/GwpPXUX2ez9D5ctLEUB8P0Ply0sRQHw/a8BIOt2JfD9rwEg63Yl8P+NRvwVBZ30/41G/BUFnfT8LLTz0DLF9PwstPPQMsX0/gr6yv3COfj+CvrK/cI5+P/pPKYvUa38/+k8pi9Rrfz/E7wTu5SaBP8TvBO7lJoE/7MqB3LFwgT/syoHcsXCBP4A4wNOXlYE/gDjA05eVgT9HgDB8kwaDP0eAMHyTBoM/vxGnR/fjgz+/EadH9+ODP3taYi2pUoQ/e1piLalShD8PyKAkj3eEPw/IoCSPd4Q/ozXfG3WchD+jNd8bdZyEPzejHRNbwYQ/N6MdE1vBhD/z69j4DDCFP/Pr2PgMMIU/GsdV59h5hT8ax1Xn2HmFP640lN6+noU/rjSU3r6ehT/WDxHNiuiFP9YPEc2K6IU/an1PxHANhj9qfU/EcA2GP5JYzLI8V4Y/kljMsjxXhj92fASHug+HP3Z8BIe6D4c/nleBdYZZhz+eV4F1hlmHPzHFv2xsfoc/McW/bGx+hz9ZoDxbOMiHP1mgPFs4yIc/IeisAzQ5iT8h6KwDNDmJP0nDKfL/gok/ScMp8v+CiT/dMGjp5aeJP90waOnlp4k/mHkjz5cWij+YeSPPlxaKP8BUoL1jYIo/wFSgvWNgij98nVujFc+KP3ydW6MVz4o/pHjYkeEYiz+keNiR4RiLP8xTVYCtYos/zFNVgK1iiz+vd41UKxuMP693jVQrG4w//y2HMcOujD//LYcxw66MP3e//fwmjI0/d7/9/CaMjT+fmnrr8tWNP5+aeuvy1Y0/gr6yv3COjj+CvrK/cI6OPxYs8bZWs44/Fizxtlazjj/6TymL1GuPP/pPKYvUa48/F5UtHvVbkD8XlS0e9VuQP6sCbBXbgJA/qwJsFduAkD91OQsRTpOQP3U5CxFOk5A/P3CqDMGlkD8/cKoMwaWQPwmnSQg0uJA/CadJCDS4kD/S3egDp8qQP9Ld6AOnypA/+rhl8nIUkT/6uGXychSRPyKU4uA+XpE/IpTi4D5ekT8Upv7KfbqRPxSm/sp9upE/PIF7uUkEkj88gXu5SQSSP9DuubAvKZI/0O65sC8pkj+MN3WW4ZeSP4w3dZbhl5I/IKWzjce8kj8gpbONx7ySPxG3z3cGGZM/EbfPdwYZkz9vW61qX1CTP29brWpfUJM/A8nrYUV1kz8DyethRXWTP3taYi2pUpQ/e1piLalSlD/Z/j8gAoqUP9n+PyACipQ/ozXfG3WclD+jNd8bdZyUP19+mgEnC5U/X36aAScLlT/WDxHNiuiVP9YPEc2K6JU/oEawyP36lT+gRrDI/fqVP7ozSaEIoZY/ujNJoQihlj+Eauice7OWP4Rq6Jx7s5Y/TqGHmO7Flj9OoYeY7sWWPxjYJpRh2JY/GNgmlGHYlj8K6kJ+oDSXPwrqQn6gNJc/nleBdYZZlz+eV4F1hlmXP/v7XmjfkJc/+/teaN+Qlz/tDXtSHu2XP+0Ne1Ie7Zc/c43VM0NumD9zjdUzQ26YP7VV6/oZXpk/tVXr+hlemT/dMGjp5aeZP90waOnlp5k/LOdhxn07mj8s52HGfTuaP6R42JHhGJs/pHjYkeEYmz9ur3eNVCubP26vd41UK5s/lor0eyB1mz+WivR7IHWbP2DBk3eTh5s/YMGTd5OHmz8q+DJzBpqbPyr4MnMGmps/9C7Sbnmsmz/0LtJueaybP75lcWrsvps/vmVxauy+mz+InBBmX9GbP4icEGZf0Zs/GwpPXUX2mz8bCk9dRfabP+VA7li4CJw/5UDuWLgInD8NHGtHhFKcPw0ca0eEUpw/yWQmLTbBnD/JZCYtNsGcP/E/oxsCC50/8T+jGwILnT8zCLni2PqdPzMIueLY+p0/7lB0yIppnj/uUHTIimmePz4HbqUi/Z4/CD4NoZUPnz8IPg2hlQ+fP9J0rJwIIp8/0nSsnAginz9m4uqT7kafP2bi6pPuRp8/WPQGfi2jnz9Y9AZ+LaOfP7nwTyucJKA/ufBPK5wkoD+y+V2gu1KgP7L5XaC7UqA/qwJsFduAoD+rAmwV24CgP3U5CxFOk6A/dTkLEU6ToD9mSyf7jO+gP2ZLJ/uM76A/lR2WdDkLoT+VHZZ0OQuhP1hdQ+XLS6E/IpTi4D5eoT+HL7JeeGehP4cvsl54Z6E/UWZRWut5oT9RZlFa63mhP7YBIdgkg6E/tgEh2CSDoT8bnfBVXoyhPxud8FVejKE/Sm9fzwqooT9Kb1/PCqihPxSm/sp9uqE/FKb+yn26oT9DeG1EKtahP0N4bUQq1qE/Da8MQJ3ooT8NrwxAneihPzyBe7lJBKI/PIF7uUkEoj8GuBq1vBaiPwa4GrW8FqI/NYqJLmkyoj81iokuaTKiP8n3xyVPV6I/yffHJU9Xoj8nnKUYqI6iPyecpRiojqI/jDd1luGXoj+MN3WW4ZeiP/HSRBQboaI/8dJEFBuhoj+sGwD6zA+jP6wbAPrMD6M/CsDd7CVHoz8KwN3sJUejPyukaFARv6M/K6RoUBG/oz+4GrW8FhKkP7gatbwWEqQ/TIjzs/w2pD9MiPOz/DakP0WRASkcZaQ/RZEBKRxlpD/z69j4DDClP/Pr2PgMMKU/E9BjXPinpT8T0GNc+KelPzur4ErE8aU/O6vgSsTxpT+gRrDI/fqlP6BGsMj9+qU/mU++PR0ppj+ZT749HSmmP8ghLbfJRKY/yCEtt8lEpj/pBbgatbymP+kFuBq1vKY/1CDieRNHpz/UIOJ5E0enP/v7XmjfkKc/+/teaN+Qpz/FMv5jUqOnP8Uy/mNSo6c/sE0ow7AtqD+wTSjDsC2oP6lWNjjQW6g/qVY2ONBbqD9sluOoYpyoP2yW46hinKg/m2hSIg+4qD+baFIiD7ioP5RxYJcu5qg/lHFgly7mqD8o356OFAupPyjfno4UC6k/hoN8gW1CqT+Gg3yBbUKpPwsD12KSw6k/CwPXYpLDqT8EDOXXsfGpPwQM5dex8ak/aae0Vev6qT9pp7RV6/qpP5h5I8+XFqo/mHkjz5cWqj/9FPNM0R+qP/0U80zRH6o/kYIxRLdEqj+RgjFEt0SqP4OUTS72oKo/g5RNLvagqj9Ny+wpabOqP03L7Clps6o/FwKMJdzFqj8XAowl3MWqP+E4KyFP2Ko/4TgrIU/Yqj8/3QgUqA+rPz/dCBSoD6s/bq93jVQrqz9ur3eNVCurPzjmFonHPas/OOYWicc9qz+dgeYGAUerP52B5gYBR6s/Z7iFAnRZqz9nuIUCdFmrPzHvJP7ma6s/Me8k/uZrqz/7JcT5WX6rP/slxPlZfqs/Kvgycwaaqz8q+DJzBpqrPyMBQeglyKs/IwFB6CXIqz+InBBmX9GrP4icEGZf0as/7Tfg45jaqz/tN+DjmNqrP7duf98L7as/t25/3wvtqz+vd41UKxusPxQTXdJkJKw/ea4sUJ4trD95rixQni2sP6iAm8lKSaw/qICbyUpJrD8NHGtHhFKsPw0ca0eEUqw/crc6xb1brD9ytzrFvVusP5qSt7OJpaw/mpK3s4mlrD//LYcxw66sP/8thzHDrqw/XdJkJBzmrD9d0mQkHOasP8JtNKJV76w/wm00olXvrD8ZGyAKzlStPxkbIArOVK0/EiQuf+2CrT8SJC5/7YKtP9xazXpgla0/3FrNemCVrT9wyAtyRrqtP3DIC3JGuq0/1WPb73/DrT/VY9vvf8OtPzr/qm25zK0/Ov+qbbnMrT/HdffZvh+uP8d199m+H64/kKyW1TEyrj+QrJbVMTKuP1rjNdGkRK4/WuM10aRErj9M9VG746CuP0z1UbvjoK4/qpkvrjzYrj+qmS+uPNiuPz4HbqUi/a4/PgdupSL9rj/SdKycCCKvP9J0rJwIIq8/X+v4CA51rz9f6/gIDnWvP7aY5HCG2q8/tpjkcIbarz9rvjfqOCmwP2u+N+o4KbA/0FkHaHIysD/QWQdocjKwP01ejiKCSbA/TV6OIoJJsD8XlS0e9VuwPxeVLR71W7A/k5m02ARzsD+TmbTYBHOwP6QLeor6rrA/CadJCDS4sD8BsFd9U+awPwGwV31T5rA/GRkPuin0sD8ZGQ+6KfSwP0jrfTPWD7E/SOt9M9YPsT9fVDVwrB2xP19UNXCsHbE/d73srIIrsT93veysgiuxPwsrK6RoULE/CysrpGhQsT9wxvoholmxP3DG+iGiWbE/kaqFhY3RsT+RqoWFjdGxP7989P457bE/v3z0/jntsT88gXu5SQSyPzyBe7lJBLI/U+oy9h8Ssj9T6jL2HxKyP7GOEOl4SbI/sY4Q6XhJsj9F/E7gXm6yP0X8TuBebrI/jDd1luGXsj+MN3WW4ZeyP9Jym0xkwbI/0nKbTGTBsj9+SZGAIPSyP35JkYAg9LI/MBd5P734sj8wF3k/vfiyP467VjIWMLM/jrtWMhYwsz951oCRdLqzP3nWgJF0urM/9doHTITRsz/12gdMhNGzP+D1MaviW7Q/4PUxq+JbtD/Z/j8gAoq0P9n+PyACirQ/i8wn356OtD+LzCffno60P5VH+wW0+LQ/lUf7BbT4tD+ssLJCiga1P6ywskKKBrU/dudRPv0YtT9251E+/Ri1P45QCXvTJrU/jlAJe9MmtT9Yh6h2Rjm1P1iHqHZGObU/6/TmbSxetT/r9OZtLF61P1CQtutlZ7U/UJC262VntT+uNJTevp61P640lN6+nrU/E9BjXPintT8T0GNc+Ke1P90GA1hrurU/3QYDWGu6tT8M2XHRF9a1PwzZcdEX1rU/JEIpDu7jtT8kQikO7uO1Pzur4ErE8bU/O6vgSsTxtT+gRrDI/fq1P6BGsMj9+rU/UxSYh5r/tT9TFJiHmv+1PwXif0Y3BLY/an1PxHANtj/Yk/Jov4C2P9iT8mi/gLY/i2HaJ1yFtj+LYdonXIW2P7ozSaEIobY/ujNJoQihtj9sATFgpaW2P2wBMWClpbY/ZQo/1cTTtj9lCj/VxNO2P14TTUrkAbc/XhNNSuQBtz9ojiBx+Wu3P2iOIHH5a7c/f/fXrc95tz9/99etz3m3P8Uy/mNSo7c/xTL+Y1Kjtz9xCfSXDta3P9akwxVI37c/O0CTk4Hotz87QJOTgei3PzRJoQihFrg/NEmhCKEWuD9LslhFdyS4P0uyWEV3JLg/c43VM0NuuD9zjdUzQ264P002OuGrvLg/TTY64au8uD8ABCKgSMG4PwAEIqBIwbg/lHFgly7muD+UcWCXLua4P1exDQjBJrk/V7ENCMEmuT8Jf/XGXSu5Pwl/9cZdK7k/6x5M/6ZLuT/rHkz/pku5P53sM75DULk/newzvkNQuT8CiAM8fVm5PwKIAzx9Wbk/zL6iN/BruT/MvqI38Gu5P8XHsKwPmrk/xcewrA+auT8EDOXXsfG5PwQM5dex8bk/zkKE0yQEuj/OQoTTJAS6P4EQbJLBCLo/gRBsksEIuj9LRwuONBu6P0tHC440G7o/LOdhxn07uj8s52HGfTu6P+8mDzcQfLo/7yYPNxB8uj9Uwt60SYW6P1TC3rRJhbo/Hvl9sLyXuj8e+X2wvJe6PzZiNe2Spbo/NmI17ZKluj/oLx2sL6q6P+gvHawvqro/RtT6nojhuj9G1PqeiOG6P09PzsWdS7s/T0/OxZ1Luz/0LtJueay7P/Qu0m55rLs/Wcqh7LK1uz9ZyqHssrW7PyMBQeglyLs/IwFB6CXIuz8EoZcgb+i7PwShlyBv6Ls/ztc2HOL6uz/O1zYc4vq7PzNzBpobBLw/M3MGmhsEvD8sfBQPOzK8Pyx8FA87Mrw/wOlSBiFXvD/A6VIGIVe8P3K3OsW9W7w/crc6xb1bvD+58mB7QIW8P7nyYHtAhbw/dTscYfLzvD91Oxxh8vO8PzCE10akYr0/MITXRqRivT/jUb8FQWe9P0jtjoN6cL0/EiQuf+2CvT8SJC5/7YK9P9xazXpglb0/3FrNemCVvT9B9pz4mZ69P0H2nPiZnr0/Cy089AyxvT8LLTz0DLG9PzMIueLY+r0/Mwi54tj6vT8UqA8bIhu+PxSoDxsiG74/7lB0yIppvj/uUHTIimm+Pwa6KwVhd74/a1X7gpqAvj8dI+NBN4W+P9DwygDUib4/0PDKANSJvj9F/l8wA8++P/jLR++f074/CD4NoZUPvz8IPg2hlQ+/P4VClFulJr8/hUKUW6Umvz/LfboRKFC/P8t9uhEoUL8/rB0RSnFwvz+sHRFKcXC/PwrC7jzKp78/CsLuPMqnvz/U+I04Pbq/P9T4jTg9ur8/sTdtUqEGwD+xN21SoQbAP2MFVRE+C8A/YwVVET4LwD+DJ+8mDzfAP4Mn7yYPN8A/XA5jhl05wD9cDmOGXTnAP8GpMgSXQsA/wakyBJdCwD8mRQKC0EvAPyZFAoLQS8A/i+DR/wlVwD+L4NH/CVXAPy7+5FrLacA/B+VYuhlswD+6skB5tnDAP7qyQHm2cMA/Rmecl6F3wD9GZ5yXoXfAP/g0hFY+fMA/+DSEVj58wD+E6d90KYPAP4Tp33Qpg8A/dTkLEU6TwD91OQsRTpPAPycH88/ql8A/Jwfzz+qXwD8YVx5sD6jAPxhXHmwPqMA/L8DVqOW1wD8vwNWo5bXAP0cpjeW7w8A/RymN5bvDwD8RYCzhLtbAPxFgLOEu1sA/nBSI/xndwD+cFIj/Gd3AP0/ib7624cA/T+JvvrbhwD+0fT888OrAP7R9Pzzw6sA/GRkPuin0wD8ZGQ+6KfTAP/q4ZfJyFME/+rhl8nIUwT85O6nP+h/BPzk7qc/6H8E/EiIdL0kiwT8SIh0vSSLBP8TvBO7lJsE/xO8E7uUmwT+2ASHYJIPBP7YBIdgkg8E/mKF3EG6jwT+YoXcQbqPBP/08R46nrME//TxHjqeswT8cX+GjeNjBP88syWIV3cE/zyzJYhXdwT8NrwxAnejBPw2vDECd6ME/U+oy9h8Swj9T6jL2HxLCPwa4GrW8FsI/BrgatbwWwj9rU+oy9h/CP2tT6jL2H8I/RDpekkQiwj9EOl6SRCLCP+Bgf2IlZcI/4GB/YiVlwj8f48I/rXDCPx/jwj+tcMI/qpceXph3wj+qlx5emHfCPw8z7tvRgMI/DzPu29GAwj+0EvKEreHCP7QS8oSt4cI/P8dNo5jowj8/x02jmOjCP35JkYAg9MI/fkmRgCD0wj8J/uyeC/vCPwn+7J4L+8I/vMvUXaj/wj+8y9RdqP/CP9M0jJp+DcM/0zSMmn4Nwz8Rt893BhnDPxG3z3cGGcM/xIS3NqMdwz/EhLc2ox3DPxpwslABN8M/zD2aD547wz/kplFMdEnDP+SmUUx0ScM/j31HgDB8wz+PfUeAMHzDP0JLLz/NgMM/QksvP82Awz/GCJnS17XDP8YImdLXtcM/t1jEbvzFwz+3WMRu/MXDPxX9oWFV/cM/Ff2hYVX9wz/u4xXBo//DP6Gx/X9ABMQ/LGZZnisLxD8sZlmeKwvEP4JRVLiJJMQ/glFUuIkkxD8Wv5Kvb0nEPxa/kq9vScQ/ksMZan9gxD+Swxlqf2DEPw/IoCSPd8Q/D8igJI93xD9NSuQBF4PEP01K5AEXg8Q/xBlqf2AUxT/EGWp/YBTFPyG+R3K5S8U/Ib5HcrlLxT/Uiy8xVlDFP9SLLzFWUMU/nsLOLMlixT+ews4syWLFP0Hg4YeKd8U/QeDhh4p3xT8LF4GD/YnFPwsXgYP9icU/YQJ8nVujxT9hAnydW6PFP90GA1hrusU/3QYDWGu6xT+4r2cF1AjGP7ivZwXUCMY/Q2TDI78Pxj9DZMMjvw/GP/Yxq+JbFMY/qP+SofgYxj9MHab8uS3GP0wdpvy5LcY/Hg0o0Sdexj/Q2g+QxGLGP+hDx8yacMY/6EPHzJpwxj/BKjss6XLGP8EqOyzpcsY/ujNJoQihxj+6M0mhCKHGP4buyTiwS8c/hu7JOLBLxz/EcA0WOFfHP8RwDRY4V8c/QXWU0Eduxz9BdZTQR27HP3/3163Pecc/f/fXrc95xz8LrDPMuoDHPwusM8y6gMc/cEcDSvSJxz9wRwNK9InHP92btaAoscc/3Zu1oCixxz+RK46t3wHIP5Erjq3fAcg/DTAVaO8YyD8NMBVo7xjIP+YWicc9G8g/5haJxz0byD+JNJwi/y/IP4k0nCL/L8g/eoTHviNAyD96hMe+I0DIP0S7ZrqWUsg/RLtmupZSyD+CPaqXHl7IP4I9qpceXsg/usj76cWXyD+6yPvpxZfIPx5ky2f/oMg/HmTLZ/+gyD+D/5rlOKrIP4P/muU4qsg/6JpqY3KzyD/ommpjcrPIP3wIqVpY2Mg/fAipWljYyD8v1pAZ9dzIP9Lzo3S28cg/0vOjdLbxyD9eqP+SofjIP16o/5Kh+Mg/6x5M/6ZLyT/rHkz/pkvJPzFacrUpdck/MVpytSl1yT8bs6vGbbPJP82Ak4UKuMk/CwPXYpLDyT++0L4hL8jJP0OOKLU5/ck/Q44otTn9yT+/kq9vSRTKP7+Sr29JFMo/YrDCygopyj9isMLKCinKP3oZegfhNso/ehl6B+E2yj8s52HGfTvKPyznYcZ9O8o/JfBvO51pyj8l8G87nWnKPxZAm9fBeco/FkCb18F5yj9ce8GNRKPKP1x7wY1Eo8o/To3dd4P/yj8BW8U2IATLP6R42JHhGMs/VkbAUH4dyz92aFpmT0nLP3ZoWmZPScs/SFjcOr15yz9IWNw6vXnLP8VcY/XMkMs/xVxj9cyQyz9QEb8TuJfLP1ARvxO4l8s/3MUaMqOeyz/cxRoyo57LP+VA7li4CMw/5UDuWLgIzD/WkBn13BjMP9aQGfXcGMw/x+BEkQEpzD/H4ESRASnMP7nyYHtAhcw/ufJge0CFzD8ejjD5eY7MP9BbGLgWk8w/okuajITDzD+iS5qMhMPMPwfnaQq+zMw/B+dpCr7MzD+6tFHJWtHMP2yCOYj31cw/RyueNWAkzT9HK541YCTNP5wWmU++Pc0/nBaZT749zT+VH6fE3WvNP5Ufp8Tda80/IdQC48hyzT8h1ALjyHLNP/PDhLc2o80/88OEtzajzT+nU13E7fPNP6dTXcTt880/oFxrOQ0izj9SKlP4qSbOP97erhaVLc4/3t6uFpUtzj/IN+gn2WvOP8g36CfZa84/kzB4cWbKzj+TMHhxZsrOP11nF23Z3M4/XWcXbdnczj/Za54n6fPOP9lrnifp884/W61qX1AT0D9brWpfUBPQPzWU3r6eFdA/NZTevp4V0D97bgxOFBnQP3tuDE4UGdA/4Ancy00i0D/gCdzLTSLQP4vg0f8JVdA/i+DR/wlV0D/oI7fLVWbQP+gjt8tVZtA/Lv7kWstp0D8u/uRay2nQP4xByiYXe9A/jEHKJhd70D8X9iVFAoLQPxf2JUUCgtA/wmsjUrGO0D/CayNSsY7QPz/RojPOy9A/P9GiM87L0D+sxFxj9czQP26jEa1659A/bqMRrXrn0D9fVDVwrB3RP19UNXCsHdE/d73srIIr0T93veysgivRPwNySMttMtE/3Fi8Krw00T9ITHZa4zXRP0hMdlrjNdE/A9NA8npY0T9wxvoholnRP0FVhM8CZNE/QVWEzwJk0T+A18esim/RP4DXx6yKb9E//NtOZ5qG0T/8205nmobRP9XCwsboiNE/1cLCxuiI0T/9PEeOp6zRP/08R46nrNE/zsvQOwi30T/Oy9A7CLfRP0vQV/YXztE/S9BX9hfO0T/u7WpR2eLRP+7talHZ4tE/769bn/Mu0j/vr1uf8y7SP4N+kr3medI/g36SveZ50j+jPzSsqn/SP6M/NKyqf9I/0hGjJVeb0j/SEaMlV5vSPwg8/FDxrtI/CDz8UPGu0j9v+rRDUirTP0jhKKOgLNM/Z6LKkWQy0z9AiT7xsjTTP3ezlxxNSNM/d7OXHE1I0z/kplFMdEnTP+SmUUx0SdM/Qeo2GMBa0z9B6jYYwFrTP6dH9+MTsNM/p0f34xOw0z+QPzjOSsjTP5A/OM5KyNM/13pehM3x0z/Xel6EzfHTP88idNLf+dM/zyJ00t/50z9r6Jx7sxbUP2vonHuzFtQ/J5JQiHKr1D8nklCIcqvUP6OW10KCwtQ/fX1LotDE1D8B2rwOztPUPwHavA7O09Q/08k+4zsE1T/TyT7jOwTVPz+9+BJjBdU/GaRscrEH1T+dAN7erhbVP3bnUT79GNU/jrEBouBM1T+OsQGi4EzVP3nMKwE/19U/UrOfYI3Z1T/PtyYbnfDVP6iemnrr8tU/PG3RmN491j88bdGY3j3WP+FM1UG6ntY/ujNJoQih1j9dUVz8ybXWP11RXPzJtdY/CShSMIbo1j/iDsaP1OrWP9q2293m8tY/2rbb3eby1j9IbIZbKEDXP0hshlsoQNc/MWTHRV9Y1z8KSzulrVrXP6fSVJybw9c/gLnI++nF1z/trIIrEcfXP+2sgisRx9c/eGHeSfzN1z94Yd5J/M3XP7/9/CaMHdg/meRwhtof2D96hMe+I0DYP1NrOx5yQtg/IUmlKkFf2T8hSaUqQV/ZP3Jgly7mGNo/S0cLjjQb2j/aQTmWbgbbP9pBOZZuBts/+QLbhDIM2z/S6U7kgA7bP4UYL8oqOds/X/+iKXk72z/8SK1ugfDbP9YvIc7P8ts/qB+joj0j3D+BBhcCjCXcPz2wyg5Lutw/F5c+bpm83D/KJhd7UA3dP6QNi9qeD90/V51j51Vg3T8whNdGpGLdPwprS6byZN0/CmtLpvJk3T9gtz7nXaTdP2C3PuddpN0/9eZtLF4V3j/OzeGLrBfeP/2fUAVZM94//Z9QBVkz3j8vuJFoVDPfPy+4kWhUM98/Mdt63Xul3z8Kwu48yqffP/O5LycBwN8/zaCjhk/C3z+w8FE87MjgPxzkC2wTyuA/3yO53KUK4T9MF3MMzQvhP7sJ5A+Os+I/J/2dP7W04j/Pp56aeuviPzubWMqh7OI/1JWEwYsz4z9AiT7xsjTjP5oBJwsVcOM/B/XgOjxx4z+1T7gKLTzkPyFDcjpUPeQ/YMW1F9xI5D/MuG9HA0rkP3cubVSyVuQ/5CEnhNlX5D+PlySRiGTkP/uK3sCvZeQ/bWx+F+iu5D/ZXzhHD7DkP19+mgEnC+U/y3FUMU4M5T9rY3KzGCXlP9dWLOM/JuU/dN5F2i2P5T/h0f8JVZDlP7+mWZC02uU/K5oTwNvb5T/S4xv0k+zlPz/X1SO77eU/6w7EfoRG5j9YAn6uq0fmP0hSqUrQV+Y/tUVjevdY5j81dt8N/mvmP6JpmT0lbeY/bKA4OZh/5j/Yk/Jov4DmP9GcAN7eruY/PpC6DQaw5j9SzXxx5cHmP77ANqEMw+Y/IW3Xy84q6D+NYJH79SvoP1IkIAi9BOk/vxfaN+QF6T9favDgu0TpP8xdqhDjRek/Wz77B8VI6T/IMbU37EnpPyV1mgM4W+k/kmhUM19c6T8efqh4V4npP4txYqh+iuk/VagBpPGc6T/Bm7vTGJ7pP3UrlODP7uk/4R5OEPfv6T8YSac7kQPqP4U8YWu4BOo/Kxsc6C0M7D+YDtYXVQ3sP2qdX8W1F+w/1pAZ9dwY7D/idfGmzjLsP09pq9b1M+w/rKyQokFF7D8ZoErSaEbsP64wcj523ew/GyQsbp3e7D+fgJ3amu3sPwx0VwrC7uw/6kixkCE57T9XPGvASDrtP1MQdudRPu0/vwMwF3k/7T+lz3souVvtPxHDNVjgXO0/82KMkCl97T9fVkbAUH7tP34X6K4UhO0/6wqi3juF7T8iNfsJ1pjtP44otTn9me0/wocRs63X7T8ue8vi1NjtP0IZhm3BEO4/rwxAnegR7j/OzeGLrBfuPzvBm7vTGO4/Lz28MO8k7j+cMHZgFibuP3UX6r9kKO4/4gqk74sp7j87IpTi4D7uP6gVThIIQO4/tPolxPlZ7j8h7t/zIFvuPzyDjAnuZO4/qXZGORVm7j8VagBpPGfuP4JduphjaO4/BrorBWF37j9yreU0iHjuPzm4j1cEj+4/patJhyuQ7j900M6pr+ruP+HDiNnW6+4/P2hmzC8j7z+rWyD8ViTvP4VClFulJu8/8TVOi8wn7z8dnrh5nJPvP4qRcqnDlO8/pSYfv5Ce7z8SGtnut5/vP8G7y9RdqO8/La+FBIWp7z+xC/dwgrjvPx7/sKCpue8/AAAAAAAA8D8=",
          "dtype": "f8"
         },
         "y": {
          "bdata": "AAAAAAAAAADOaNWHUXhDP85o1YdReHM/Tsq6fISjjz9bv1Kg1q+UPwHDyullVpg/qMZCM/X8mz/6ZhnjCaWhP0ESWG/MQKI/FBQUFBQUpD9EwLByepmlPxfCbBfCbKc/MW9nSMzbqT94GqbUjneqP6jGQjP1/Ks/NB3AS3o0rT8IH3zwwQevP6t0mzajVa8/yrp8hKMfsD8RZrsQZruwP+IQy7NW4rA/hmbq+TcwsT9vZ0jM2xmyPxK9ZxK9Z7I/h72W+47csj/OaNWHUXizP58T5SpCn7M/QmkEcSPtsz8UFBQUFBS0P7dpM1r1YbQ/iRRD/eWItD/+FHLmt/20P6FqkSyZS7U/5xXQuFvntT9cFv+hLVy2P/9rHugOqrY/0RYui//Qtj8XwmwXwmy3P7sXjF2jurc/Xm2ro4QIuD8vGLtGdS+4P9Nt2oxWfbg/dsP50jfLuD9gxFel27S5P3gaptSOd7o/G3DFGnDFuj+QcPQDQjq7P2EbBKcyYbs/BHEj7ROvuz/WGzOQBNa7PxzHcRzHcbw/wByRYqi/vD80HcBLejS9P9hy35Fbgr0/TXMOey33vT/wyC3BDkW+P5MeTQfwkr4/ZclcquC5vj/KunyEox/APwU7FHkMWsA/1uUjHP2AwD9XEfqcKFfBP8wRKYb6y8E/BpLAemMGwj/YPNAdVC3CP6rn38BEVMI/e5LvYzV7wj9NPf8GJqLCPx7oDqoWycI/WWimnn8Dwz8qE7ZBcCrDP/y9xeRgUcM/2pN8H6vZwz996ZtljCfEP/Lpyk5enMQ/w5Ta8U7DxD/Pv4GJqCTFP6FqkSyZS8U/cxWhz4lyxT9EwLByepnFPxZrwBVrwMU/5xXQuFvnxT9Q61cK1PrFPyKWZ63EIcY//2se6A6qxj/RFi6L/9DGPwuXxX9oC8c/r+zkxUlZxz8XwmwXwmzHP+lsfLqyk8c/O0Ni3s6QyD8N7nGBv7fIP7BDkcegBck/VJmwDYJTyT/UxIaOrSnKP6ZvljGeUMo/4O8tJgeLyj+ymj3J97HKP4RFTWzo2Mo/VfBcD9n/yj9hGwSnMmHLPzPGE0ojiMs/qR3vNEypzT97yP7XPNDNP8FzPWT/a84/kx5NB/CSzj9/pUCtXynQP+h6yP7XPNA/bhCcyoRt0D/W5SMc/YDQPyRSDPWXI9I/jCeURhA30j/1/BuYiErSP17So+kAXtI/e5LvYzV70j/kZ3e1rY7SP3Yo8hi0INM/3/15aiw00z/OaNWHUXjTPzY+XdnJi9M/FBQUFBQU1D/mviO3BDvUP2xU94Kxa9Q/1Cl/1Cl/1D+Al/RoOoDXP+lsfLqyk9c/YuX0MisM4D9i5fQyKwzgP+XFSVmXj+A/5cVJWZeP4D8YJ2VdPsLhPxgnZV0+wuE/gPzsrrbV4T+A/OyuttXhP+nRdAAv6eE/6dF0AC/p4T+evDgp6/LhP568OCnr8uE/uMcF/t5i4j+4xwX+3mLiPyGdjU9XduI/IZ2NT1d24j+KchWhz4niP4pyFaHPieI/mFI73mmY4j+YUjveaZjiP+Gy+A9t4eI/4bL4D23h4j88qFokS+biPzyoWiRL5uI/SoiAYeX04j9KiIBh5fTiP7NdCLNdCOM/s10Is10I4z8NU2rHOw3jPw1Tasc7DeM/3/15aiw04z/f/XlqLDTjPxl+EV+VbuM/GX4RX5Vu4z82Pl3ZyYvjPzY+XdnJi+M/kTO/7aeQ4z+RM7/tp5DjP/kIRz8gpOM/+QhHPyCk4z9U/qhT/qjjP1T+qFP+qOM/Yt7OkJi34z9i3s6QmLfjPzSJ3jOJ3uM/NIneM4ne4z+OfkBIZ+PjP45+QEhn4+M/nV5mhQHy4z+dXmaFAfLjPwU07tZ5BeQ/BTTu1nkF5D+6HrL/NQ/kP7oesv81D+Q/1979eWos5D/X3v15aizkPzHUX45IMeQ/MdRfjkgx5D+LycGiJjbkP4vJwaImNuQ/5r4jtwQ75D/mviO3BDvkP0C0hcviP+Q/QLSFy+I/5D+aqeffwETkP5qp59/AROQ/t2kzWvVh5D+3aTNa9WHkP8ZJWZePcOQ/xklZl49w5D8gP7urbXXkPyA/u6ttdeQ/ejQdwEt65D96NB3AS3rkPy8f4egHhOQ/Lx/h6AeE5D89/wYmopLkPz3/BiaikuQ/TN8sYzyh5D9M3yxjPKHkP6bUjncapuQ/ptSOdxqm5D+1tLS0tLTkP7W0tLS0tOQ/D6oWyZK55D8PqhbJkrnkP2mfeN1wvuQ/aZ943XC+5D/DlNrxTsPkP8OU2vFOw+Q/Hoo8Bi3I5D8eijwGLcjkP3h/nhoLzeQ/eH+eGgvN5D/SdAAv6dHkP9J0AC/p0eQ/O0qIgGHl5D87SoiAYeXkP0kqrr378+Q/SSquvfvz5D+kHxDS2fjkP6QfENLZ+OQ//hRy5rf95D/+FHLmt/3kP7L/NQ90B+U/sv81D3QH5T8M9ZcjUgzlPwz1lyNSDOU/dcofdcof5T91yh91yh/lPyq1452GKeU/KrXjnYYp5T+EqkWyZC7lP4SqRbJkLuU/3p+nxkIz5T/en6fGQjPlPziVCdsgOOU/OJUJ2yA45T+Simvv/jzlP5KKa+/+POU/7X/NA91B5T/tf80D3UHlP0d1Lxi7RuU/R3UvGLtG5T+hapEsmUvlP6FqkSyZS+U/+1/zQHdQ5T/7X/NAd1DlP1VVVVVVVeU/VVVVVVVV5T+wSrdpM1rlP7BKt2kzWuU/CkAZfhFf5T8KQBl+EV/lP74q3abNaOU/virdps1o5T+B9cYMJIHlP4H1xgwkgeU/kNXsSb6P5T+Q1exJvo/lP+rKTl6clOU/6spOXpyU5T9EwLByepnlP0TAsHJ6meU/nrUSh1ie5T+etRKHWJ7lP/mqdJs2o+U/+ap0mzaj5T+tlTjE8qzlP62VOMTyrOU/B4ua2NCx5T8Hi5rY0LHlP2GA/OyutuU/YYD87K625T+8dV4BjbvlP7x1XgGNu+U/FmvAFWvA5T8Wa8AVa8DlP3BgIipJxeU/cGAiKknF5T/KVYQ+J8rlP8pVhD4nyuU/2TWqe8HY5T/ZNap7wdjlPzMrDJCf3eU/MysMkJ/d5T+NIG6kfeLlP40gbqR94uU/5xXQuFvn5T/nFdC4W+flP0ILMs057OU/QgsyzTns5T+cAJThF/HlP5wAlOEX8eU/9vX19fX15T/29fX19fXlPwXWGzOQBOY/BdYbM5AE5j9fy31HbgnmP1/LfUduCeY/baujhAgY5j9tq6OECBjmP8igBZnmHOY/yKAFmeYc5j8ilmetxCHmPyKWZ63EIeY/1oAr1oAr5j/WgCvWgCvmPzB2jepeMOY/MHaN6l4w5j/lYFETGzrmP+VgURMbOuY/P1azJ/k+5j8/VrMn+T7mP5lLFTzXQ+Y/mUsVPNdD5j/zQHdQtUjmP/NAd1C1SOY/TjbZZJNN5j9ONtlkk03mPwIhnY1PV+Y/AiGdjU9X5j9cFv+hLVzmP1wW/6EtXOY/EQHDyull5j8RAcPK6WXmP2v2JN/HauY/a/Yk38dq5j/F64bzpW/mP8XrhvOlb+Y/H+HoB4R05j8f4egHhHTmP3nWShxieeY/edZKHGJ55j/Uy6wwQH7mP9TLrDBAfuY/LsEORR6D5j8uwQ5FHoPmP+Kr0m3ajOY/4qvSbdqM5j/xi/iqdJvmP/GL+Kp0m+Y/S4Fav1Kg5j9LgVq/UqDmP/9rHugOquY//2se6A6q5j+0VuIQy7PmP7RW4hDLs+Y/DkxEJam45j8OTEQlqbjmP2hBpjmHveY/aEGmOYe95j/CNghOZcLmP8I2CE5lwuY/dyHMdiHM5j93Icx2IczmPysMkJ/d1eY/KwyQn93V5j+FAfKzu9rmP4UB8rO72uY/4PZTyJnf5j/g9lPImd/mPzrstdx35OY/Ouy13Hfk5j9IzNsZEvPmP0jM2xkS8+Y/o8E9LvD35j+jwT0u8PfmP/22n0LO/OY//bafQs785j9XrAFXrAHnP1esAVesAec/C5fFf2gL5z8Ll8V/aAvnP2aMJ5RGEOc/ZownlEYQ5z/AgYmoJBXnP8CBiagkFec/zmGv5b4j5z/OYa/lviPnPylXEfqcKOc/KVcR+pwo5z/dQdUiWTLnP91B1SJZMuc/kSyZSxU85z+RLJlLFTznP6AMv4ivSuc/oAy/iK9K5z9U94Kxa1TnP1T3grFrVOc/r+zkxUlZ5z+v7OTFSVnnPwniRtonXuc/CeJG2ide5z+9zAoD5GfnP73MCgPkZ+c/crfOK6Bx5z9yt84roHHnP8ysMEB+duc/zKwwQH525z8mopJUXHvnPyaiklRce+c/gJf0aDqA5z+Al/RoOoDnPzWCuJH2iec/NYK4kfaJ5z+Pdxqm1I7nP493GqbUjuc/6Wx8urKT5z/pbHy6spPnP0Ni3s6QmOc/Q2LezpCY5z+dV0Djbp3nP51XQONunec/+Eyi90yi5z9SQgQMK6fnP1JCBAwrp+c/rDdmIAms5z+sN2YgCaznPwYtyDTnsOc/Bi3INOew5z9gIipJxbXnP2AiKknFtec/uxeMXaO65z+7F4xdo7rnPxUN7nGBv+c/FQ3ucYG/5z9vAlCGX8TnP28CUIZfxOc/yfexmj3J5z/J97GaPcnnP37idcP50uc/fuJ1w/nS5z+MwpsAlOHnP4zCmwCU4ec/jMKbAJTh5z+MwpsAlOHnP+a3/RRy5uc/5rf9FHLm5z9BrV8pUOvnP0GtXylQ6+c/m6LBPS7w5z+bosE9LvDnP/WXI1IM9ec/9ZcjUgz15z9PjYVm6vnnP0+NhWbq+ec/BHhJj6YD6D8EeEmPpgPoP15tq6OECOg/Xm2ro4QI6D+4Yg24Yg3oP7hiDbhiDeg/ElhvzEAS6D8SWG/MQBLoP2xN0eAeF+g/bE3R4B4X6D/HQjP1/BvoP8dCM/X8G+g/ITiVCdsg6D8hOJUJ2yDoP3st9x25Jeg/ey33Hbkl6D/VIlkylyroP9UiWTKXKug/Lxi7RnUv6D8vGLtGdS/oP+QCf28xOeg/5AJ/bzE56D8++OCDDz7oPz744IMPPug/8uKkrMtH6D/y4qSsy0foP03YBsGpTOg/TdgGwalM6D+nzWjVh1HoP6fNaNWHUeg/AcPK6WVW6D8Bw8rpZVboP1u4LP5DW+g/W7gs/kNb6D8Qo/AmAGXoPxCj8CYAZeg/aphSO95p6D9qmFI73mnoP3h4eHh4eOg/eHh4eHh46D/TbdqMVn3oP9Nt2oxWfeg/LWM8oTSC6D8tYzyhNILoP4dYnrUSh+g/h1ietRKH6D/hTQDK8IvoP+FNAMrwi+g/O0Ni3s6Q6D87Q2LezpDoP5Y4xPKsleg/ljjE8qyV6D/wLSYHi5roP/AtJgeLmug/SiOIG2mf6D9KI4gbaZ/oP6QY6i9HpOg/pBjqL0ek6D/+DUxEJanoP/4NTEQlqeg/s/gPbeGy6D+z+A9t4bLoPw3ucYG/t+g/De5xgb+36D9n49OVnbzoP2fj05WdvOg/wdg1qnvB6D/B2DWqe8HoPxzOl75Zxug/HM6XvlnG6D92w/nSN8voP3bD+dI3y+g/Kq69+/PU6D8qrr3789ToP4SjHxDS2eg/hKMfENLZ6D/fmIEksN7oP9+YgSSw3ug/OY7jOI7j6D85juM4juPoP5ODRU1s6Og/k4NFTWzo6D9Hbgl2KPLoP0duCXYo8ug/omNrigb36D+iY2uKBvfoP/xYzZ7k++g//FjNnuT76D9WTi+zwgDpP1ZOL7PCAOk/sEORx6AF6T+wQ5HHoAXpP2UuVfBcD+k/ZS5V8FwP6T+/I7cEOxTpP78jtwQ7FOk/GRkZGRkZ6T8ZGRkZGRnpP3MOey33Hek/cw57Lfcd6T/NA91B1SLpP80D3UHVIuk/KPk+VrMn6T8o+T5WsyfpP4LuoGqRLOk/gu6gapEs6T/c4wJ/bzHpP9zjAn9vMek/Ntlkk0026T822WSTTTbpP5HOxqcrO+k/kc7Gpys76T9FuYrQ50TpP0W5itDnROk/n67s5MVJ6T+fruzkxUnpP/mjTvmjTuk/+aNO+aNO6T9UmbANglPpP1SZsA2CU+k/YnnWShxi6T9iedZKHGLpPxdkmnPYa+k/F2Sac9hr6T/LTl6clHXpP8tOXpyUdek/fzkixVB/6T9/OSLFUH/pP9ouhNkuhOk/2i6E2S6E6T80JObtDInpPzQk5u0Miek/jhlIAuuN6T+OGUgC643pP+gOqhbJkuk/6A6qFsmS6T9CBAwrp5fpP0IEDCunl+k/nfltP4Wc6T+d+W0/hZzpP/fuz1Njoek/9+7PU2Oh6T9R5DFoQabpP1HkMWhBpuk/YMRXpdu06T9gxFel27TpP26kfeJ1w+k/bqR94nXD6T/Imd/2U8jpP8iZ3/ZTyOk/I49BCzLN6T8jj0ELMs3pP32Eox8Q0uk/fYSjHxDS6T/XeQU07tbpP9d5BTTu1uk/MW9nSMzb6T8xb2dIzNvpP4tkyVyq4Ok/i2TJXKrg6T/mWStxiOXpP+ZZK3GI5ek/QE+NhWbq6T9AT42FZurpP5pE75lE7+k/mkTvmUTv6T9OL7PCAPnpP04vs8IA+ek/Ti+zwgD56T9OL7PCAPnpP6kkFdfe/ek/qSQV19796T8DGnfrvALqPwMad+u8Auo/XQ/Z/5oH6j9dD9n/mgfqP7cEOxR5DOo/twQ7FHkM6j8R+pwoVxHqPxH6nChXEeo/bO/+PDUW6j9s7/48NRbqP8bkYFETG+o/xuRgURMb6j8g2sJl8R/qPyDawmXxH+o/es8kes8k6j96zyR6zyTqP9TEho6tKeo/1MSGjq0p6j8vuuiiiy7qPy+66KKLLuo/ia9Kt2kz6j+Jr0q3aTPqP+OkrMtHOOo/46Ssy0c46j89mg7gJT3qPz2aDuAlPeo/l49w9ANC6j+Xj3D0A0LqP/KE0gjiRuo/8oTSCOJG6j9MejQdwEvqP0x6NB3AS+o/AGX4RXxV6j8AZfhFfFXqP1paWlpaWuo/WlpaWlpa6j+1T7xuOF/qP7VPvG44X+o/aTqAl/Ro6j9pOoCX9GjqP8Mv4qvSbeo/wy/iq9Jt6j8dJUTAsHLqPx0lRMCwcuo/eBqm1I536j94GqbUjnfqP9IPCOlsfOo/0g8I6Wx86j8sBWr9SoHqPywFav1Kgeo/hvrLESmG6j+G+ssRKYbqP+DvLSYHi+o/4O8tJgeL6j875Y865Y/qPzvljzrlj+o/789TY6GZ6j/vz1NjoZnqP0nFtXd/nuo/ScW1d3+e6j+juheMXaPqP6O6F4xdo+o/WKXbtBmt6j9Ypdu0Ga3qP7KaPcn3seo/spo9yfex6j8MkJ/d1bbqPwyQn93Vtuo/wXpjBpLA6j/BemMGksDqP3VlJy9Oyuo/dWUnL07K6j/PWolDLM/qP89aiUMsz+o/z1qJQyzP6j/PWolDLM/qPylQ61cK1Oo/KVDrVwrU6j+ERU1s6NjqP4RFTWzo2Oo/kiVzqYLn6j+SJXOpgufqP+wa1b1g7Oo/7BrVvWDs6j9HEDfSPvHqP0cQN9I+8eo/oQWZ5hz26j+hBZnmHPbqP/v6+vr6+uo/+/r6+vr66j9V8FwP2f/qP1XwXA/Z/+o/r+W+I7cE6z+v5b4jtwTrP6/lviO3BOs/r+W+I7cE6z8K2yA4lQnrPwrbIDiVCes/ZNCCTHMO6z9k0IJMcw7rP3KwqIkNHes/crCoiQ0d6z/NpQqe6yHrP82lCp7rIes/J5tssskm6z8nm2yyySbrP4GQzsanK+s/gZDOxqcr6z/bhTDbhTDrP9uFMNuFMOs/NXuS72M16z81e5LvYzXrP5Bw9ANCOus/kHD0A0I66z/qZVYYID/rP+plVhggP+s/RFu4LP5D6z9EW7gs/kPrP/hFfFW6Tes/+EV8VbpN6z9TO95pmFLrP1M73mmYUus/rTBAfnZX6z+tMEB+dlfrPxYGyM/uaus/FgbIz+5q6z9w+ynkzG/rP3D7KeTMb+s/JObtDIl56z8k5u0MiXnrP37bTyFnfus/fttPIWd+6z/Z0LE1RYPrP9nQsTVFg+s/M8YTSiOI6z8zxhNKI4jrP427dV4Bjes/jbt1XgGN6z/nsNdy35HrP+ew13Lfkes/QaY5h72W6z9BpjmHvZbrP5ybm5ubm+s/nJubm5ub6z/2kP2veaDrP/aQ/a95oOs/qnvB2DWq6z+qe8HYNarrPwRxI+0Tr+s/BHEj7ROv6z+5W+cV0LjrP7lb5xXQuOs/E1FJKq696z8TUUkqrr3rP21Gqz6Mwus/bUarPozC6z/HOw1TasfrP8c7DVNqx+s/IjFvZ0jM6z8iMW9nSMzrP3wm0Xsm0es/fCbReybR6z/WGzOQBNbrP9YbM5AE1us/MBGVpOLa6z8wEZWk4trrP4oG97jA3+s/igb3uMDf6z/l+1jNnuTrP+X7WM2e5Os/P/G64Xzp6z8/8brhfOnrPz/xuuF86es/P/G64Xzp6z+Z5hz2Wu7rP5nmHPZa7us/qMZCM/X86z+oxkIz9fzrPwK8pEfTAew/ArykR9MB7D9csQZcsQbsP1yxBlyxBuw/tqZocI8L7D+2pmhwjwvsP2uRLJlLFew/a5EsmUsV7D/Fho6tKRrsP8WGjq0pGuw/xYaOrSka7D8ffPDBBx/sPx988MEHH+w/eXFS1uUj7D95cVLW5SPsP9NmtOrDKOw/02a06sMo7D8uXBb/oS3sPy5cFv+hLew/iFF4E4Ay7D+IUXgTgDLsP+JG2ideN+w/4kbaJ1437D88PDw8PDzsPzw8PDw8POw/ljGeUBpB7D+WMZ5QGkHsP/EmAGX4Rew/8SYAZfhF7D9LHGJ51krsP0scYnnWSuw/pRHEjbRP7D+lEcSNtE/sP/8GJqKSVOw//wYmopJU7D+08enKTl7sP7Tx6cpOXuw/DudL3yxj7D8O50vfLGPsP2jcrfMKaOw/aNyt8wpo7D/C0Q8I6WzsP8LRDwjpbOw/HMdxHMdx7D8cx3Ecx3HsP3e80zClduw/d7zTMKV27D/RsTVFg3vsP9GxNUWDe+w/K6eXWWGA7D8rp5dZYYDsP4Wc+W0/hew/hZz5bT+F7D+UfB+r2ZPsP5R8H6vZk+w/7nGBv7eY7D/ucYG/t5jsP0hn49OVnew/SGfj05Wd7D+iXEXoc6LsP6JcRehzouw//VGn/FGn7D/9Uaf8UafsP1dHCREwrOw/V0cJETCs7D+xPGslDrHsP7E8ayUOsew/wByRYqi/7D/AHJFiqL/sP3QHVYtkyew/dAdVi2TJ7D/O/LafQs7sP878tp9Czuw/KPIYtCDT7D8o8hi0INPsP4Pnesj+1+w/g+d6yP7X7D/d3Nzc3NzsP93c3Nzc3Ow/N9I+8brh7D830j7xuuHsP0ayZC5V8Ow/RrJkLlXw7D+gp8ZCM/XsP6CnxkIz9ew/+pwoVxH67D/6nChXEfrsP1SSimvv/uw/rofsf80D7T+uh+x/zQPtPwl9TpSrCO0/CX1OlKsI7T9jcrCoiQ3tP2NysKiJDe0/vWcSvWcS7T+9ZxK9ZxLtPxdddNFFF+0/F1100UUX7T9xUtblIxztP3FS1uUjHO0/zEc4+gEh7T/MRzj6ASHtPyY9mg7gJe0/Jj2aDuAl7T+AMvwivirtP4Ay/CK+Ku0/2ideN5wv7T/aJ143nC/tPzQdwEt6NO0/NB3AS3o07T+PEiJgWDntP48SImBYOe0/6QeEdDY+7T/pB4R0Nj7tP0P95YgUQ+0/Q/3liBRD7T+d8ked8kftP53yR53yR+0/9+epsdBM7T/356mx0EztP1LdC8auUe0/Ut0Lxq5R7T+s0m3ajFbtP6zSbdqMVu0/rNJt2oxW7T+s0m3ajFbtPwbIz+5qW+0/BsjP7mpb7T9gvTEDSWDtP2C9MQNJYO0/urKTFydl7T+6spMXJ2XtPxWo9SsFau0/Faj1KwVq7T9vnVdA427tP2+dV0Djbu0/yZK5VMFz7T/JkrlUwXPtP8mSuVTBc+0/yZK5VMFz7T8jiBtpn3jtPyOIG2mfeO0/fX19fX197T99fX19fX3tP9hy35Fbgu0/2HLfkVuC7T8yaEGmOYftPzJoQaY5h+0/jF2juheM7T+MXaO6F4ztP+ZSBc/1kO0/5lIFz/WQ7T9ASGfj05XtP0BIZ+PTle0/mz3J97Ga7T+bPcn3sZrtP08ojSBupO0/TyiNIG6k7T+pHe80TKntP6kd7zRMqe0/AxNRSSqu7T8DE1FJKq7tP14Is10Is+0/XgizXQiz7T+4/RRy5rftP7j9FHLmt+0/EvN2hsS87T8S83aGxLztP2zo2Jqiwe0/bOjYmqLB7T/H3TqvgMbtP8fdOq+Axu0/x906r4DG7T/H3TqvgMbtPyHTnMNey+0/IdOcw17L7T8h05zDXsvtPyHTnMNey+0/e8j+1zzQ7T97yP7XPNDtP9W9YOwa1e0/1b1g7BrV7T+KqCQV197tP4qoJBXX3u0/5J2GKbXj7T/knYYptePtPz6T6D2T6O0/PpPoPZPo7T+YiEpSce3tP5iISlJx7e0/8n2sZk/y7T/yfaxmT/LtP01zDnst9+0/TXMOey337T+naHCPC/ztP6docI8L/O0/AV7So+kA7j8BXtKj6QDuP1tTNLjHBe4/W1M0uMcF7j+1SJbMpQruP7VIlsylCu4/ED744IMP7j8QPvjggw/uP2ozWvVhFO4/ajNa9WEU7j/EKLwJQBnuP8QovAlAGe4/Hh4eHh4e7j8eHh4eHh7uP9MI4kbaJ+4/0wjiRton7j8t/kNbuCzuPy3+Q1u4LO4/h/Olb5Yx7j+H86VvljHuP+HoB4R0Nu4/4egHhHQ27j/wyC3BDkXuP/DILcEORe4/Sr6P1exJ7j9Kvo/V7EnuP0q+j9XsSe4/pLPx6cpO7j+ks/Hpyk7uP/6oU/6oU+4//qhT/qhT7j9ZnrUSh1juP1metRKHWO4/s5MXJ2Vd7j+zkxcnZV3uP7OTFydlXe4/s5MXJ2Vd7j+zkxcnZV3uP7OTFydlXe4/DYl5O0Ni7j8NiXk7Q2LuP2d+208hZ+4/Z37bTyFn7j/Bcz1k/2vuP8FzPWT/a+4/HGmfeN1w7j8caZ943XDuP3ZeAY27de4/dl4Bjbt17j/QU2OhmXruP9BTY6GZeu4/KknFtXd/7j8qScW1d3/uP4Q+J8pVhO4/hD4nylWE7j+EPifKVYTuP4Q+J8pVhO4/hD4nylWE7j+EPifKVYTuP98zid4zie4/3zOJ3jOJ7j85KevyEY7uPzkp6/IRju4/kx5NB/CS7j+THk0H8JLuP+0TrxvOl+4/7ROvG86X7j9HCREwrJzuP0cJETCsnO4/ov5yRIqh7j+i/nJEiqHuP/zz1Fhopu4//PPUWGim7j9W6TZtRqvuP1bpNm1Gq+4/sN6YgSSw7j+w3piBJLDuP7DemIEksO4/sN6YgSSw7j9lyVyq4LnuP2XJXKrgue4/v76+vr6+7j+/vr6+vr7uP7++vr6+vu4/v76+vr6+7j8ZtCDTnMPuPxm0INOcw+4/c6mC53rI7j9zqYLnesjuP82e5PtYze4/zZ7k+1jN7j8olEYQN9LuPyiURhA30u4/gomoJBXX7j+CiagkFdfuP9x+Cjnz2+4/3H4KOfPb7j/cfgo589vuP9x+Cjnz2+4/NnRsTdHg7j82dGxN0eDuP5BpzmGv5e4/kGnOYa/l7j/rXjB2jeruP+teMHaN6u4/RVSSimvv7j9FVJKKa+/uP59J9J5J9O4/n0n0nkn07j/5PlazJ/nuP/k+VrMn+e4/UzS4xwX+7j9TNLjHBf7uP64pGtzjAu8/rika3OMC7z8IH3zwwQfvPwgffPDBB+8/YhTeBKAM7z9iFN4EoAzvP7wJQBl+Ee8/vAlAGX4R7z8W/6EtXBbvPxb/oS1cFu8/cfQDQjob7z9x9ANCOhvvP8vpZVYYIO8/y+llVhgg7z8l38dq9iTvPyXfx2r2JO8/f9Qpf9Qp7z/ZyYuTsi7vP9nJi5OyLu8/NL/tp5Az7z80v+2nkDPvP460T7xuOO8/jrRPvG447z/oqbHQTD3vP+ipsdBMPe8/6Kmx0Ew97z/oqbHQTD3vP0KfE+UqQu8/Qp8T5SpC7z+clHX5CEfvP5yUdfkIR+8/94nXDedL7z/3idcN50vvP1F/OSLFUO8/UX85IsVQ7z+rdJs2o1XvP6t0mzajVe8/BWr9SoFa7z8Fav1KgVrvP7pUwXM9ZO8/ulTBcz1k7z8USiOIG2nvPxRKI4gbae8/bj+FnPlt7z9uP4Wc+W3vP8g057DXcu8/yDTnsNdy7z8iKknFtXfvPyIqScW1d+8/fR+r2ZN87z99H6vZk3zvP9cUDe5xge8/1xQN7nGB7z8xCm8CUIbvPzEKbwJQhu8/i//QFi6L7z+L/9AWLovvP4v/0BYui+8/i//QFi6L7z+L/9AWLovvP4v/0BYui+8/5fQyKwyQ7z/l9DIrDJDvP0DqlD/qlO8/QOqUP+qU7z+a3/ZTyJnvP5rf9lPIme8/9NRYaKae7z/01Fhopp7vP07KunyEo+8/Tsq6fISj7z+ovxyRYqjvP6i/HJFiqO8/A7V+pUCt7z8DtX6lQK3vP12q4Lkesu8/XarguR6y7z+3n0LO/LbvP7efQs78tu8/t59Czvy27z+3n0LO/LbvPxGVpOLau+8/EZWk4tq77z9rigb3uMDvP2uKBve4wO8/a4oG97jA7z9rigb3uMDvP2uKBve4wO8/a4oG97jA7z/Gf2gLl8XvP8Z/aAuXxe8/xn9oC5fF7z/Gf2gLl8XvP8Z/aAuXxe8/xn9oC5fF7z8gdcofdcrvPyB1yh91yu8/IHXKH3XK7z8gdcofdcrvP3pqLDRTz+8/emosNFPP7z96aiw0U8/vP3pqLDRTz+8/1F+OSDHU7z/UX45IMdTvPy5V8FwP2e8/LlXwXA/Z7z8uVfBcD9nvPy5V8FwP2e8/LlXwXA/Z7z8uVfBcD9nvP4lKUnHt3e8/iUpSce3d7z/jP7SFy+LvP+M/tIXL4u8/4z+0hcvi7z/jP7SFy+LvP+M/tIXL4u8/4z+0hcvi7z89NRaaqefvPz01Fpqp5+8/PTUWmqnn7z89NRaaqefvP5cqeK6H7O8/lyp4rofs7z+XKniuh+zvP5cqeK6H7O8/lyp4rofs7z+XKniuh+zvP5cqeK6H7O8/lyp4rofs7z+XKniuh+zvP5cqeK6H7O8/lyp4rofs7z+XKniuh+zvP5cqeK6H7O8/lyp4rofs7z+XKniuh+zvP5cqeK6H7O8/8R/awmXx7z/xH9rCZfHvP0wVPNdD9u8/TBU810P27z9MFTzXQ/bvP0wVPNdD9u8/pgqe6yH77z+mCp7rIfvvPwAAAAAAAPA/AAAAAAAA8D8AAAAAAADwPwAAAAAAAPA/AAAAAAAA8D8AAAAAAADwPwAAAAAAAPA/AAAAAAAA8D8AAAAAAADwPwAAAAAAAPA/AAAAAAAA8D8AAAAAAADwPwAAAAAAAPA/AAAAAAAA8D8AAAAAAADwPwAAAAAAAPA/AAAAAAAA8D8AAAAAAADwPwAAAAAAAPA/AAAAAAAA8D8AAAAAAADwPwAAAAAAAPA/AAAAAAAA8D8AAAAAAADwPwAAAAAAAPA/AAAAAAAA8D8AAAAAAADwPwAAAAAAAPA/AAAAAAAA8D8AAAAAAADwPwAAAAAAAPA/AAAAAAAA8D8AAAAAAADwPwAAAAAAAPA/AAAAAAAA8D8AAAAAAADwPwAAAAAAAPA/AAAAAAAA8D8AAAAAAADwPwAAAAAAAPA/AAAAAAAA8D8AAAAAAADwPwAAAAAAAPA/AAAAAAAA8D8AAAAAAADwPwAAAAAAAPA/AAAAAAAA8D8AAAAAAADwPwAAAAAAAPA/AAAAAAAA8D8AAAAAAADwPwAAAAAAAPA/AAAAAAAA8D8AAAAAAADwPwAAAAAAAPA/AAAAAAAA8D8AAAAAAADwPwAAAAAAAPA/AAAAAAAA8D8AAAAAAADwPwAAAAAAAPA/AAAAAAAA8D8AAAAAAADwPwAAAAAAAPA/AAAAAAAA8D8AAAAAAADwPwAAAAAAAPA/AAAAAAAA8D8AAAAAAADwPwAAAAAAAPA/AAAAAAAA8D8AAAAAAADwPwAAAAAAAPA/AAAAAAAA8D8AAAAAAADwPwAAAAAAAPA/AAAAAAAA8D8AAAAAAADwPwAAAAAAAPA/AAAAAAAA8D8AAAAAAADwPwAAAAAAAPA/AAAAAAAA8D8AAAAAAADwPwAAAAAAAPA/AAAAAAAA8D8AAAAAAADwPwAAAAAAAPA/AAAAAAAA8D8AAAAAAADwPwAAAAAAAPA/AAAAAAAA8D8AAAAAAADwPwAAAAAAAPA/AAAAAAAA8D8AAAAAAADwPwAAAAAAAPA/AAAAAAAA8D8AAAAAAADwPwAAAAAAAPA/AAAAAAAA8D8AAAAAAADwPwAAAAAAAPA/AAAAAAAA8D8AAAAAAADwPwAAAAAAAPA/AAAAAAAA8D8AAAAAAADwPwAAAAAAAPA/AAAAAAAA8D8AAAAAAADwPwAAAAAAAPA/AAAAAAAA8D8AAAAAAADwPwAAAAAAAPA/AAAAAAAA8D8AAAAAAADwPwAAAAAAAPA/AAAAAAAA8D8AAAAAAADwPwAAAAAAAPA/AAAAAAAA8D8AAAAAAADwPwAAAAAAAPA/AAAAAAAA8D8AAAAAAADwPwAAAAAAAPA/AAAAAAAA8D8=",
          "dtype": "f8"
         }
        },
        {
         "line": {
          "dash": "dash"
         },
         "mode": "lines",
         "name": "Random Classifier",
         "type": "scatter",
         "x": [
          0,
          1
         ],
         "y": [
          0,
          1
         ]
        }
       ],
       "layout": {
        "height": 500,
        "legend": {
         "traceorder": "normal",
         "x": 0,
         "y": 0
        },
        "template": {
         "data": {
          "bar": [
           {
            "error_x": {
             "color": "#2a3f5f"
            },
            "error_y": {
             "color": "#2a3f5f"
            },
            "marker": {
             "line": {
              "color": "#E5ECF6",
              "width": 0.5
             },
             "pattern": {
              "fillmode": "overlay",
              "size": 10,
              "solidity": 0.2
             }
            },
            "type": "bar"
           }
          ],
          "barpolar": [
           {
            "marker": {
             "line": {
              "color": "#E5ECF6",
              "width": 0.5
             },
             "pattern": {
              "fillmode": "overlay",
              "size": 10,
              "solidity": 0.2
             }
            },
            "type": "barpolar"
           }
          ],
          "carpet": [
           {
            "aaxis": {
             "endlinecolor": "#2a3f5f",
             "gridcolor": "white",
             "linecolor": "white",
             "minorgridcolor": "white",
             "startlinecolor": "#2a3f5f"
            },
            "baxis": {
             "endlinecolor": "#2a3f5f",
             "gridcolor": "white",
             "linecolor": "white",
             "minorgridcolor": "white",
             "startlinecolor": "#2a3f5f"
            },
            "type": "carpet"
           }
          ],
          "choropleth": [
           {
            "colorbar": {
             "outlinewidth": 0,
             "ticks": ""
            },
            "type": "choropleth"
           }
          ],
          "contour": [
           {
            "colorbar": {
             "outlinewidth": 0,
             "ticks": ""
            },
            "colorscale": [
             [
              0,
              "#0d0887"
             ],
             [
              0.1111111111111111,
              "#46039f"
             ],
             [
              0.2222222222222222,
              "#7201a8"
             ],
             [
              0.3333333333333333,
              "#9c179e"
             ],
             [
              0.4444444444444444,
              "#bd3786"
             ],
             [
              0.5555555555555556,
              "#d8576b"
             ],
             [
              0.6666666666666666,
              "#ed7953"
             ],
             [
              0.7777777777777778,
              "#fb9f3a"
             ],
             [
              0.8888888888888888,
              "#fdca26"
             ],
             [
              1,
              "#f0f921"
             ]
            ],
            "type": "contour"
           }
          ],
          "contourcarpet": [
           {
            "colorbar": {
             "outlinewidth": 0,
             "ticks": ""
            },
            "type": "contourcarpet"
           }
          ],
          "heatmap": [
           {
            "colorbar": {
             "outlinewidth": 0,
             "ticks": ""
            },
            "colorscale": [
             [
              0,
              "#0d0887"
             ],
             [
              0.1111111111111111,
              "#46039f"
             ],
             [
              0.2222222222222222,
              "#7201a8"
             ],
             [
              0.3333333333333333,
              "#9c179e"
             ],
             [
              0.4444444444444444,
              "#bd3786"
             ],
             [
              0.5555555555555556,
              "#d8576b"
             ],
             [
              0.6666666666666666,
              "#ed7953"
             ],
             [
              0.7777777777777778,
              "#fb9f3a"
             ],
             [
              0.8888888888888888,
              "#fdca26"
             ],
             [
              1,
              "#f0f921"
             ]
            ],
            "type": "heatmap"
           }
          ],
          "histogram": [
           {
            "marker": {
             "pattern": {
              "fillmode": "overlay",
              "size": 10,
              "solidity": 0.2
             }
            },
            "type": "histogram"
           }
          ],
          "histogram2d": [
           {
            "colorbar": {
             "outlinewidth": 0,
             "ticks": ""
            },
            "colorscale": [
             [
              0,
              "#0d0887"
             ],
             [
              0.1111111111111111,
              "#46039f"
             ],
             [
              0.2222222222222222,
              "#7201a8"
             ],
             [
              0.3333333333333333,
              "#9c179e"
             ],
             [
              0.4444444444444444,
              "#bd3786"
             ],
             [
              0.5555555555555556,
              "#d8576b"
             ],
             [
              0.6666666666666666,
              "#ed7953"
             ],
             [
              0.7777777777777778,
              "#fb9f3a"
             ],
             [
              0.8888888888888888,
              "#fdca26"
             ],
             [
              1,
              "#f0f921"
             ]
            ],
            "type": "histogram2d"
           }
          ],
          "histogram2dcontour": [
           {
            "colorbar": {
             "outlinewidth": 0,
             "ticks": ""
            },
            "colorscale": [
             [
              0,
              "#0d0887"
             ],
             [
              0.1111111111111111,
              "#46039f"
             ],
             [
              0.2222222222222222,
              "#7201a8"
             ],
             [
              0.3333333333333333,
              "#9c179e"
             ],
             [
              0.4444444444444444,
              "#bd3786"
             ],
             [
              0.5555555555555556,
              "#d8576b"
             ],
             [
              0.6666666666666666,
              "#ed7953"
             ],
             [
              0.7777777777777778,
              "#fb9f3a"
             ],
             [
              0.8888888888888888,
              "#fdca26"
             ],
             [
              1,
              "#f0f921"
             ]
            ],
            "type": "histogram2dcontour"
           }
          ],
          "mesh3d": [
           {
            "colorbar": {
             "outlinewidth": 0,
             "ticks": ""
            },
            "type": "mesh3d"
           }
          ],
          "parcoords": [
           {
            "line": {
             "colorbar": {
              "outlinewidth": 0,
              "ticks": ""
             }
            },
            "type": "parcoords"
           }
          ],
          "pie": [
           {
            "automargin": true,
            "type": "pie"
           }
          ],
          "scatter": [
           {
            "fillpattern": {
             "fillmode": "overlay",
             "size": 10,
             "solidity": 0.2
            },
            "type": "scatter"
           }
          ],
          "scatter3d": [
           {
            "line": {
             "colorbar": {
              "outlinewidth": 0,
              "ticks": ""
             }
            },
            "marker": {
             "colorbar": {
              "outlinewidth": 0,
              "ticks": ""
             }
            },
            "type": "scatter3d"
           }
          ],
          "scattercarpet": [
           {
            "marker": {
             "colorbar": {
              "outlinewidth": 0,
              "ticks": ""
             }
            },
            "type": "scattercarpet"
           }
          ],
          "scattergeo": [
           {
            "marker": {
             "colorbar": {
              "outlinewidth": 0,
              "ticks": ""
             }
            },
            "type": "scattergeo"
           }
          ],
          "scattergl": [
           {
            "marker": {
             "colorbar": {
              "outlinewidth": 0,
              "ticks": ""
             }
            },
            "type": "scattergl"
           }
          ],
          "scattermap": [
           {
            "marker": {
             "colorbar": {
              "outlinewidth": 0,
              "ticks": ""
             }
            },
            "type": "scattermap"
           }
          ],
          "scattermapbox": [
           {
            "marker": {
             "colorbar": {
              "outlinewidth": 0,
              "ticks": ""
             }
            },
            "type": "scattermapbox"
           }
          ],
          "scatterpolar": [
           {
            "marker": {
             "colorbar": {
              "outlinewidth": 0,
              "ticks": ""
             }
            },
            "type": "scatterpolar"
           }
          ],
          "scatterpolargl": [
           {
            "marker": {
             "colorbar": {
              "outlinewidth": 0,
              "ticks": ""
             }
            },
            "type": "scatterpolargl"
           }
          ],
          "scatterternary": [
           {
            "marker": {
             "colorbar": {
              "outlinewidth": 0,
              "ticks": ""
             }
            },
            "type": "scatterternary"
           }
          ],
          "surface": [
           {
            "colorbar": {
             "outlinewidth": 0,
             "ticks": ""
            },
            "colorscale": [
             [
              0,
              "#0d0887"
             ],
             [
              0.1111111111111111,
              "#46039f"
             ],
             [
              0.2222222222222222,
              "#7201a8"
             ],
             [
              0.3333333333333333,
              "#9c179e"
             ],
             [
              0.4444444444444444,
              "#bd3786"
             ],
             [
              0.5555555555555556,
              "#d8576b"
             ],
             [
              0.6666666666666666,
              "#ed7953"
             ],
             [
              0.7777777777777778,
              "#fb9f3a"
             ],
             [
              0.8888888888888888,
              "#fdca26"
             ],
             [
              1,
              "#f0f921"
             ]
            ],
            "type": "surface"
           }
          ],
          "table": [
           {
            "cells": {
             "fill": {
              "color": "#EBF0F8"
             },
             "line": {
              "color": "white"
             }
            },
            "header": {
             "fill": {
              "color": "#C8D4E3"
             },
             "line": {
              "color": "white"
             }
            },
            "type": "table"
           }
          ]
         },
         "layout": {
          "annotationdefaults": {
           "arrowcolor": "#2a3f5f",
           "arrowhead": 0,
           "arrowwidth": 1
          },
          "autotypenumbers": "strict",
          "coloraxis": {
           "colorbar": {
            "outlinewidth": 0,
            "ticks": ""
           }
          },
          "colorscale": {
           "diverging": [
            [
             0,
             "#8e0152"
            ],
            [
             0.1,
             "#c51b7d"
            ],
            [
             0.2,
             "#de77ae"
            ],
            [
             0.3,
             "#f1b6da"
            ],
            [
             0.4,
             "#fde0ef"
            ],
            [
             0.5,
             "#f7f7f7"
            ],
            [
             0.6,
             "#e6f5d0"
            ],
            [
             0.7,
             "#b8e186"
            ],
            [
             0.8,
             "#7fbc41"
            ],
            [
             0.9,
             "#4d9221"
            ],
            [
             1,
             "#276419"
            ]
           ],
           "sequential": [
            [
             0,
             "#0d0887"
            ],
            [
             0.1111111111111111,
             "#46039f"
            ],
            [
             0.2222222222222222,
             "#7201a8"
            ],
            [
             0.3333333333333333,
             "#9c179e"
            ],
            [
             0.4444444444444444,
             "#bd3786"
            ],
            [
             0.5555555555555556,
             "#d8576b"
            ],
            [
             0.6666666666666666,
             "#ed7953"
            ],
            [
             0.7777777777777778,
             "#fb9f3a"
            ],
            [
             0.8888888888888888,
             "#fdca26"
            ],
            [
             1,
             "#f0f921"
            ]
           ],
           "sequentialminus": [
            [
             0,
             "#0d0887"
            ],
            [
             0.1111111111111111,
             "#46039f"
            ],
            [
             0.2222222222222222,
             "#7201a8"
            ],
            [
             0.3333333333333333,
             "#9c179e"
            ],
            [
             0.4444444444444444,
             "#bd3786"
            ],
            [
             0.5555555555555556,
             "#d8576b"
            ],
            [
             0.6666666666666666,
             "#ed7953"
            ],
            [
             0.7777777777777778,
             "#fb9f3a"
            ],
            [
             0.8888888888888888,
             "#fdca26"
            ],
            [
             1,
             "#f0f921"
            ]
           ]
          },
          "colorway": [
           "#636efa",
           "#EF553B",
           "#00cc96",
           "#ab63fa",
           "#FFA15A",
           "#19d3f3",
           "#FF6692",
           "#B6E880",
           "#FF97FF",
           "#FECB52"
          ],
          "font": {
           "color": "#2a3f5f"
          },
          "geo": {
           "bgcolor": "white",
           "lakecolor": "white",
           "landcolor": "#E5ECF6",
           "showlakes": true,
           "showland": true,
           "subunitcolor": "white"
          },
          "hoverlabel": {
           "align": "left"
          },
          "hovermode": "closest",
          "mapbox": {
           "style": "light"
          },
          "paper_bgcolor": "white",
          "plot_bgcolor": "#E5ECF6",
          "polar": {
           "angularaxis": {
            "gridcolor": "white",
            "linecolor": "white",
            "ticks": ""
           },
           "bgcolor": "#E5ECF6",
           "radialaxis": {
            "gridcolor": "white",
            "linecolor": "white",
            "ticks": ""
           }
          },
          "scene": {
           "xaxis": {
            "backgroundcolor": "#E5ECF6",
            "gridcolor": "white",
            "gridwidth": 2,
            "linecolor": "white",
            "showbackground": true,
            "ticks": "",
            "zerolinecolor": "white"
           },
           "yaxis": {
            "backgroundcolor": "#E5ECF6",
            "gridcolor": "white",
            "gridwidth": 2,
            "linecolor": "white",
            "showbackground": true,
            "ticks": "",
            "zerolinecolor": "white"
           },
           "zaxis": {
            "backgroundcolor": "#E5ECF6",
            "gridcolor": "white",
            "gridwidth": 2,
            "linecolor": "white",
            "showbackground": true,
            "ticks": "",
            "zerolinecolor": "white"
           }
          },
          "shapedefaults": {
           "line": {
            "color": "#2a3f5f"
           }
          },
          "ternary": {
           "aaxis": {
            "gridcolor": "white",
            "linecolor": "white",
            "ticks": ""
           },
           "baxis": {
            "gridcolor": "white",
            "linecolor": "white",
            "ticks": ""
           },
           "bgcolor": "#E5ECF6",
           "caxis": {
            "gridcolor": "white",
            "linecolor": "white",
            "ticks": ""
           }
          },
          "title": {
           "x": 0.05
          },
          "xaxis": {
           "automargin": true,
           "gridcolor": "white",
           "linecolor": "white",
           "ticks": "",
           "title": {
            "standoff": 15
           },
           "zerolinecolor": "white",
           "zerolinewidth": 2
          },
          "yaxis": {
           "automargin": true,
           "gridcolor": "white",
           "linecolor": "white",
           "ticks": "",
           "title": {
            "standoff": 15
           },
           "zerolinecolor": "white",
           "zerolinewidth": 2
          }
         }
        },
        "title": {
         "text": "Receiver Operating Characteristic (ROC) Curve"
        },
        "width": 500,
        "xaxis": {
         "title": {
          "text": "False Positive Rate"
         }
        },
        "yaxis": {
         "title": {
          "text": "True Positive Rate"
         }
        }
       }
      }
     },
     "metadata": {},
     "output_type": "display_data"
    },
    {
     "name": "stdout",
     "output_type": "stream",
     "text": [
      "[[14078   131]\n",
      " [  559  1124]]\n"
     ]
    },
    {
     "data": {
      "application/vnd.plotly.v1+json": {
       "config": {
        "plotlyServerURL": "https://plot.ly"
       },
       "data": [
        {
         "colorscale": [
          [
           0,
           "rgb(247,251,255)"
          ],
          [
           0.125,
           "rgb(222,235,247)"
          ],
          [
           0.25,
           "rgb(198,219,239)"
          ],
          [
           0.375,
           "rgb(158,202,225)"
          ],
          [
           0.5,
           "rgb(107,174,214)"
          ],
          [
           0.625,
           "rgb(66,146,198)"
          ],
          [
           0.75,
           "rgb(33,113,181)"
          ],
          [
           0.875,
           "rgb(8,81,156)"
          ],
          [
           1,
           "rgb(8,48,107)"
          ]
         ],
         "hoverongaps": false,
         "type": "heatmap",
         "x": [
          "Previsto 0",
          "Previsto 1"
         ],
         "y": [
          "Real 0",
          "Real 1"
         ],
         "z": {
          "bdata": "/jaDAC8CZAQ=",
          "dtype": "i2",
          "shape": "2, 2"
         }
        }
       ],
       "layout": {
        "annotations": [
         {
          "font": {
           "color": "white"
          },
          "showarrow": false,
          "text": "14078",
          "x": 0,
          "y": 0
         },
         {
          "font": {
           "color": "black"
          },
          "showarrow": false,
          "text": "131",
          "x": 1,
          "y": 0
         },
         {
          "font": {
           "color": "black"
          },
          "showarrow": false,
          "text": "559",
          "x": 0,
          "y": 1
         },
         {
          "font": {
           "color": "black"
          },
          "showarrow": false,
          "text": "1124",
          "x": 1,
          "y": 1
         }
        ],
        "height": 500,
        "template": {
         "data": {
          "bar": [
           {
            "error_x": {
             "color": "#2a3f5f"
            },
            "error_y": {
             "color": "#2a3f5f"
            },
            "marker": {
             "line": {
              "color": "#E5ECF6",
              "width": 0.5
             },
             "pattern": {
              "fillmode": "overlay",
              "size": 10,
              "solidity": 0.2
             }
            },
            "type": "bar"
           }
          ],
          "barpolar": [
           {
            "marker": {
             "line": {
              "color": "#E5ECF6",
              "width": 0.5
             },
             "pattern": {
              "fillmode": "overlay",
              "size": 10,
              "solidity": 0.2
             }
            },
            "type": "barpolar"
           }
          ],
          "carpet": [
           {
            "aaxis": {
             "endlinecolor": "#2a3f5f",
             "gridcolor": "white",
             "linecolor": "white",
             "minorgridcolor": "white",
             "startlinecolor": "#2a3f5f"
            },
            "baxis": {
             "endlinecolor": "#2a3f5f",
             "gridcolor": "white",
             "linecolor": "white",
             "minorgridcolor": "white",
             "startlinecolor": "#2a3f5f"
            },
            "type": "carpet"
           }
          ],
          "choropleth": [
           {
            "colorbar": {
             "outlinewidth": 0,
             "ticks": ""
            },
            "type": "choropleth"
           }
          ],
          "contour": [
           {
            "colorbar": {
             "outlinewidth": 0,
             "ticks": ""
            },
            "colorscale": [
             [
              0,
              "#0d0887"
             ],
             [
              0.1111111111111111,
              "#46039f"
             ],
             [
              0.2222222222222222,
              "#7201a8"
             ],
             [
              0.3333333333333333,
              "#9c179e"
             ],
             [
              0.4444444444444444,
              "#bd3786"
             ],
             [
              0.5555555555555556,
              "#d8576b"
             ],
             [
              0.6666666666666666,
              "#ed7953"
             ],
             [
              0.7777777777777778,
              "#fb9f3a"
             ],
             [
              0.8888888888888888,
              "#fdca26"
             ],
             [
              1,
              "#f0f921"
             ]
            ],
            "type": "contour"
           }
          ],
          "contourcarpet": [
           {
            "colorbar": {
             "outlinewidth": 0,
             "ticks": ""
            },
            "type": "contourcarpet"
           }
          ],
          "heatmap": [
           {
            "colorbar": {
             "outlinewidth": 0,
             "ticks": ""
            },
            "colorscale": [
             [
              0,
              "#0d0887"
             ],
             [
              0.1111111111111111,
              "#46039f"
             ],
             [
              0.2222222222222222,
              "#7201a8"
             ],
             [
              0.3333333333333333,
              "#9c179e"
             ],
             [
              0.4444444444444444,
              "#bd3786"
             ],
             [
              0.5555555555555556,
              "#d8576b"
             ],
             [
              0.6666666666666666,
              "#ed7953"
             ],
             [
              0.7777777777777778,
              "#fb9f3a"
             ],
             [
              0.8888888888888888,
              "#fdca26"
             ],
             [
              1,
              "#f0f921"
             ]
            ],
            "type": "heatmap"
           }
          ],
          "histogram": [
           {
            "marker": {
             "pattern": {
              "fillmode": "overlay",
              "size": 10,
              "solidity": 0.2
             }
            },
            "type": "histogram"
           }
          ],
          "histogram2d": [
           {
            "colorbar": {
             "outlinewidth": 0,
             "ticks": ""
            },
            "colorscale": [
             [
              0,
              "#0d0887"
             ],
             [
              0.1111111111111111,
              "#46039f"
             ],
             [
              0.2222222222222222,
              "#7201a8"
             ],
             [
              0.3333333333333333,
              "#9c179e"
             ],
             [
              0.4444444444444444,
              "#bd3786"
             ],
             [
              0.5555555555555556,
              "#d8576b"
             ],
             [
              0.6666666666666666,
              "#ed7953"
             ],
             [
              0.7777777777777778,
              "#fb9f3a"
             ],
             [
              0.8888888888888888,
              "#fdca26"
             ],
             [
              1,
              "#f0f921"
             ]
            ],
            "type": "histogram2d"
           }
          ],
          "histogram2dcontour": [
           {
            "colorbar": {
             "outlinewidth": 0,
             "ticks": ""
            },
            "colorscale": [
             [
              0,
              "#0d0887"
             ],
             [
              0.1111111111111111,
              "#46039f"
             ],
             [
              0.2222222222222222,
              "#7201a8"
             ],
             [
              0.3333333333333333,
              "#9c179e"
             ],
             [
              0.4444444444444444,
              "#bd3786"
             ],
             [
              0.5555555555555556,
              "#d8576b"
             ],
             [
              0.6666666666666666,
              "#ed7953"
             ],
             [
              0.7777777777777778,
              "#fb9f3a"
             ],
             [
              0.8888888888888888,
              "#fdca26"
             ],
             [
              1,
              "#f0f921"
             ]
            ],
            "type": "histogram2dcontour"
           }
          ],
          "mesh3d": [
           {
            "colorbar": {
             "outlinewidth": 0,
             "ticks": ""
            },
            "type": "mesh3d"
           }
          ],
          "parcoords": [
           {
            "line": {
             "colorbar": {
              "outlinewidth": 0,
              "ticks": ""
             }
            },
            "type": "parcoords"
           }
          ],
          "pie": [
           {
            "automargin": true,
            "type": "pie"
           }
          ],
          "scatter": [
           {
            "fillpattern": {
             "fillmode": "overlay",
             "size": 10,
             "solidity": 0.2
            },
            "type": "scatter"
           }
          ],
          "scatter3d": [
           {
            "line": {
             "colorbar": {
              "outlinewidth": 0,
              "ticks": ""
             }
            },
            "marker": {
             "colorbar": {
              "outlinewidth": 0,
              "ticks": ""
             }
            },
            "type": "scatter3d"
           }
          ],
          "scattercarpet": [
           {
            "marker": {
             "colorbar": {
              "outlinewidth": 0,
              "ticks": ""
             }
            },
            "type": "scattercarpet"
           }
          ],
          "scattergeo": [
           {
            "marker": {
             "colorbar": {
              "outlinewidth": 0,
              "ticks": ""
             }
            },
            "type": "scattergeo"
           }
          ],
          "scattergl": [
           {
            "marker": {
             "colorbar": {
              "outlinewidth": 0,
              "ticks": ""
             }
            },
            "type": "scattergl"
           }
          ],
          "scattermap": [
           {
            "marker": {
             "colorbar": {
              "outlinewidth": 0,
              "ticks": ""
             }
            },
            "type": "scattermap"
           }
          ],
          "scattermapbox": [
           {
            "marker": {
             "colorbar": {
              "outlinewidth": 0,
              "ticks": ""
             }
            },
            "type": "scattermapbox"
           }
          ],
          "scatterpolar": [
           {
            "marker": {
             "colorbar": {
              "outlinewidth": 0,
              "ticks": ""
             }
            },
            "type": "scatterpolar"
           }
          ],
          "scatterpolargl": [
           {
            "marker": {
             "colorbar": {
              "outlinewidth": 0,
              "ticks": ""
             }
            },
            "type": "scatterpolargl"
           }
          ],
          "scatterternary": [
           {
            "marker": {
             "colorbar": {
              "outlinewidth": 0,
              "ticks": ""
             }
            },
            "type": "scatterternary"
           }
          ],
          "surface": [
           {
            "colorbar": {
             "outlinewidth": 0,
             "ticks": ""
            },
            "colorscale": [
             [
              0,
              "#0d0887"
             ],
             [
              0.1111111111111111,
              "#46039f"
             ],
             [
              0.2222222222222222,
              "#7201a8"
             ],
             [
              0.3333333333333333,
              "#9c179e"
             ],
             [
              0.4444444444444444,
              "#bd3786"
             ],
             [
              0.5555555555555556,
              "#d8576b"
             ],
             [
              0.6666666666666666,
              "#ed7953"
             ],
             [
              0.7777777777777778,
              "#fb9f3a"
             ],
             [
              0.8888888888888888,
              "#fdca26"
             ],
             [
              1,
              "#f0f921"
             ]
            ],
            "type": "surface"
           }
          ],
          "table": [
           {
            "cells": {
             "fill": {
              "color": "#EBF0F8"
             },
             "line": {
              "color": "white"
             }
            },
            "header": {
             "fill": {
              "color": "#C8D4E3"
             },
             "line": {
              "color": "white"
             }
            },
            "type": "table"
           }
          ]
         },
         "layout": {
          "annotationdefaults": {
           "arrowcolor": "#2a3f5f",
           "arrowhead": 0,
           "arrowwidth": 1
          },
          "autotypenumbers": "strict",
          "coloraxis": {
           "colorbar": {
            "outlinewidth": 0,
            "ticks": ""
           }
          },
          "colorscale": {
           "diverging": [
            [
             0,
             "#8e0152"
            ],
            [
             0.1,
             "#c51b7d"
            ],
            [
             0.2,
             "#de77ae"
            ],
            [
             0.3,
             "#f1b6da"
            ],
            [
             0.4,
             "#fde0ef"
            ],
            [
             0.5,
             "#f7f7f7"
            ],
            [
             0.6,
             "#e6f5d0"
            ],
            [
             0.7,
             "#b8e186"
            ],
            [
             0.8,
             "#7fbc41"
            ],
            [
             0.9,
             "#4d9221"
            ],
            [
             1,
             "#276419"
            ]
           ],
           "sequential": [
            [
             0,
             "#0d0887"
            ],
            [
             0.1111111111111111,
             "#46039f"
            ],
            [
             0.2222222222222222,
             "#7201a8"
            ],
            [
             0.3333333333333333,
             "#9c179e"
            ],
            [
             0.4444444444444444,
             "#bd3786"
            ],
            [
             0.5555555555555556,
             "#d8576b"
            ],
            [
             0.6666666666666666,
             "#ed7953"
            ],
            [
             0.7777777777777778,
             "#fb9f3a"
            ],
            [
             0.8888888888888888,
             "#fdca26"
            ],
            [
             1,
             "#f0f921"
            ]
           ],
           "sequentialminus": [
            [
             0,
             "#0d0887"
            ],
            [
             0.1111111111111111,
             "#46039f"
            ],
            [
             0.2222222222222222,
             "#7201a8"
            ],
            [
             0.3333333333333333,
             "#9c179e"
            ],
            [
             0.4444444444444444,
             "#bd3786"
            ],
            [
             0.5555555555555556,
             "#d8576b"
            ],
            [
             0.6666666666666666,
             "#ed7953"
            ],
            [
             0.7777777777777778,
             "#fb9f3a"
            ],
            [
             0.8888888888888888,
             "#fdca26"
            ],
            [
             1,
             "#f0f921"
            ]
           ]
          },
          "colorway": [
           "#636efa",
           "#EF553B",
           "#00cc96",
           "#ab63fa",
           "#FFA15A",
           "#19d3f3",
           "#FF6692",
           "#B6E880",
           "#FF97FF",
           "#FECB52"
          ],
          "font": {
           "color": "#2a3f5f"
          },
          "geo": {
           "bgcolor": "white",
           "lakecolor": "white",
           "landcolor": "#E5ECF6",
           "showlakes": true,
           "showland": true,
           "subunitcolor": "white"
          },
          "hoverlabel": {
           "align": "left"
          },
          "hovermode": "closest",
          "mapbox": {
           "style": "light"
          },
          "paper_bgcolor": "white",
          "plot_bgcolor": "#E5ECF6",
          "polar": {
           "angularaxis": {
            "gridcolor": "white",
            "linecolor": "white",
            "ticks": ""
           },
           "bgcolor": "#E5ECF6",
           "radialaxis": {
            "gridcolor": "white",
            "linecolor": "white",
            "ticks": ""
           }
          },
          "scene": {
           "xaxis": {
            "backgroundcolor": "#E5ECF6",
            "gridcolor": "white",
            "gridwidth": 2,
            "linecolor": "white",
            "showbackground": true,
            "ticks": "",
            "zerolinecolor": "white"
           },
           "yaxis": {
            "backgroundcolor": "#E5ECF6",
            "gridcolor": "white",
            "gridwidth": 2,
            "linecolor": "white",
            "showbackground": true,
            "ticks": "",
            "zerolinecolor": "white"
           },
           "zaxis": {
            "backgroundcolor": "#E5ECF6",
            "gridcolor": "white",
            "gridwidth": 2,
            "linecolor": "white",
            "showbackground": true,
            "ticks": "",
            "zerolinecolor": "white"
           }
          },
          "shapedefaults": {
           "line": {
            "color": "#2a3f5f"
           }
          },
          "ternary": {
           "aaxis": {
            "gridcolor": "white",
            "linecolor": "white",
            "ticks": ""
           },
           "baxis": {
            "gridcolor": "white",
            "linecolor": "white",
            "ticks": ""
           },
           "bgcolor": "#E5ECF6",
           "caxis": {
            "gridcolor": "white",
            "linecolor": "white",
            "ticks": ""
           }
          },
          "title": {
           "x": 0.05
          },
          "xaxis": {
           "automargin": true,
           "gridcolor": "white",
           "linecolor": "white",
           "ticks": "",
           "title": {
            "standoff": 15
           },
           "zerolinecolor": "white",
           "zerolinewidth": 2
          },
          "yaxis": {
           "automargin": true,
           "gridcolor": "white",
           "linecolor": "white",
           "ticks": "",
           "title": {
            "standoff": 15
           },
           "zerolinecolor": "white",
           "zerolinewidth": 2
          }
         }
        },
        "title": {
         "text": "Matriz de Confusão"
        },
        "width": 500,
        "xaxis": {
         "title": {
          "text": "Classe Prevista"
         }
        },
        "yaxis": {
         "title": {
          "text": "Classe Real"
         }
        }
       }
      }
     },
     "metadata": {},
     "output_type": "display_data"
    }
   ],
   "source": [
    "# Make predictions on the test set\n",
    "\n",
    "y_pred_proba = model.predict_proba(X_test_pca)[:, 1]\n",
    "\n",
    "# Calculate the false positive rate, true positive rate, and thresholds\n",
    "\n",
    "fpr, tpr, thresholds = roc_curve(y_test, y_pred_proba)\n",
    "\n",
    "# Calculate the area under the ROC curve (AUC)\n",
    "\n",
    "roc_auc = auc(fpr, tpr)\n",
    "\n",
    "# Plot the ROC curve\n",
    "\n",
    "fig = go.Figure()\n",
    "\n",
    "fig.add_trace(go.Scatter(x=fpr, y=tpr, mode=\"lines\", name=\"ROC curve (AUC = %0.2f)\" % roc_auc))\n",
    "fig.add_trace(\n",
    "    go.Scatter(x=[0, 1], y=[0, 1], mode=\"lines\", name=\"Random Classifier\", line=dict(dash=\"dash\"))\n",
    ")\n",
    "fig.update_layout(\n",
    "    title=\"Receiver Operating Characteristic (ROC) Curve\",\n",
    "    xaxis_title=\"False Positive Rate\",\n",
    "    yaxis_title=\"True Positive Rate\",\n",
    "    width=500,\n",
    "    height=500,\n",
    "    legend=dict(x=0, y=0, traceorder=\"normal\"),\n",
    ")\n",
    "fig.show()\n",
    "\n",
    "# Calculate the confusion matrix\n",
    "\n",
    "cm = confusion_matrix(y_test, y_pred)\n",
    "print(cm)\n",
    "\n",
    "# Plot the confusion matrix\n",
    "\n",
    "fig = go.Figure(\n",
    "    data=go.Heatmap(\n",
    "        z=cm,\n",
    "        x=[\"Previsto 0\", \"Previsto 1\"],\n",
    "        y=[\"Real 0\", \"Real 1\"],\n",
    "        colorscale=\"Blues\",\n",
    "        hoverongaps=False,\n",
    "    )\n",
    ")\n",
    "\n",
    "max_val = cm.max()\n",
    "annotations = []\n",
    "for i in range(len(cm)):\n",
    "    for j in range(len(cm[0])):\n",
    "        annotations.append(\n",
    "            dict(\n",
    "                x=j,\n",
    "                y=i,\n",
    "                text=str(cm[i][j]),\n",
    "                showarrow=False,\n",
    "                font=dict(color=\"white\" if cm[i][j] > max_val / 2 else \"black\"),\n",
    "            )\n",
    "        )\n",
    "\n",
    "fig.update_layout(\n",
    "    title=\"Matriz de Confusão\",\n",
    "    width=500,\n",
    "    height=500,\n",
    "    xaxis_title=\"Classe Prevista\",\n",
    "    yaxis_title=\"Classe Real\",\n",
    "    annotations=annotations,\n",
    ")\n",
    "\n",
    "fig.show()"
   ]
  },
  {
   "cell_type": "code",
   "execution_count": 19,
   "id": "e74d73df",
   "metadata": {},
   "outputs": [
    {
     "data": {
      "text/plain": [
       "['../model/feature_names.pkl']"
      ]
     },
     "execution_count": 19,
     "metadata": {},
     "output_type": "execute_result"
    }
   ],
   "source": [
    "# Save feature names\n",
    "\n",
    "feature_names = list(X.columns)\n",
    "joblib.dump(feature_names, \"../model/feature_names.pkl\")"
   ]
  },
  {
   "cell_type": "code",
   "execution_count": 20,
   "id": "e140f1aa",
   "metadata": {},
   "outputs": [
    {
     "data": {
      "text/plain": [
       "['../model/smoking_encoder.pkl']"
      ]
     },
     "execution_count": 20,
     "metadata": {},
     "output_type": "execute_result"
    }
   ],
   "source": [
    "# Save all components\n",
    "\n",
    "joblib.dump(model, \"../model/diabetes_model.pkl\")\n",
    "joblib.dump(scaler, \"../model/scaler.pkl\")\n",
    "joblib.dump(pca, \"../model/pca.pkl\")\n",
    "joblib.dump(le_gender, \"../model/gender_encoder.pkl\")\n",
    "joblib.dump(le_smoking, \"../model/smoking_encoder.pkl\")"
   ]
  }
 ],
 "metadata": {
  "kernelspec": {
   "display_name": "ML_Cla_Flask",
   "language": "python",
   "name": "python3"
  },
  "language_info": {
   "codemirror_mode": {
    "name": "ipython",
    "version": 3
   },
   "file_extension": ".py",
   "mimetype": "text/x-python",
   "name": "python",
   "nbconvert_exporter": "python",
   "pygments_lexer": "ipython3",
   "version": "3.12.4"
  }
 },
 "nbformat": 4,
 "nbformat_minor": 5
}
