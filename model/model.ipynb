{
 "cells": [
  {
   "cell_type": "markdown",
   "id": "cf08b8d7",
   "metadata": {},
   "source": [
    "## Diabetes Prediction App"
   ]
  },
  {
   "cell_type": "code",
   "execution_count": null,
   "id": "5530f3bc",
   "metadata": {},
   "outputs": [],
   "source": [
    "# Bibliotecas\n",
    "\n",
    "import pandas as pd"
   ]
  },
  {
   "cell_type": "code",
   "execution_count": null,
   "id": "e29f3deb",
   "metadata": {},
   "outputs": [],
   "source": [
    "# Carregando o dataset\n",
    "\n",
    "data = pd.read_csv(\"diabetes.csv\")"
   ]
  }
 ],
 "metadata": {
  "kernelspec": {
   "display_name": "ML_Cla_Flask",
   "language": "python",
   "name": "python3"
  },
  "language_info": {
   "name": "python",
   "version": "3.12.4"
  }
 },
 "nbformat": 4,
 "nbformat_minor": 5
}
