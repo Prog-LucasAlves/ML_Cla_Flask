{
 "cells": [
  {
   "cell_type": "markdown",
   "id": "cf08b8d7",
   "metadata": {},
   "source": [
    "## Diabetes Prediction App"
   ]
  },
  {
   "cell_type": "code",
   "execution_count": null,
   "id": "5530f3bc",
   "metadata": {},
   "outputs": [
    {
     "name": "stderr",
     "output_type": "stream",
     "text": [
      "d:\\Prjts\\ML_Cla_Flask\\.venv\\Lib\\site-packages\\tqdm\\auto.py:21: TqdmWarning: IProgress not found. Please update jupyter and ipywidgets. See https://ipywidgets.readthedocs.io/en/stable/user_install.html\n",
      "  from .autonotebook import tqdm as notebook_tqdm\n"
     ]
    }
   ],
   "source": [
    "# Libraries\n",
    "\n",
    "import pandas as pd\n",
    "from sklearn.preprocessing import LabelEncoder, StandardScaler\n",
    "from sklearn.decomposition import PCA\n",
    "from sklearn.model_selection import train_test_split\n",
    "from sklearn.metrics import (\n",
    "    accuracy_score,\n",
    "    classification_report,\n",
    "    roc_curve,\n",
    "    auc,\n",
    "    confusion_matrix,\n",
    ")\n",
    "from xgboost import XGBClassifier\n",
    "import joblib\n",
    "import plotly.graph_objects as go\n",
    "import shap"
   ]
  },
  {
   "cell_type": "code",
   "execution_count": 3,
   "id": "e29f3deb",
   "metadata": {},
   "outputs": [
    {
     "data": {
      "text/html": [
       "<div>\n",
       "<style scoped>\n",
       "    .dataframe tbody tr th:only-of-type {\n",
       "        vertical-align: middle;\n",
       "    }\n",
       "\n",
       "    .dataframe tbody tr th {\n",
       "        vertical-align: top;\n",
       "    }\n",
       "\n",
       "    .dataframe thead th {\n",
       "        text-align: right;\n",
       "    }\n",
       "</style>\n",
       "<table border=\"1\" class=\"dataframe\">\n",
       "  <thead>\n",
       "    <tr style=\"text-align: right;\">\n",
       "      <th></th>\n",
       "      <th>gender</th>\n",
       "      <th>age</th>\n",
       "      <th>hypertension</th>\n",
       "      <th>heart_disease</th>\n",
       "      <th>smoking_history</th>\n",
       "      <th>bmi</th>\n",
       "      <th>HbA1c_level</th>\n",
       "      <th>blood_glucose_level</th>\n",
       "      <th>diabetes</th>\n",
       "    </tr>\n",
       "  </thead>\n",
       "  <tbody>\n",
       "    <tr>\n",
       "      <th>0</th>\n",
       "      <td>Female</td>\n",
       "      <td>80.0</td>\n",
       "      <td>0</td>\n",
       "      <td>1</td>\n",
       "      <td>never</td>\n",
       "      <td>25.19</td>\n",
       "      <td>6.6</td>\n",
       "      <td>140</td>\n",
       "      <td>0</td>\n",
       "    </tr>\n",
       "    <tr>\n",
       "      <th>1</th>\n",
       "      <td>Female</td>\n",
       "      <td>54.0</td>\n",
       "      <td>0</td>\n",
       "      <td>0</td>\n",
       "      <td>No Info</td>\n",
       "      <td>27.32</td>\n",
       "      <td>6.6</td>\n",
       "      <td>80</td>\n",
       "      <td>0</td>\n",
       "    </tr>\n",
       "    <tr>\n",
       "      <th>2</th>\n",
       "      <td>Male</td>\n",
       "      <td>28.0</td>\n",
       "      <td>0</td>\n",
       "      <td>0</td>\n",
       "      <td>never</td>\n",
       "      <td>27.32</td>\n",
       "      <td>5.7</td>\n",
       "      <td>158</td>\n",
       "      <td>0</td>\n",
       "    </tr>\n",
       "    <tr>\n",
       "      <th>3</th>\n",
       "      <td>Female</td>\n",
       "      <td>36.0</td>\n",
       "      <td>0</td>\n",
       "      <td>0</td>\n",
       "      <td>current</td>\n",
       "      <td>23.45</td>\n",
       "      <td>5.0</td>\n",
       "      <td>155</td>\n",
       "      <td>0</td>\n",
       "    </tr>\n",
       "    <tr>\n",
       "      <th>4</th>\n",
       "      <td>Male</td>\n",
       "      <td>76.0</td>\n",
       "      <td>1</td>\n",
       "      <td>1</td>\n",
       "      <td>current</td>\n",
       "      <td>20.14</td>\n",
       "      <td>4.8</td>\n",
       "      <td>155</td>\n",
       "      <td>0</td>\n",
       "    </tr>\n",
       "  </tbody>\n",
       "</table>\n",
       "</div>"
      ],
      "text/plain": [
       "   gender   age  hypertension  heart_disease smoking_history    bmi  \\\n",
       "0  Female  80.0             0              1           never  25.19   \n",
       "1  Female  54.0             0              0         No Info  27.32   \n",
       "2    Male  28.0             0              0           never  27.32   \n",
       "3  Female  36.0             0              0         current  23.45   \n",
       "4    Male  76.0             1              1         current  20.14   \n",
       "\n",
       "   HbA1c_level  blood_glucose_level  diabetes  \n",
       "0          6.6                  140         0  \n",
       "1          6.6                   80         0  \n",
       "2          5.7                  158         0  \n",
       "3          5.0                  155         0  \n",
       "4          4.8                  155         0  "
      ]
     },
     "execution_count": 3,
     "metadata": {},
     "output_type": "execute_result"
    }
   ],
   "source": [
    "# Loading the dataset\n",
    "\n",
    "data = pd.read_csv(\"../data/diabetes_prediction_dataset.csv\")\n",
    "\n",
    "# View the first few rows of the dataset\n",
    "\n",
    "data.head()"
   ]
  },
  {
   "cell_type": "code",
   "execution_count": 4,
   "id": "19f01d47",
   "metadata": {},
   "outputs": [
    {
     "data": {
      "text/plain": [
       "diabetes\n",
       "0    91500\n",
       "1     8500\n",
       "Name: count, dtype: int64"
      ]
     },
     "execution_count": 4,
     "metadata": {},
     "output_type": "execute_result"
    }
   ],
   "source": [
    "# Variable y in the dataset\n",
    "\n",
    "data[\"diabetes\"].value_counts()"
   ]
  },
  {
   "cell_type": "code",
   "execution_count": 5,
   "id": "ff0b40b0",
   "metadata": {},
   "outputs": [
    {
     "data": {
      "text/html": [
       "<div>\n",
       "<style scoped>\n",
       "    .dataframe tbody tr th:only-of-type {\n",
       "        vertical-align: middle;\n",
       "    }\n",
       "\n",
       "    .dataframe tbody tr th {\n",
       "        vertical-align: top;\n",
       "    }\n",
       "\n",
       "    .dataframe thead th {\n",
       "        text-align: right;\n",
       "    }\n",
       "</style>\n",
       "<table border=\"1\" class=\"dataframe\">\n",
       "  <thead>\n",
       "    <tr style=\"text-align: right;\">\n",
       "      <th></th>\n",
       "      <th>age</th>\n",
       "      <th>hypertension</th>\n",
       "      <th>heart_disease</th>\n",
       "      <th>bmi</th>\n",
       "      <th>HbA1c_level</th>\n",
       "      <th>blood_glucose_level</th>\n",
       "      <th>diabetes</th>\n",
       "    </tr>\n",
       "  </thead>\n",
       "  <tbody>\n",
       "    <tr>\n",
       "      <th>count</th>\n",
       "      <td>100000.000000</td>\n",
       "      <td>100000.00000</td>\n",
       "      <td>100000.000000</td>\n",
       "      <td>100000.000000</td>\n",
       "      <td>100000.000000</td>\n",
       "      <td>100000.000000</td>\n",
       "      <td>100000.000000</td>\n",
       "    </tr>\n",
       "    <tr>\n",
       "      <th>mean</th>\n",
       "      <td>41.885856</td>\n",
       "      <td>0.07485</td>\n",
       "      <td>0.039420</td>\n",
       "      <td>27.320767</td>\n",
       "      <td>5.527507</td>\n",
       "      <td>138.058060</td>\n",
       "      <td>0.085000</td>\n",
       "    </tr>\n",
       "    <tr>\n",
       "      <th>std</th>\n",
       "      <td>22.516840</td>\n",
       "      <td>0.26315</td>\n",
       "      <td>0.194593</td>\n",
       "      <td>6.636783</td>\n",
       "      <td>1.070672</td>\n",
       "      <td>40.708136</td>\n",
       "      <td>0.278883</td>\n",
       "    </tr>\n",
       "    <tr>\n",
       "      <th>min</th>\n",
       "      <td>0.080000</td>\n",
       "      <td>0.00000</td>\n",
       "      <td>0.000000</td>\n",
       "      <td>10.010000</td>\n",
       "      <td>3.500000</td>\n",
       "      <td>80.000000</td>\n",
       "      <td>0.000000</td>\n",
       "    </tr>\n",
       "    <tr>\n",
       "      <th>25%</th>\n",
       "      <td>24.000000</td>\n",
       "      <td>0.00000</td>\n",
       "      <td>0.000000</td>\n",
       "      <td>23.630000</td>\n",
       "      <td>4.800000</td>\n",
       "      <td>100.000000</td>\n",
       "      <td>0.000000</td>\n",
       "    </tr>\n",
       "    <tr>\n",
       "      <th>50%</th>\n",
       "      <td>43.000000</td>\n",
       "      <td>0.00000</td>\n",
       "      <td>0.000000</td>\n",
       "      <td>27.320000</td>\n",
       "      <td>5.800000</td>\n",
       "      <td>140.000000</td>\n",
       "      <td>0.000000</td>\n",
       "    </tr>\n",
       "    <tr>\n",
       "      <th>75%</th>\n",
       "      <td>60.000000</td>\n",
       "      <td>0.00000</td>\n",
       "      <td>0.000000</td>\n",
       "      <td>29.580000</td>\n",
       "      <td>6.200000</td>\n",
       "      <td>159.000000</td>\n",
       "      <td>0.000000</td>\n",
       "    </tr>\n",
       "    <tr>\n",
       "      <th>max</th>\n",
       "      <td>80.000000</td>\n",
       "      <td>1.00000</td>\n",
       "      <td>1.000000</td>\n",
       "      <td>95.690000</td>\n",
       "      <td>9.000000</td>\n",
       "      <td>300.000000</td>\n",
       "      <td>1.000000</td>\n",
       "    </tr>\n",
       "  </tbody>\n",
       "</table>\n",
       "</div>"
      ],
      "text/plain": [
       "                 age  hypertension  heart_disease            bmi  \\\n",
       "count  100000.000000  100000.00000  100000.000000  100000.000000   \n",
       "mean       41.885856       0.07485       0.039420      27.320767   \n",
       "std        22.516840       0.26315       0.194593       6.636783   \n",
       "min         0.080000       0.00000       0.000000      10.010000   \n",
       "25%        24.000000       0.00000       0.000000      23.630000   \n",
       "50%        43.000000       0.00000       0.000000      27.320000   \n",
       "75%        60.000000       0.00000       0.000000      29.580000   \n",
       "max        80.000000       1.00000       1.000000      95.690000   \n",
       "\n",
       "         HbA1c_level  blood_glucose_level       diabetes  \n",
       "count  100000.000000        100000.000000  100000.000000  \n",
       "mean        5.527507           138.058060       0.085000  \n",
       "std         1.070672            40.708136       0.278883  \n",
       "min         3.500000            80.000000       0.000000  \n",
       "25%         4.800000           100.000000       0.000000  \n",
       "50%         5.800000           140.000000       0.000000  \n",
       "75%         6.200000           159.000000       0.000000  \n",
       "max         9.000000           300.000000       1.000000  "
      ]
     },
     "execution_count": 5,
     "metadata": {},
     "output_type": "execute_result"
    }
   ],
   "source": [
    "# Summary statistics of the dataset\n",
    "\n",
    "data.describe()"
   ]
  },
  {
   "cell_type": "code",
   "execution_count": null,
   "id": "631a8493",
   "metadata": {},
   "outputs": [],
   "source": [
    "# Creating a filter for the age column\n",
    "\n",
    "filter_age = data[\"age\"] >= 18\n",
    "\n",
    "data = data[filter_age]\n",
    "\n",
    "data[\"age\"].describe()"
   ]
  },
  {
   "cell_type": "code",
   "execution_count": 6,
   "id": "2c90bd4a",
   "metadata": {},
   "outputs": [],
   "source": [
    "# Transform column age into int\n",
    "\n",
    "data[\"age\"] = data[\"age\"].astype(int)"
   ]
  },
  {
   "cell_type": "code",
   "execution_count": 7,
   "id": "fc055572",
   "metadata": {},
   "outputs": [
    {
     "name": "stdout",
     "output_type": "stream",
     "text": [
      "<class 'pandas.core.frame.DataFrame'>\n",
      "RangeIndex: 100000 entries, 0 to 99999\n",
      "Data columns (total 9 columns):\n",
      " #   Column               Non-Null Count   Dtype  \n",
      "---  ------               --------------   -----  \n",
      " 0   gender               100000 non-null  object \n",
      " 1   age                  100000 non-null  int64  \n",
      " 2   hypertension         100000 non-null  int64  \n",
      " 3   heart_disease        100000 non-null  int64  \n",
      " 4   smoking_history      100000 non-null  object \n",
      " 5   bmi                  100000 non-null  float64\n",
      " 6   HbA1c_level          100000 non-null  float64\n",
      " 7   blood_glucose_level  100000 non-null  int64  \n",
      " 8   diabetes             100000 non-null  int64  \n",
      "dtypes: float64(2), int64(5), object(2)\n",
      "memory usage: 6.9+ MB\n"
     ]
    }
   ],
   "source": [
    "# Check basic information\n",
    "\n",
    "data.info()"
   ]
  },
  {
   "cell_type": "code",
   "execution_count": 8,
   "id": "d24dae86",
   "metadata": {},
   "outputs": [
    {
     "data": {
      "text/plain": [
       "gender                 0\n",
       "age                    0\n",
       "hypertension           0\n",
       "heart_disease          0\n",
       "smoking_history        0\n",
       "bmi                    0\n",
       "HbA1c_level            0\n",
       "blood_glucose_level    0\n",
       "diabetes               0\n",
       "dtype: int64"
      ]
     },
     "execution_count": 8,
     "metadata": {},
     "output_type": "execute_result"
    }
   ],
   "source": [
    "# Check for null values\n",
    "\n",
    "data.isnull().sum()"
   ]
  },
  {
   "cell_type": "code",
   "execution_count": 9,
   "id": "f5e5ccb2",
   "metadata": {},
   "outputs": [
    {
     "name": "stdout",
     "output_type": "stream",
     "text": [
      "3888\n",
      "---Removed Duplicate---\n",
      "0\n"
     ]
    }
   ],
   "source": [
    "# Check for duplicate rows\n",
    "\n",
    "print(data.duplicated().sum())\n",
    "\n",
    "# Drop duplicate rows\n",
    "\n",
    "data.drop_duplicates(inplace=True)\n",
    "\n",
    "print(\"---Removed Duplicate---\")\n",
    "print(data.duplicated().sum())"
   ]
  },
  {
   "cell_type": "code",
   "execution_count": 10,
   "id": "8609cdf1",
   "metadata": {},
   "outputs": [],
   "source": [
    "# Incode the categorical columns\n",
    "\n",
    "le_gender = LabelEncoder()\n",
    "le_smoking = LabelEncoder()\n",
    "data[\"gender\"] = le_gender.fit_transform(data[\"gender\"])\n",
    "data[\"smoking_history\"] = le_smoking.fit_transform(data[\"smoking_history\"])"
   ]
  },
  {
   "cell_type": "code",
   "execution_count": 11,
   "id": "03ad2aee",
   "metadata": {},
   "outputs": [
    {
     "data": {
      "text/html": [
       "<div>\n",
       "<style scoped>\n",
       "    .dataframe tbody tr th:only-of-type {\n",
       "        vertical-align: middle;\n",
       "    }\n",
       "\n",
       "    .dataframe tbody tr th {\n",
       "        vertical-align: top;\n",
       "    }\n",
       "\n",
       "    .dataframe thead th {\n",
       "        text-align: right;\n",
       "    }\n",
       "</style>\n",
       "<table border=\"1\" class=\"dataframe\">\n",
       "  <thead>\n",
       "    <tr style=\"text-align: right;\">\n",
       "      <th></th>\n",
       "      <th>gender</th>\n",
       "      <th>age</th>\n",
       "      <th>hypertension</th>\n",
       "      <th>heart_disease</th>\n",
       "      <th>smoking_history</th>\n",
       "      <th>bmi</th>\n",
       "      <th>HbA1c_level</th>\n",
       "      <th>blood_glucose_level</th>\n",
       "      <th>diabetes</th>\n",
       "    </tr>\n",
       "  </thead>\n",
       "  <tbody>\n",
       "    <tr>\n",
       "      <th>0</th>\n",
       "      <td>0</td>\n",
       "      <td>80</td>\n",
       "      <td>0</td>\n",
       "      <td>1</td>\n",
       "      <td>4</td>\n",
       "      <td>25.19</td>\n",
       "      <td>6.6</td>\n",
       "      <td>140</td>\n",
       "      <td>0</td>\n",
       "    </tr>\n",
       "    <tr>\n",
       "      <th>1</th>\n",
       "      <td>0</td>\n",
       "      <td>54</td>\n",
       "      <td>0</td>\n",
       "      <td>0</td>\n",
       "      <td>0</td>\n",
       "      <td>27.32</td>\n",
       "      <td>6.6</td>\n",
       "      <td>80</td>\n",
       "      <td>0</td>\n",
       "    </tr>\n",
       "    <tr>\n",
       "      <th>2</th>\n",
       "      <td>1</td>\n",
       "      <td>28</td>\n",
       "      <td>0</td>\n",
       "      <td>0</td>\n",
       "      <td>4</td>\n",
       "      <td>27.32</td>\n",
       "      <td>5.7</td>\n",
       "      <td>158</td>\n",
       "      <td>0</td>\n",
       "    </tr>\n",
       "    <tr>\n",
       "      <th>3</th>\n",
       "      <td>0</td>\n",
       "      <td>36</td>\n",
       "      <td>0</td>\n",
       "      <td>0</td>\n",
       "      <td>1</td>\n",
       "      <td>23.45</td>\n",
       "      <td>5.0</td>\n",
       "      <td>155</td>\n",
       "      <td>0</td>\n",
       "    </tr>\n",
       "    <tr>\n",
       "      <th>4</th>\n",
       "      <td>1</td>\n",
       "      <td>76</td>\n",
       "      <td>1</td>\n",
       "      <td>1</td>\n",
       "      <td>1</td>\n",
       "      <td>20.14</td>\n",
       "      <td>4.8</td>\n",
       "      <td>155</td>\n",
       "      <td>0</td>\n",
       "    </tr>\n",
       "  </tbody>\n",
       "</table>\n",
       "</div>"
      ],
      "text/plain": [
       "   gender  age  hypertension  heart_disease  smoking_history    bmi  \\\n",
       "0       0   80             0              1                4  25.19   \n",
       "1       0   54             0              0                0  27.32   \n",
       "2       1   28             0              0                4  27.32   \n",
       "3       0   36             0              0                1  23.45   \n",
       "4       1   76             1              1                1  20.14   \n",
       "\n",
       "   HbA1c_level  blood_glucose_level  diabetes  \n",
       "0          6.6                  140         0  \n",
       "1          6.6                   80         0  \n",
       "2          5.7                  158         0  \n",
       "3          5.0                  155         0  \n",
       "4          4.8                  155         0  "
      ]
     },
     "execution_count": 11,
     "metadata": {},
     "output_type": "execute_result"
    }
   ],
   "source": [
    "# Dataset after the column encoder\n",
    "\n",
    "data.head()"
   ]
  },
  {
   "cell_type": "code",
   "execution_count": 12,
   "id": "b8c7d126",
   "metadata": {},
   "outputs": [
    {
     "name": "stdout",
     "output_type": "stream",
     "text": [
      "<class 'pandas.core.frame.DataFrame'>\n",
      "Index: 96112 entries, 0 to 99999\n",
      "Data columns (total 9 columns):\n",
      " #   Column               Non-Null Count  Dtype  \n",
      "---  ------               --------------  -----  \n",
      " 0   gender               96112 non-null  int64  \n",
      " 1   age                  96112 non-null  int64  \n",
      " 2   hypertension         96112 non-null  int64  \n",
      " 3   heart_disease        96112 non-null  int64  \n",
      " 4   smoking_history      96112 non-null  int64  \n",
      " 5   bmi                  96112 non-null  float64\n",
      " 6   HbA1c_level          96112 non-null  float64\n",
      " 7   blood_glucose_level  96112 non-null  int64  \n",
      " 8   diabetes             96112 non-null  int64  \n",
      "dtypes: float64(2), int64(7)\n",
      "memory usage: 7.3 MB\n"
     ]
    }
   ],
   "source": [
    "# Dataset info\n",
    "\n",
    "data.info()"
   ]
  },
  {
   "cell_type": "code",
   "execution_count": 13,
   "id": "f15071b0",
   "metadata": {},
   "outputs": [],
   "source": [
    "# Selecting features and target variable\n",
    "\n",
    "features = data.drop(\"diabetes\", axis=1)\n",
    "\n",
    "X = features\n",
    "y = data[\"diabetes\"]"
   ]
  },
  {
   "cell_type": "code",
   "execution_count": 14,
   "id": "1f3e1de2",
   "metadata": {},
   "outputs": [],
   "source": [
    "# Scaling the features\n",
    "\n",
    "scaler = StandardScaler()\n",
    "X_scaled = scaler.fit_transform(X)"
   ]
  },
  {
   "cell_type": "code",
   "execution_count": 15,
   "id": "bc517f9d",
   "metadata": {},
   "outputs": [],
   "source": [
    "# Applying PCA\n",
    "\n",
    "pca = PCA()\n",
    "X_pca = pca.fit_transform(X_scaled)\n",
    "\n",
    "# Finding the optimal number of components\n",
    "\n",
    "max_index = pca.explained_variance_ratio_.cumsum().argmax()\n",
    "\n",
    "# Choose the number of components that explain 95% of the variance\n",
    "\n",
    "n_components = max_index + 1\n",
    "\n",
    "# Apply PCA with the optimal number of components\n",
    "\n",
    "pca = PCA(n_components=n_components)\n",
    "X_pca = pca.fit_transform(X_scaled)"
   ]
  },
  {
   "cell_type": "code",
   "execution_count": 16,
   "id": "c9adce3f",
   "metadata": {},
   "outputs": [
    {
     "name": "stdout",
     "output_type": "stream",
     "text": [
      "Accuracy:, 0.9654\n",
      "Classification Report: \n",
      "               precision    recall  f1-score   support\n",
      "\n",
      "           0       0.97      0.99      0.98     17524\n",
      "           1       0.93      0.66      0.77      1699\n",
      "\n",
      "    accuracy                           0.97     19223\n",
      "   macro avg       0.95      0.83      0.88     19223\n",
      "weighted avg       0.96      0.97      0.96     19223\n",
      "\n"
     ]
    }
   ],
   "source": [
    "# Splitting the data into training and testing sets\n",
    "\n",
    "X_train, X_test, y_train, y_test = train_test_split(X_pca, y, test_size=0.2, random_state=42)\n",
    "\n",
    "# Initializing and training the model\n",
    "\n",
    "model = XGBClassifier(random_state=42)\n",
    "model.fit(X_train, y_train)\n",
    "\n",
    "# Making predictions on the test set\n",
    "\n",
    "y_pred = model.predict(X_test)\n",
    "\n",
    "# Evaluating the model\n",
    "\n",
    "accuracy = accuracy_score(y_test, y_pred)\n",
    "print(f\"Accuracy:, {accuracy:.4f}\")\n",
    "print(f\"Classification Report: \\n {classification_report(y_test, y_pred)}\")\n",
    "\n",
    "# [1, 45, 0, 0, 1, 25.6, 6.5, 110],"
   ]
  },
  {
   "cell_type": "code",
   "execution_count": 17,
   "id": "02e336ec",
   "metadata": {},
   "outputs": [
    {
     "data": {
      "application/vnd.plotly.v1+json": {
       "config": {
        "plotlyServerURL": "https://plot.ly"
       },
       "data": [
        {
         "mode": "lines",
         "name": "ROC curve (AUC = 0.97)",
         "type": "scatter",
         "x": {
          "bdata": "AAAAAAAAAAAAAAAAAAAAAAAAAAAAAAAAAAAAAAAAAAAAAAAAAAAAAAAAAAAAAAAAAAAAAAAAAAAAAAAAAAAAAAAAAAAAAAAAAAAAAAAAAAAAAAAAAAAAAAAAAAAAAAAAAAAAAAAAAAAAAAAAAAAAAAAAAAAAAAAAAAAAAAAAAAAAAAAAAAAAAAAAAAAAAAAAAAAAAAAAAAAAAAAAAAAAAAAAAAAAAAAAAAAAAAAAAAAAAAAAAAAAAAAAAAAAAAAAAAAAAAAAAAAAAAAAAAAAAAAAAAAAAAAAAAAAAAAAAAAAAAAAAAAAAAAAAAAAAAAAAAAAAAAAAAAAAAAAAAAAAAAAAAAAAAAAAAAAAAAAAAAAAAAAAAAAAAAAAAAAAAAAAAAAAAAAAAAAAAAAAAAAAAAAAAAAAAAAAAAAAAAAAAAAAAAAAAAAAAAAAAAAAAAAAAAAAAAAAAAAAAAAAAAAAAAAAAAAAAAAAAAAAAAAAAAAAAAAAAAAAAAAAAAAAAAAAAAAAAAAAAAAAAAAAAAAAAAAAAAAAAAAAAAAAAAAAAAAAAAAAAAAAAAAAAAAAAAAAAAAAAAAAAAAAAAAAAAAAAAAAAAAAAAAAAAAAAAAAAAAAAAAAAAAAAAAAAAAAAAAAAAAAAAAAAAAAAAAAAAAAAAAAAAAAAAAAAAAAAAAAAAAAAAAAAAAAAAAAAAAAAAAAAAAAAAAAAAAAAAAAAAAAAAAAAAAAAAAAAAAAAAAAAAAAAAAAAAAAAAAAAAAAAAAAAAAAAAAAAAAAAAAAAAAAAAAAAAAAAAAAAAAAAAAAAAAAAAAAAAAAAAAAAAAAAAAAAAAAAAAAAAAAAAAAAAAAAAAAAAAAAAAAAAAAAAAAAAAAAAAAAAAAAAAAAAAAAAAAAAAAAAAAAAAAAAAAAAAAAAAAAAAAAAAAAAAAAAAAAAAAAAAAAAAAAAAAAAAAAAAAAAAAAAAAAAAAAAAAAAAAAAAAAAAAAAAAAAAAAAAAAAAAAAAAAAAALa4k6AU6w0/triToBTrDT+2uJOgFOsdP7a4k6AU6x0/iMpueE9wJj+Iym54T3AmP7a4k6AU6y0/triToBTrLT9yU1zk7LIyP3JTXOTssjI/iMpueE9wNj+Iym54T3A2P59BgQyyLTo/n0GBDLItOj+2uJOgFOs9P7a4k6AU6z0/5hdTmjvUQD/mF1OaO9RAP3JTXOTsskI/clNc5OyyQj/9jmUunpFEP/2OZS6ekUQ/iMpueE9wRj+Iym54T3BGPxQGeMIAT0g/FAZ4wgBPSD+fQYEMsi1KP59BgQyyLUo/Kn2KVmMMTD8qfYpWYwxMP7a4k6AU600/triToBTrTT+stVc/lMNRP6y1Vz+Uw1E/clNc5OyyUj9yU1zk7LJSP/2OZS6ekVQ//Y5lLp6RVD/DLGrT9oBVP8MsatP2gFU/iMpueE9wVj+Iym54T3BWPxQGeMIAT1g/FAZ4wgBPWD+fQYEMsi1aP59BgQyyLVo/Zd+FsQodWz9l34WxCh1bPyp9ilZjDFw/Kn2KVmMMXD+2uJOgFOtdP7a4k6AU610/QfSc6sXJXz9B9JzqxclfP6y1Vz+Uw2E/rLVXP5TDYT+PBNqRQDtiP48E2pFAO2I/clNc5OyyYj9yU1zk7LJiPzfxYIlFomM/N/FgiUWiYz8aQOPb8RlkPxpA49vxGWQ//Y5lLp6RZD/9jmUunpFkP05ocx2oX2c/TmhzHahfZz8UBnjCAE9oPxQGeMIAT2g/91T6FK3GaD/3VPoUrcZoP9mjfGdZPmk/2aN8Z1k+aT+fQYEMsi1qP59BgQyyLWo/gpADX16laj+CkANfXqVqPyp9ilZjDGw/Kn2KVmMMbD/TaRFOaHNtP9NpEU5oc20/mQcW88Bibj+ZBxbzwGJuP16lGpgZUm8/XqUamBlSbz/mF1OaO9RwP+YXU5o71HA/WD+UwxEQcT9YP5TDERBxP1Si3jaZKnM/VKLeNpkqcz/GyR9gb2ZzP8bJH2BvZnM/N/FgiUWicz838WCJRaJzP6kYorIb3nM/qRiishvecz/g3eeASgl1P+Dd54BKCXU/+vGvoSWsdj/68a+hJax2P05ocx2oX3c/TmhzHahfdz8UBnjCAE94PxQGeMIAT3g/hS2569aKeD+FLbnr1op4P2h8Oz6DAnk/aHw7PoMCeT/Zo3xnWT55P9mjfGdZPnk/S8u9kC96eT9Ly72QL3p5P7zy/rkFtnk/vPL+uQW2eT8uGkDj2/F5Py4aQOPb8Xk/n0GBDLItej+fQYEMsi16PxFpwjWIaXo/EWnCNYhpej+CkANfXqV6P4KQA19epXo/Zd+FsQodez9l34WxCh17P9YGx9rgWHs/1gbH2uBYez9ILggEt5R7P0guCAS3lHs/DcwMqQ+EfD8NzAypD4R8P/Aaj/u7+3w/8BqP+7v7fD9iQtAkkjd9P2JC0CSSN30/02kRTmhzfT/TaRFOaHN9P7a4k6AU630/triToBTrfT8KL1ccl55+PwovVxyXnn4/7X3ZbkMWfz/tfdluQxZ/P9DMW8HvjX8/0Mxbwe+Nfz/ZDe8JzgKAP9kN7wnOAoA/SzUwM6Q+gD9LNTAzpD6APwPJ0EePXIA/A8nQR49cgD+8XHFcenqAP7xccVx6eoA/dfARcWWYgD918BFxZZiAPy6EsoVQtoA/LoSyhVC2gD+C+nUB02mBP4L6dQHTaYE/O44WFr6HgT87jhYWvoeBP/MhtyqppYE/8yG3KqmlgT+stVc/lMOBP6y1Vz+Uw4E/Hd2YaGr/gT8d3Zhoav+BP48E2pFAO4I/jwTakUA7gj+5v7vPAZWCP7m/u88BlYI/nA4+Iq4Mgz+cDj4irgyDP39dwHRahIM/f13AdFqEgz838WCJRaKDPzfxYIlFooM/8IQBnjDAgz/whAGeMMCDP6kYorIb3oM/qRiishvegz/T04Pw3DeEP9PTg/DcN4Q//Y5lLp6RhD/9jmUunpGEP1EFKaogRYU/UQUpqiBFhT/DLGrT9oCFP8MsatP2gIU/e8AK6OGehT97wAro4Z6FP14PjTqOFoY/Xg+NOo4Whj+Iym54T3CGP4jKbnhPcIY/PsFZAMKoiD8+wVkAwqiIP6/omimY5Ig/r+iaKZjkiD+SNx18RFyJP5I3HXxEXIk/LhpA49vxiT8uGkDj2/GJPxFpwjWIaYo/EWnCNYhpij/J/GJKc4eKP8n8Ykpzh4o/OySkc0nDij87JKRzScOKPx5zJsb1Oos/HnMmxvU6iz9ILggEt5SLP0guCAS3lIs/uVVJLY3Qiz+5VUktjdCLPzeH7ubQ3Yw/N4fu5tDdjD/9JPOLKc2NP/0k84spzY0/b0w0tf8Ijj8n4NTJ6iaOP+Bzdd7VRI4/4HN13tVEjj+ZBxbzwGKOP5kHFvPAYo4/fFaYRW3ajj98VphFbdqOP7ZXP5TDEZA/tlc/lMMRkD9u69+ori+QP27r36iuL5A/J3+AvZlNkD8nf4C9mU2QP+ASIdKEa5A/4BIh0oRrkD+ZpsHmb4mQP5mmweZviZA/dfARcWWYkD918BFxZZiQP8NhoyQx45A/w2GjJDHjkD+C+nUB02mRP4L6dQHTaZE/XkTGi8h4kT9eRMaLyHiRPxfYZqCzlpE/F9hmoLOWkT/zIbcqqaWRP/MhtyqppZE/rLVXP5TDkT+stVc/lMORP48E2pFAO5I/jwTakUA7kj+VCQxa96OSP5UJDFr3o5I/DTZ/S4RIkz8NNn9LhEiTP8bJH2BvZpM/xskfYG9mkz+iE3DqZHWTP6ITcOpkdZM/W6cQ/0+Tkz9bpxD/T5OTP4Vi8jwR7ZM/hWLyPBHtkz9hrELHBvyTP2GsQscG/JM/94kzZucolD/3iTNm5yiUP68d1HrSRpQ/rx3UetJGlD8hRRWkqIKUPyFFFaSogpQ/EJ77hsLLlT8QnvuGwsuVP9A2zmNkUpY/0DbOY2RSlj+sgB7uWWGWP6yAHu5ZYZY/j8+gQAbZlj+Pz6BABtmWPyStkd/mBZc/JK2R3+YFlz8A9+Fp3BSXPwD34WncFJc/TmhzHahflz9OaHMdqF+XP+NFZLyIjJc/40VkvIiMlz8NAUb6SeaXPw0BRvpJ5pc/fyiHIyAimD9/KIcjICKYPze8JzgLQJg/N7wnOAtAmD8UBnjCAE+YPxQGeMIAT5g/qeNoYeF7mD+p42hh4XuYPxoLqoq3t5g/Gguqire3mD+v6JopmOSYP6/omimY5Jg/S8u9kC96mT9Ly72QL3qZPwRfXqUamJk/BF9epRqYmT/gqK4vEKeZP+Cori8Qp5k/UdDvWObimT9R0O9Y5uKZP3uL0ZanPJo/e4vRlqc8mj80H3KrklqaPzQfcquSWpo/F270/T7Smj8XbvT9PtKaP9ABlRIq8Jo/0AGVEirwmj+Pmmfvy3abP4+aZ+/Ldps/uVVJLY3Qmz+5VUktjdCbP04zOsxt/Zs/TjM6zG39mz/jECtrTiqcP+MQK2tOKpw/nKTLfzlInD+cpMt/OUicP3juGwovV5w/eO4bCi9XnD9VOGyUJGacP1U4bJQkZpw/xl+tvfqhnD/GX629+qGcP3/zTdLlv5w/f/NN0uW/nD9iQtAkkjedP2JC0CSSN50/9x/Bw3JknT/3H8HDcmSdP4z9sWJTkZ0/jP2xYlORnT/ZbkMWH9ydP9luQxYf3J0/BColVOA1nj8EKiVU4DWeP3VRZn22cZ4/dVFmfbZxnj8u5QaSoY+ePy7lBpKhj54/Ci9XHJeenj8KL1ccl56ePxE0ieRNB58/ETSJ5E0Hnz+mEXqDLjSfP4Jbyg0kQ58/glvKDSRDnz/QzFvB742fP9DMW8HvjZ8/+oc9/7Dnnz/6hz3/sOefP9bRjYmm9p8/1tGNiab2nz9u69+ori+gP27r36iuL6A/4BIh0oRroD/gEiHShGugP843SZf/cqA/zjdJl/9yoD+8XHFcenqgP7xccVx6eqA/P1+KwNWuoD8/X4rA1a6gPxyp2krLvaA/HKnaSsu9oD+N0Bt0ofmgP43QG3Sh+aA/RmS8iIwXoT9GZLyIjBehPyKuDBOCJqE/Iq4ME4ImoT//91yddzWhP//3XJ13NaE/20GtJ21EoT/bQa0nbUShP7eL/bFiU6E/t4v9sWJToT+C+nUB02mhP4L6dQHTaaE/XkTGi8h4oT9eRMaLyHihP/MhtyqppaE/8yG3KqmloT/oSxG42hWiP+hLEbjaFaI/od+xzMUzoj+h37HMxTOiP2tOKhw2SqI/a04qHDZKoj/Rn8XSPfaiP9GfxdI99qI/VKLeNpkqoz9Uot42mSqjP0PHBvwTMqM/Q8cG/BMyoz/qf8/VeVejP+p/z9V5V6M/FDuxEzuxoz8UO7ETO7GjP7vzee2g1qM/u/N57aDWoz9hrELHBvyjP2GsQscG/KM/GkDj2/EZpD8aQOPb8RmkP4xnJAXIVaQ/jGckBchVpD/9jmUunpGkP/2OZS6ekaQ/bramV3TNpD9utqZXdM2kP13bzhzv1KQ/XdvOHO/UpD8ElJf2VPqkPwSUl/ZU+qQ/Y+AA5aU9pT9j4ADlpT2lP1EFKaogRaU/UQUpqiBFpT8uT3k0FlSlPy5PeTQWVKU/HHSh+ZBbpT8cdKH5kFulP2rlMq1cpqU/auUyrVympT80VKv8zLylPzRUq/zMvKU/EJ77hsLLpT8QnvuGwsulP7dWxGAo8aU/t1bEYCjxpT+UoBTrHQCmP5SgFOsdAKY/TDS1/wgepj9MNLX/CB6mPyl+BYr+LKY/KX4Fiv4spj8Xoy1PeTSmPxejLU95NKY/QV4PjTqOpj9BXg+NOo6mP/rxr6ElrKY/+vGvoSWspj/WOwAsG7umP9Y7ACwbu6Y/rrTcC/mipz+utNwL+aKnP1VtpeVeyKc/VW2l5V7Ipz9bctetFTGoP1ty160VMag/lwiRJlyDqD+XCJEmXIOoP9OeSp+i1ag/055Kn6LVqD+dDcPuEuyoP50Nw+4S7Kg/elcTeQj7qD96VxN5CPuoPw81BBjpJ6k/DzUEGOknqT+kEvW2yVSpP6QS9bbJVKk/zs3W9IquqT/Ozdb0iq6pP5k8T0T7xKk/mTxPRPvEqT+NZqnRLDWqP41mqdEsNao/e4vRlqc8qj97i9GWpzyqP0b6SeYXU6o/RvpJ5hdTqj9M/3uuzruqP0z/e67Ou6o/F270/T7Sqj8XbvT9PtKqP+LcbE2v6Ko/4txsTa/oqj/QAZUSKvCqP9ABlRIq8Ko/mnANYpoGqz+acA1imgarP32/j7RGfqs/fb+PtEZ+qz9ILggEt5SrP0guCAS3lKs/Ep2AUyerqz8SnYBTJ6urP2AOEgfz9as/YA4SB/P1qz88WGKR6ASsPzxYYpHoBKw/wFp79UM5rD/AWnv1QzmsPx+n5OOUfKw//PA0boqLrD8U0T5xxuysPxTRPnHG7Kw/wY45E+N6rT/BjjkT43qtPyHbogE0vq0/IduiATS+rT8PAMvGrsWtPw8Ay8auxa0/FQX9jmUurj8VBf2OZS6uP/JOTRlbPa4/8k5NGVs9rj/OmJ2jUEyuP86YnaNQTK4/dVFmfbZxrj91UWZ9tnGuPxE0ieRNB68/ETSJ5E0Hrz+37FG+syyvP7fsUb6zLK8/BV7jcX93rz/zggs3+n6vP/OCCzf6fq8/mjvUEGCkrz93hSSbVbOvP3eFJJtVs68/ZapMYNC6rz9lqkxg0LqvP/qHPf+w568/1tGNiab2rz/ZDe8JzgKwP9kN7wnOArA/tlc/lMMRsD+2Vz+UwxGwP5Khjx65ILA/kqGPHrkgsD+AxrfjMyiwP9QinNDmOrA/wkfElWFCsD+Mtjzl0ViwP4y2POXRWLA/A8nQR49csD/y7fgMCmSwP1E6Yvtap7A/UTpi+1qnsD/UPHtfttuwP9Q8e1+227A/OnQ3h+7msD86dDeH7uawP7GGy+mr6rA/sYbL6avqsD8omV9Mae6wPyiZX0xp7rA/jdAbdKH5sD979UM5HAGxP89RKCbPE7E/z1EoJs8TsT9GZLyIjBexP0ZkvIiMF7E/iOXIOroxsT+I5cg6ujGxP1JUQYoqSLE/UlRBiipIsT8unpEUIFexPy6ekRQgV7E/+QwKZJBtsT/5DApkkG2xP15ExovIeLE/TGnuUEOAsT9Mae5QQ4CxP8N7grMAhLE/w3uCswCEsT+stVc/lMOxP5rafwQPy7E/3FuMtjzlsT/cW4y2POWxPwwCwS3lBrI/DALBLeUGsj+DFFWQogqyP4MUVZCiCrI/1nA5fVUdsj/WcDl9VR2yP8SVYULQJLI/xJVhQtAksj8qzR1qCDCyPyrNHWoIMLI/v6oOCelcsj+/qg4J6VyyP4kZh1hZc7I/iRmHWFlzsj/XihgMJb6yP9eKGAwlvrI/rukVXTMFsz+u6RVdMwWzP4ozZucoFLM/ijNm5ygUsz/dj0rU2yazP92PStTbJrM/VKLeNpkqsz9Uot42mSqzP2GSYzg3W7M/YZJjODdbsz/SuaRhDZezP9K5pGENl7M/nSgdsX2tsz+dKB2xfa2zPzIGDlBe2rM/MgYOUF7asz+pGKKyG96zP6kYorIb3rM/6pmuZEn4sz/qma5kSfizP9m+1inE/7M/2b7WKcT/sz/H4/7uPge0P8fj/u4+B7Q/PvaSUfwKtD8+9pJR/Aq0P6MtT3k0FrQ/oy1PeTQWtD/lrlsrYjC0P+WuWytiMLQ/rx3UetJGtD+vHdR60ka0P3qMTMpCXbQ/eoxMykJdtD+YV6kGZoa0P5hXqQZmhrQ//Y5lLp6RtD/9jmUunpG0P/2OZS6ekbQ//Y5lLp6RtD9ixiFW1py0P9nYtbiToLQ/OSUfp+TjtD85JR+n5OO0P3umK1kS/rQ/e6YrWRL+tD/yuL+7zwG1P/K4v7vPAbU/qkxg0LoftT+qTGDQuh+1PyFf9DJ4I7U/IV/0MngjtT9v0IXmQ261P2/QheZDbrU/sVGSmHGItT+xUZKYcYi1PyhkJvsujLU/KGQm+y6MtT/PHO/UlLG1P88c79SUsbU/vUEXmg+5tT+9QReaD7m1P8kxnJut6bU/yTGcm63ptT8uaVjD5fS1Py5pWMPl9LU/C7OoTdsDtj8Ls6hN2wO2P/nX0BJWC7Y/+dfQElYLtj/VISGdSxq2P9UhIZ1LGrY/R0lixiFWtj9HSWLGIVa2PzVuioucXbY/NW6Ki5xdtj+mlcu0cpm2P6aVy7RymbY/TU6Ujti+tj9NTpSO2L62P8RgKPGVwrY/xGAo8ZXCtj+hqnh7i9G2P6GqeHuL0bY/dwl2zJkYtz93CXbMmRi3P5XU0gi9Qbc/ldTSCL1Btz8M52ZrekW3PwznZmt6Rbc/YENLWC1Ytz9gQ0tYLVi3P9dV37rqW7c/11Xfuupbtz+utNwL+aK3P6603Av5orc/ARHB+Ku1tz8BEcH4q7W3P0OSzarZz7c/Q5LNqtnPtz9PglKsdwC4P0+CUqx3ALg/tLkO1K8LuD+0uQ7Urwu4P3NS4bBRkrg/c1LhsFGSuD/qZHUTD5a4P9mJndiJnbg/2Ymd2ImduD/HrsWdBKW4P8euxZ0Epbg/JvsujFXouD8m+y6MVei4P3pXE3kI+7g/elcTeQj7uD+q/UfwsBy5P6r9R/CwHLk/UbYQyhZCuT9RthDKFkK5Pz/bOI+RSbk/P9s4j5FJuT9A9RceYeq5P0D1Fx5h6rk/k1H8ChT9uT+TUfwKFP25PwpkkG3RALo/CmSQbdEAuj9dwHRahBO6P13AdFqEE7o/sRxZRzcmuj+xHFlHNya6Pygv7an0Kbo/KC/tqfQpuj+fQYEMsi26PxZUFW9vMbo/WNUhIZ1Luj9Y1SEhnUu6P0b6SeYXU7o/RvpJ5hdTuj+9DN5I1Va6P70M3kjVVro/mVYu08pluj+ZVi7TymW6P9vXOoX4f7o/29c6hfh/uj/J/GJKc4e6P8n8Ykpzh7o/1eznSxG4uj/V7OdLEbi6PzskpHNJw7o/OySkc0nDuj81OVE6Yvu6PzU5UTpi+7o/0Rt0ofmQuz/RG3Sh+ZC7P61lxCvvn7s/rWXEK++fuz8keFiOrKO7PyR4WI6so7s/yzAhaBLJuz/LMCFoEsm7P3Lp6UF47rs/cunpQXjuuz8qfYpWYwy8Pyp9ilZjDLw/SEjnkoY1vD9ISOeShjW8PxO3X+L2S7w/E7df4vZLvD8B3IencVO8P3juGwovV7w//PA0boqLvD/88DRuiou8PzeH7ubQ3bw/N4fu5tDdvD/8ChT9WSy9P+ovPMLUM70/o8Pc1r9RvT+jw9zWv1G9P9NpEU5oc70/02kRTmhzvT8mxvU6G4a9PybG9Tobhr0/FesdAJaNvT8V6x0Alo29P99Zlk8GpL0/31mWTwakvT8b8E/ITPa9PxvwT8hM9r0/CRV4jcf9vT8JFXiNx/29P11xXHp6EL4/XXFcenoQvj85u6wEcB++Pzm7rARwH74/sM1AZy0jvj+wzUBnLSO+PxAaqlV+Zr4//j7SGvltvj/sY/rfc3W+P+xj+t9zdb4/secf9vzDvj+x5x/2/MO+PyIPYR/T/74/Ig9hH9P/vj9epRqYGVK/P16lGpgZUr8/1beu+tZVvz/Vt6761lW/P8Tc1r9RXb8/xNzWv1Fdvz81BBjpJ5m/PzUEGOknmb8/d4Ukm1Wzvz93hSSbVbO/Px4+7XS72L8/Hj7tdLvYvz/ZDe8JzgLAP1Agg2yLBsA/CbQjgXYkwD8JtCOBdiTAP7zPAZUSKsA/vM8BlRIqwD8hB768SjXAPyEHvrxKNcA/1CKc0OY6wD/UIpzQ5jrAP0s1MDOkPsA/SzUwM6Q+wD8KQZNI3nTAPwpBk0jedMA/7AKm0yKcwD9jFTo24J/AP9onzpido8A/UTpi+1qnwD+NQ6ysOanAP41DrKw5qcA/5hdTmjvUwD/mF1OaO9TAPyIhnUsa1sA/IiGdSxrWwD/DYaMkMePAP8NhoyQx48A/RmS8iIwXwT9GZLyIjBfBPzSJ5E0HH8E/NInkTQcfwT+ZwKB1PyrBPxDTNNj8LcE/OgGnTlY3wT86AadOVjfBP3YK8f80OcE/dgrx/zQ5wT/zlEdjQVXBP/OUR2NBVcE/284c79SUwT/bzhzv1JTBPxfYZqCzlsE/F9hmoLOWwT/ovqHwcsXBP+i+ofByxcE/U24gGfrowT/KgLR7t+zBP6HfsczFM8I/od+xzMUzwj/QheZDblXCP9CF5kNuVcI/g6HEVwpbwj+DocRXClvCPxh/tfbqh8I/GH+19uqHwj+PkUlZqIvCPwwcoLy0p8I/DBygvLSnwj+tXKaVy7TCP61cppXLtMI/iqb2H8HDwj+KpvYfwcPCP35D4eWK48I/fkPh5Yrjwj8NqQ+EHPjCPw2pD4Qc+MI/SLJZNfv5wj9Islk1+/nCP3Lgy6tUA8M/cuDLq1QDwz8fEVeGCUHDPx8RV4YJQcM/6n/P1XlXwz/qf8/VeVfDP9ik95r0XsM/2KT3mvRewz8TrkFM02DDPxOuQUzTYMM/DsPuEuyYwz8Ow+4S7JjDP1W8vcVoy8M/Vby9xWjLwz/MzlEoJs/DP8zOUSgmz8M/lz3Kd5blwz+XPcp3luXDP2gkBchVFMQ/aCQFyFUUxD/fNpkqExjEP982mSoTGMQ/qaUReoMuxD+ppRF6gy7EP1zB740fNMQ/XMHvjR80xD+Xyjk//jXEP5fKOT/+NcQ/LKgq3t5ixD8sqCre3mLEP83oMLf1b8Q/zegwt/VvxD9uKTeQDH3EP24pN5AMfcQ/PxBy4MurxD8/EHLgy6vEPwl/6i88wsQ/CX/qLzzCxD9FFaSoghTFP7wnOAtAGMU/Oj/+NbSExT86P/41tITFP5MTpSO2r8U/kxOlI7avxT8o8ZXCltzFPyjxlcKW3MU/t1bEYCjxxT+3VsRgKPHFP4LFPLCYB8Y/gsU8sJgHxj8pfgWK/izGPyl+BYr+LMY/ZIdPO90uxj9kh0873S7GP7jjMyiQQcY/uOMzKJBBxj+Iym54T3DGP4jKbnhPcMY/ffTIBYHgxj999MgFgeDGPzwALBu7Fsc/PAAsG7sWxz9yHiOTslDHP3IeI5OyUMc/Wlj4HkaQxz9aWPgeRpDHP8YHd0fNs8c/PRoLqoq3xz9VbaXlXsjHP1VtpeVeyMc/5NLTg/Dcxz/k0tOD8NzHP1vlZ+at4Mc/W+Vn5q3gxz+0uQ7UrwvIP7S5DtSvC8g/Z9Xs50sRyD9n1eznSxHIPzFEZTe8J8g/MURlN7wnyD+ja6ZgkmPIP6NrpmCSY8g/zJkY1+tsyD/MmRjX62zIP+pkdRMPlsg/6mR1Ew+WyD95yqOxoKrIP3nKo7Ggqsg/RDkcARHByD9EORwBEcHIP4BCZrLvwsg/gEJmsu/CyD/r8eTadubIP+vx5Np25sg/FSBXUdDvyD8VIFdR0O/IP8c7NWVs9cg/xzs1ZWz1yD9cGSYETSLJP1wZJgRNIsk/LY3QG3ShyT8tjdAbdKHJPyIqu+E9wck/Iiq74T3ByT+HYXcJdszJP4dhdwl2zMk/KKJ94ozZyT8oon3ijNnJPxw/aKhW+ck/HD9oqFb5yT+CA5SX9lTKP/kVKPqzWMo/cCi8XHFcyj9wKLxccVzKP+c6UL8uYMo/Xk3kIexjyj++Jr3XpPfKP74mvdek98o/O7ETO7ETyz87sRM7sRPLP5WFuiizPss/R6GYPE9Eyz9f9DJ4I1XLP1/0MngjVcs/4vZL3H6Jyz/i9kvcfonLP+huDt3Nocs/6G4O3c2hyz88y/LJgLTLPzzL8smAtMs/JAXIVRT0yz8kBchVFPTLP5sXXLjR98s/mxdcuNH3yz9mhtQHQg7MP2aG1AdCDsw/DT+d4aczzD8NP53hpzPMP0hI55KGNcw/wFp79UM5zD/XrRUxGErMP0/AqZPVTcw/isnzRLRPzD+KyfNEtE/MP2YTRM+pXsw/ZhNEz6lezD9J1VZa7oXMPzf6fh9pjcw/bRh2l2DHzD9tGHaXYMfMP0lixiFW1sw/SWLGIVbWzD/BAcpLeyrNPzgUXq44Ls0/AoPW/ahEzT8Cg9b9qETNP0QE46/WXs0/uxZ3EpRizT8tyycD0u7NPy3LJwPS7s0//rFiU5Edzj91xPa1TiHOPy1Yl8o5P84/pGorLfdCzj9d/stB4mDOP13+y0HiYM4/n3/Y8w97zj8WkmxWzX7OP4FB635Uos4/gUHrflSizj9wgPLSnkrPP3CA8tKeSs8/EcH4q7VXzz8RwfirtVfPP2Qd3Zhoas8/ZB3dmGhqzz9B9JzqxcnPP0H0nOrFyc8/kqGPHrkg0D+SoY8euSDQPxJoRwLtSNA/sGzsWtxJ0D8VpKiCFFXQPxWkqIIUVdA/DQpkkG3R0D8NCmSQbdHQP10q5/z419A/mTMxrtfZ0D9Pi3BCm+vQP0+LcEKb69A/Zt4Kfm/80D9m3gp+b/zQP8yiNm0PWNE/CKyAHu5Z0T+9A8CysWvRP70DwLKxa9E/Srr8l4PE0T9KuvyXg8TRP+LTTreL/dE/4tNOt4v90T/TNNj8LRHSPw8+Iq4ME9I/dAJOnaxu0j90Ak6drG7SP7NH+c6yfNI/s0f5zrJ80j9geISpZ7rSP2B4hKlnutI/LSNeef/c0j9pLKgq3t7SPzObIHpO9dI/b6RqKy330j9dyZLwp/7SP13JkvCn/tI/N9eB+nUB0z8314H6dQHTP3UcLSx8D9M/dRwtLHwP0z+HhHQuaVjTP4eEdC5pWNM/w42+30da0z/+lgiRJlzTPwHTaRFOaNM/Pdyzwixq0z8Lh42SxIzTPwuHjZLEjNM/6gw/neGn0z8mFolOwKnTP6BkfjGludM/223I4oO70z++Sbr8l4PUP75JuvyXg9Q/SnOHGgKM1D+GfNHL4I3UP9acVDhslNQ/1pxUOGyU1D8DBygv7anUPz8QcuDLq9Q/aD7kViW11D+kRy4IBLfUP8VO7MRO7NQ/AFg2di3u1D9Xfeuqb13VP1d966pvXdU/lsKW3HVr1T+WwpbcdWvVP/v5UgSudtU/NwOdtYx41T+fdrpd7I/VP9t/BA/LkdU/upIl4U/91T+UoBTrHQDWP4UBnjDAE9Y/hQGeMMAT1j9dlFmfbZzXP5mdo1BMntc/eCNVW2m51z+0LJ8MSLvXP0BWbCqyw9c/e1+225DF1z8HiYP5+s3XP0OSzarZz9c/wBwkDubr1z/7JW6/xO3XP21Nr+iaKdg/qFb5mXkr2D8UBnjCAE/YP08PwnPfUNg/Z2Jcr7Nh2D+ja6ZgkmPYP4UtuevWitg/wTYDnbWM2D84SZf/cpDYP3NS4bBRktg/LyLjRWS82D9rKy33Qr7YPz5Oyccp+dg/elcTeQj72D+khYXvYQTZP9+Oz6BABtk/7rq1IgZD2T/uurUiBkPZP/du2aN8Z9k/M3gjVVtp2T/UuCkucnbZP9S4KS5ydtk/Yx5YzAOL2T+eJ6J94ozZP9KWpzwaC9o/DaDx7fgM2j86CsXkeSLaP3UTD5ZYJNo/tFi6x14y2j/wYQR5PTTaPzHjECtrTto/bexa3ElQ2j9VJjBo3Y/aP5Evehm8kdo/8QhTz3Ql2z8sEp2AUyfbPwY6axnxyts/QkO1ys/M2z97nQ3D7hLcP7amV3TNFNw/tITVgnWp3D/wjR80VKvcP20Ydpdgx9w/qCHASD/J3D+F+H+anCjdP18Gb6RqK90/LLFIdAJO3T9oupIl4U/dPzRdyZLwp94/b2YTRM+p3j8LvMbj/u7eP0bFEJXd8N4/9jH977k63z8yO0ehmDzfP4jTjA5zW98/xNzWv1Fd3z9KG1Gk1J3fP4Ukm1Wzn98/d4Ukm1Wz3z+yjm5MNLXfP1yDmKbB5t8/mIziV6Do3z/LbnhPcBbgP2hzHahfF+A/w+X0VXVI4D9h6pmuZEngP1JLI/QGXeA/8E/ITPZd4D98BgUyyLbgPxoLqoq3t+A/QpvrQP264D/gn5CZ7LvgP0XXTMEkx+A/49vxGRTI4D/E/9PkROngP2IEeT006uA/u9gfKzYV4T9Z3cSDJRbhP5XmDjUEGOE/M+uzjfMY4T/SjYmm9h/hP3CSLv/lIOE/UlRBiipI4T/wWObiGUnhPzA8wtQzXeE/zkBnLSNe4T8dw7nZml7hP7rHXjKKX+E/mK/ffJN04T82tITVgnXhP9ow7C7BjuE/eDWRh7CP4T8aFMgg26LhP7gYbXnKo+E/jndqytjq4T8sfA8jyOvhP7il3EAy9OE/VqqBmSH14T9XSLJZNfvhP/VMV7Ik/OE/YpoGm78l4j8An6vzribiPyrNHWoIMOI/FlQVb28x4j+60HzIrUriP1jVISGdS+I/IkSacA1i4j/ASD/J/GLiP6SoghRVkOI/Qq0nbUSR4j+DLjQfcqviPyEz2XdhrOI/OOhC8yG34j/V7OdLEbjiPzU5UTpi++I/0z32klH84j/uzPFOTRnjP4vRlqc8GuM/+rx2UOtJ4z+YwRup2krjP87fEiHShOM/a+S3ecGF4z+n7QEroIfjP0XypoOPiOM/2s+XInC14z931Dx7X7bjP2AOEgfz9eM/TZUJDFr34z/aXAfq1wXkP3hhrELHBuQ//QH2ZjZB5D+aBpu/JULkP1Be2lPpU+Q/7mJ/rNhU5D97Kn2KVmPkPxkvIuNFZOQ/lRtIhj565D+Boj+LpXvkP9g6hfh/muQ/xcF8/eab5D8rl2nlMq3kP8mbDj4iruQ/hWsQ0zTY5D8jcLUrJNnkP3HyB9ib2eQ/D/esMIva5D8SMw6xsubkP/+5BbYZ6OQ/QtlCKFsI5T/g3eeASgnlP2/QheZDbuU/DdUqPzNv5T9Q9GexdI/lP+74DApkkOU/W0a88v655T/5SmFL7rrlPzrMbf0b1eU/2NASVgvW5T+me+wlo/jlP0OAkX6S+eU/nvJoLKgq5j889w2FlyvmP7Wn0qdoNeY/U6x3AFg25j8yMikLdVHmP9A2zmNkUuY/cHfUPHtf5j9d/stB4mDmP9JhbuvfqOY/b2YTRM+p5j8qmOQYzs3mP8eciXG9zuY/KzYV2eHT5j/JOrox0dTmP+O49PQgPOc/gL2ZTRA95z/R3Ry6m0PnP2/iwRKLROc/dEnDGi6n5z8RTmhzHajnPyzdYy8Zxec/yuEIiAjG5z9b5WfmreDnP/jpDD+d4ec/05UsCX/q5z9xmtFhbuvnPzcvuHCj7+c/1TNdyZLw5z+eBKVY7wDoPzwJSrHeAeg/M+KV988t6D/R5jpQvy7oP3vbZKpMYOg/GOAJAzxh6D9Yw+X0VXXoP/bHik1Fdug/z9V5VxN56D9t2h6wAnroPyD2/MOef+g/vvqhHI6A6D+c4iJnl5XoPznnx7+Glug/uq1/o7q+6D9XsiT8qb/oPzc41gbH2ug/1Dx7X7bb6D9iBHk9NOroPwAJHpYj6+g/e/VDORwB6T8Z+uiRCwLpPwcfEVeGCek/pSO2r3UK6T9JoB0JtCPpP+ekwmGjJOk/gvp1AdNp6T8g/xpawmrpP4hyOAIiguk/JnfdWhGD6T8tjdAbdKHpP8uRdXRjouk/4KiuLxCn6T9+rVOI/6fpP2o0S41mqek/CDnw5VWq6T9EQjqXNKzpP+FG3+8jrek/06doNcbA6T9wrA2OtcHpPw6xsuakwuk/rLVXP5TD6T93JNCOBNrpPxQpdefz2uk/V0iyWTX76T/1TFeyJPzpP7eUG0iGPuo/VZnAoHU/6j8fCDnw5VXqP70M3kjVVuo/IkSacA1i6j/ASD/J/GLqP9o5CsXkeeo/dz6vHdR66j/hT/2FR5jqP39Uot42meo/2sZ5jEzK6j94yx7lO8vqPyrn/PjX0Oo/ZvBGqrbS6j+/xO2XuP3qP13JkvCn/uo/GjfFRc4u6z+4O2qevS/rP8dnUCCDbOs/ZWz1eHJt6z/JBYHglnLrP2cKJjmGc+s/QrZFA2h86z/fuupbV33rP7pmCiY5hus/WGuvfiiH6z8Lh42SxIzrP6iLMuuzjes/JHhYjqyj6z/CfP3mm6TrPwDCqBiisus/7UigHQm06z9/6i88wtTrPx3v1JSx1es/wWs87u/u6z9ecOFG3+/rPynfWZZPBuw/FmZRm7YH7D9ZhY4N+CfsP/eJM2bnKOw/liwJf+ov7D80Ma7X2TDsP+jqvKuJPOw/hu9hBHk97D9PwKmT1U3sP+zETuzETuw/UvwKFP1Z7D/vALBs7FrsP/Ge4CwAYew/j6OFhe9h7D+3M8c7NWXsP1U4bJQkZuw/yZsOPiKu7D9noLOWEa/sP6RHLggEt+w/QkzTYPO37D/AdFqEE9rsP155/9wC2+w/hglBk0je7D8kDubrN9/sP9lUZIdPO+0/dlkJ4D487T9ByIEvr1LtP9/MJoieU+0/Lk95NBZU7T/LUx6NBVXtP4ANLWG1YO0/HRLSuaRh7T83A521jHjtP9UHQg58ee0/n3a6XeyP7T+M/bFiU5HtPw1imgabv+0/+uiRCwLB7T/DudmaXtHtP2G+fvNN0u0/4yJnl5UA7j+AJwzwhAHuP40XkfEiMu4/Khw2ShIz7j8Xoy1PeTTuP7Wn0qdoNe4/8+x92W5D7j8v9seKTUXuPzVuioucXe4/03Iv5Ite7j9wd9Q8e1/uPw58eZVqYO4/xw8aqlV+7j9lFL8CRX/uP9wmU2UCg+4/eiv4vfGD7j9VZIdPO93uP/NoLKgq3u4/9AZdaD7k7j+SCwLBLeXuP+Vn5q3g9+4/g2yLBtD47j9w84ILN/ruPw74J2Qm++4/URdl1mcb7z/uGwovVxzvP0W0T5wxO+8/gL2ZTRA97z/kViW1NELvP4Jbyg0kQ+8/NXeoIcBI7z/Se016r0nvPxHB+Ku1V+8/r8WdBKVY7z+ixFcKW3LvPz/J/GJKc+8/HBNN7T+C7z+5F/JFL4PvPwo4dbK6ie8/qDwaC6qK7z9LuYFk6KPvP+m9Jr3XpO8/YNC6H5Wo7z/+1F94hKnvP9mAf0Jmsu8/d4Ukm1Wz7z/HpacH4bnvP2WqTGDQuu8/9a2rvnXV7z+TslAXZdbvPw0BRvpJ5u8/qwXrUjnn7z/TlSwJf+rvP3Ga0WFu6+8/w1iFjg347z9hXSrn/PjvP5xmdJjb+u8/OmsZ8cr77z8AAAAAAADwPw==",
          "dtype": "f8"
         },
         "y": {
          "bdata": "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",
          "dtype": "f8"
         }
        },
        {
         "line": {
          "dash": "dash"
         },
         "mode": "lines",
         "name": "Random Classifier",
         "type": "scatter",
         "x": [
          0,
          1
         ],
         "y": [
          0,
          1
         ]
        }
       ],
       "layout": {
        "height": 500,
        "legend": {
         "traceorder": "normal",
         "x": 0,
         "y": 0
        },
        "template": {
         "data": {
          "bar": [
           {
            "error_x": {
             "color": "#2a3f5f"
            },
            "error_y": {
             "color": "#2a3f5f"
            },
            "marker": {
             "line": {
              "color": "#E5ECF6",
              "width": 0.5
             },
             "pattern": {
              "fillmode": "overlay",
              "size": 10,
              "solidity": 0.2
             }
            },
            "type": "bar"
           }
          ],
          "barpolar": [
           {
            "marker": {
             "line": {
              "color": "#E5ECF6",
              "width": 0.5
             },
             "pattern": {
              "fillmode": "overlay",
              "size": 10,
              "solidity": 0.2
             }
            },
            "type": "barpolar"
           }
          ],
          "carpet": [
           {
            "aaxis": {
             "endlinecolor": "#2a3f5f",
             "gridcolor": "white",
             "linecolor": "white",
             "minorgridcolor": "white",
             "startlinecolor": "#2a3f5f"
            },
            "baxis": {
             "endlinecolor": "#2a3f5f",
             "gridcolor": "white",
             "linecolor": "white",
             "minorgridcolor": "white",
             "startlinecolor": "#2a3f5f"
            },
            "type": "carpet"
           }
          ],
          "choropleth": [
           {
            "colorbar": {
             "outlinewidth": 0,
             "ticks": ""
            },
            "type": "choropleth"
           }
          ],
          "contour": [
           {
            "colorbar": {
             "outlinewidth": 0,
             "ticks": ""
            },
            "colorscale": [
             [
              0,
              "#0d0887"
             ],
             [
              0.1111111111111111,
              "#46039f"
             ],
             [
              0.2222222222222222,
              "#7201a8"
             ],
             [
              0.3333333333333333,
              "#9c179e"
             ],
             [
              0.4444444444444444,
              "#bd3786"
             ],
             [
              0.5555555555555556,
              "#d8576b"
             ],
             [
              0.6666666666666666,
              "#ed7953"
             ],
             [
              0.7777777777777778,
              "#fb9f3a"
             ],
             [
              0.8888888888888888,
              "#fdca26"
             ],
             [
              1,
              "#f0f921"
             ]
            ],
            "type": "contour"
           }
          ],
          "contourcarpet": [
           {
            "colorbar": {
             "outlinewidth": 0,
             "ticks": ""
            },
            "type": "contourcarpet"
           }
          ],
          "heatmap": [
           {
            "colorbar": {
             "outlinewidth": 0,
             "ticks": ""
            },
            "colorscale": [
             [
              0,
              "#0d0887"
             ],
             [
              0.1111111111111111,
              "#46039f"
             ],
             [
              0.2222222222222222,
              "#7201a8"
             ],
             [
              0.3333333333333333,
              "#9c179e"
             ],
             [
              0.4444444444444444,
              "#bd3786"
             ],
             [
              0.5555555555555556,
              "#d8576b"
             ],
             [
              0.6666666666666666,
              "#ed7953"
             ],
             [
              0.7777777777777778,
              "#fb9f3a"
             ],
             [
              0.8888888888888888,
              "#fdca26"
             ],
             [
              1,
              "#f0f921"
             ]
            ],
            "type": "heatmap"
           }
          ],
          "histogram": [
           {
            "marker": {
             "pattern": {
              "fillmode": "overlay",
              "size": 10,
              "solidity": 0.2
             }
            },
            "type": "histogram"
           }
          ],
          "histogram2d": [
           {
            "colorbar": {
             "outlinewidth": 0,
             "ticks": ""
            },
            "colorscale": [
             [
              0,
              "#0d0887"
             ],
             [
              0.1111111111111111,
              "#46039f"
             ],
             [
              0.2222222222222222,
              "#7201a8"
             ],
             [
              0.3333333333333333,
              "#9c179e"
             ],
             [
              0.4444444444444444,
              "#bd3786"
             ],
             [
              0.5555555555555556,
              "#d8576b"
             ],
             [
              0.6666666666666666,
              "#ed7953"
             ],
             [
              0.7777777777777778,
              "#fb9f3a"
             ],
             [
              0.8888888888888888,
              "#fdca26"
             ],
             [
              1,
              "#f0f921"
             ]
            ],
            "type": "histogram2d"
           }
          ],
          "histogram2dcontour": [
           {
            "colorbar": {
             "outlinewidth": 0,
             "ticks": ""
            },
            "colorscale": [
             [
              0,
              "#0d0887"
             ],
             [
              0.1111111111111111,
              "#46039f"
             ],
             [
              0.2222222222222222,
              "#7201a8"
             ],
             [
              0.3333333333333333,
              "#9c179e"
             ],
             [
              0.4444444444444444,
              "#bd3786"
             ],
             [
              0.5555555555555556,
              "#d8576b"
             ],
             [
              0.6666666666666666,
              "#ed7953"
             ],
             [
              0.7777777777777778,
              "#fb9f3a"
             ],
             [
              0.8888888888888888,
              "#fdca26"
             ],
             [
              1,
              "#f0f921"
             ]
            ],
            "type": "histogram2dcontour"
           }
          ],
          "mesh3d": [
           {
            "colorbar": {
             "outlinewidth": 0,
             "ticks": ""
            },
            "type": "mesh3d"
           }
          ],
          "parcoords": [
           {
            "line": {
             "colorbar": {
              "outlinewidth": 0,
              "ticks": ""
             }
            },
            "type": "parcoords"
           }
          ],
          "pie": [
           {
            "automargin": true,
            "type": "pie"
           }
          ],
          "scatter": [
           {
            "fillpattern": {
             "fillmode": "overlay",
             "size": 10,
             "solidity": 0.2
            },
            "type": "scatter"
           }
          ],
          "scatter3d": [
           {
            "line": {
             "colorbar": {
              "outlinewidth": 0,
              "ticks": ""
             }
            },
            "marker": {
             "colorbar": {
              "outlinewidth": 0,
              "ticks": ""
             }
            },
            "type": "scatter3d"
           }
          ],
          "scattercarpet": [
           {
            "marker": {
             "colorbar": {
              "outlinewidth": 0,
              "ticks": ""
             }
            },
            "type": "scattercarpet"
           }
          ],
          "scattergeo": [
           {
            "marker": {
             "colorbar": {
              "outlinewidth": 0,
              "ticks": ""
             }
            },
            "type": "scattergeo"
           }
          ],
          "scattergl": [
           {
            "marker": {
             "colorbar": {
              "outlinewidth": 0,
              "ticks": ""
             }
            },
            "type": "scattergl"
           }
          ],
          "scattermap": [
           {
            "marker": {
             "colorbar": {
              "outlinewidth": 0,
              "ticks": ""
             }
            },
            "type": "scattermap"
           }
          ],
          "scattermapbox": [
           {
            "marker": {
             "colorbar": {
              "outlinewidth": 0,
              "ticks": ""
             }
            },
            "type": "scattermapbox"
           }
          ],
          "scatterpolar": [
           {
            "marker": {
             "colorbar": {
              "outlinewidth": 0,
              "ticks": ""
             }
            },
            "type": "scatterpolar"
           }
          ],
          "scatterpolargl": [
           {
            "marker": {
             "colorbar": {
              "outlinewidth": 0,
              "ticks": ""
             }
            },
            "type": "scatterpolargl"
           }
          ],
          "scatterternary": [
           {
            "marker": {
             "colorbar": {
              "outlinewidth": 0,
              "ticks": ""
             }
            },
            "type": "scatterternary"
           }
          ],
          "surface": [
           {
            "colorbar": {
             "outlinewidth": 0,
             "ticks": ""
            },
            "colorscale": [
             [
              0,
              "#0d0887"
             ],
             [
              0.1111111111111111,
              "#46039f"
             ],
             [
              0.2222222222222222,
              "#7201a8"
             ],
             [
              0.3333333333333333,
              "#9c179e"
             ],
             [
              0.4444444444444444,
              "#bd3786"
             ],
             [
              0.5555555555555556,
              "#d8576b"
             ],
             [
              0.6666666666666666,
              "#ed7953"
             ],
             [
              0.7777777777777778,
              "#fb9f3a"
             ],
             [
              0.8888888888888888,
              "#fdca26"
             ],
             [
              1,
              "#f0f921"
             ]
            ],
            "type": "surface"
           }
          ],
          "table": [
           {
            "cells": {
             "fill": {
              "color": "#EBF0F8"
             },
             "line": {
              "color": "white"
             }
            },
            "header": {
             "fill": {
              "color": "#C8D4E3"
             },
             "line": {
              "color": "white"
             }
            },
            "type": "table"
           }
          ]
         },
         "layout": {
          "annotationdefaults": {
           "arrowcolor": "#2a3f5f",
           "arrowhead": 0,
           "arrowwidth": 1
          },
          "autotypenumbers": "strict",
          "coloraxis": {
           "colorbar": {
            "outlinewidth": 0,
            "ticks": ""
           }
          },
          "colorscale": {
           "diverging": [
            [
             0,
             "#8e0152"
            ],
            [
             0.1,
             "#c51b7d"
            ],
            [
             0.2,
             "#de77ae"
            ],
            [
             0.3,
             "#f1b6da"
            ],
            [
             0.4,
             "#fde0ef"
            ],
            [
             0.5,
             "#f7f7f7"
            ],
            [
             0.6,
             "#e6f5d0"
            ],
            [
             0.7,
             "#b8e186"
            ],
            [
             0.8,
             "#7fbc41"
            ],
            [
             0.9,
             "#4d9221"
            ],
            [
             1,
             "#276419"
            ]
           ],
           "sequential": [
            [
             0,
             "#0d0887"
            ],
            [
             0.1111111111111111,
             "#46039f"
            ],
            [
             0.2222222222222222,
             "#7201a8"
            ],
            [
             0.3333333333333333,
             "#9c179e"
            ],
            [
             0.4444444444444444,
             "#bd3786"
            ],
            [
             0.5555555555555556,
             "#d8576b"
            ],
            [
             0.6666666666666666,
             "#ed7953"
            ],
            [
             0.7777777777777778,
             "#fb9f3a"
            ],
            [
             0.8888888888888888,
             "#fdca26"
            ],
            [
             1,
             "#f0f921"
            ]
           ],
           "sequentialminus": [
            [
             0,
             "#0d0887"
            ],
            [
             0.1111111111111111,
             "#46039f"
            ],
            [
             0.2222222222222222,
             "#7201a8"
            ],
            [
             0.3333333333333333,
             "#9c179e"
            ],
            [
             0.4444444444444444,
             "#bd3786"
            ],
            [
             0.5555555555555556,
             "#d8576b"
            ],
            [
             0.6666666666666666,
             "#ed7953"
            ],
            [
             0.7777777777777778,
             "#fb9f3a"
            ],
            [
             0.8888888888888888,
             "#fdca26"
            ],
            [
             1,
             "#f0f921"
            ]
           ]
          },
          "colorway": [
           "#636efa",
           "#EF553B",
           "#00cc96",
           "#ab63fa",
           "#FFA15A",
           "#19d3f3",
           "#FF6692",
           "#B6E880",
           "#FF97FF",
           "#FECB52"
          ],
          "font": {
           "color": "#2a3f5f"
          },
          "geo": {
           "bgcolor": "white",
           "lakecolor": "white",
           "landcolor": "#E5ECF6",
           "showlakes": true,
           "showland": true,
           "subunitcolor": "white"
          },
          "hoverlabel": {
           "align": "left"
          },
          "hovermode": "closest",
          "mapbox": {
           "style": "light"
          },
          "paper_bgcolor": "white",
          "plot_bgcolor": "#E5ECF6",
          "polar": {
           "angularaxis": {
            "gridcolor": "white",
            "linecolor": "white",
            "ticks": ""
           },
           "bgcolor": "#E5ECF6",
           "radialaxis": {
            "gridcolor": "white",
            "linecolor": "white",
            "ticks": ""
           }
          },
          "scene": {
           "xaxis": {
            "backgroundcolor": "#E5ECF6",
            "gridcolor": "white",
            "gridwidth": 2,
            "linecolor": "white",
            "showbackground": true,
            "ticks": "",
            "zerolinecolor": "white"
           },
           "yaxis": {
            "backgroundcolor": "#E5ECF6",
            "gridcolor": "white",
            "gridwidth": 2,
            "linecolor": "white",
            "showbackground": true,
            "ticks": "",
            "zerolinecolor": "white"
           },
           "zaxis": {
            "backgroundcolor": "#E5ECF6",
            "gridcolor": "white",
            "gridwidth": 2,
            "linecolor": "white",
            "showbackground": true,
            "ticks": "",
            "zerolinecolor": "white"
           }
          },
          "shapedefaults": {
           "line": {
            "color": "#2a3f5f"
           }
          },
          "ternary": {
           "aaxis": {
            "gridcolor": "white",
            "linecolor": "white",
            "ticks": ""
           },
           "baxis": {
            "gridcolor": "white",
            "linecolor": "white",
            "ticks": ""
           },
           "bgcolor": "#E5ECF6",
           "caxis": {
            "gridcolor": "white",
            "linecolor": "white",
            "ticks": ""
           }
          },
          "title": {
           "x": 0.05
          },
          "xaxis": {
           "automargin": true,
           "gridcolor": "white",
           "linecolor": "white",
           "ticks": "",
           "title": {
            "standoff": 15
           },
           "zerolinecolor": "white",
           "zerolinewidth": 2
          },
          "yaxis": {
           "automargin": true,
           "gridcolor": "white",
           "linecolor": "white",
           "ticks": "",
           "title": {
            "standoff": 15
           },
           "zerolinecolor": "white",
           "zerolinewidth": 2
          }
         }
        },
        "title": {
         "text": "Receiver Operating Characteristic (ROC) Curve"
        },
        "width": 500,
        "xaxis": {
         "title": {
          "text": "False Positive Rate"
         }
        },
        "yaxis": {
         "title": {
          "text": "True Positive Rate"
         }
        }
       }
      }
     },
     "metadata": {},
     "output_type": "display_data"
    },
    {
     "name": "stdout",
     "output_type": "stream",
     "text": [
      "[[17434    90]\n",
      " [  576  1123]]\n"
     ]
    },
    {
     "data": {
      "application/vnd.plotly.v1+json": {
       "config": {
        "plotlyServerURL": "https://plot.ly"
       },
       "data": [
        {
         "colorscale": [
          [
           0,
           "rgb(247,251,255)"
          ],
          [
           0.125,
           "rgb(222,235,247)"
          ],
          [
           0.25,
           "rgb(198,219,239)"
          ],
          [
           0.375,
           "rgb(158,202,225)"
          ],
          [
           0.5,
           "rgb(107,174,214)"
          ],
          [
           0.625,
           "rgb(66,146,198)"
          ],
          [
           0.75,
           "rgb(33,113,181)"
          ],
          [
           0.875,
           "rgb(8,81,156)"
          ],
          [
           1,
           "rgb(8,48,107)"
          ]
         ],
         "hoverongaps": false,
         "type": "heatmap",
         "x": [
          "Previsto 0",
          "Previsto 1"
         ],
         "y": [
          "Real 0",
          "Real 1"
         ],
         "z": {
          "bdata": "GkRaAEACYwQ=",
          "dtype": "i2",
          "shape": "2, 2"
         }
        }
       ],
       "layout": {
        "annotations": [
         {
          "font": {
           "color": "white"
          },
          "showarrow": false,
          "text": "17434",
          "x": 0,
          "y": 0
         },
         {
          "font": {
           "color": "black"
          },
          "showarrow": false,
          "text": "90",
          "x": 1,
          "y": 0
         },
         {
          "font": {
           "color": "black"
          },
          "showarrow": false,
          "text": "576",
          "x": 0,
          "y": 1
         },
         {
          "font": {
           "color": "black"
          },
          "showarrow": false,
          "text": "1123",
          "x": 1,
          "y": 1
         }
        ],
        "height": 500,
        "template": {
         "data": {
          "bar": [
           {
            "error_x": {
             "color": "#2a3f5f"
            },
            "error_y": {
             "color": "#2a3f5f"
            },
            "marker": {
             "line": {
              "color": "#E5ECF6",
              "width": 0.5
             },
             "pattern": {
              "fillmode": "overlay",
              "size": 10,
              "solidity": 0.2
             }
            },
            "type": "bar"
           }
          ],
          "barpolar": [
           {
            "marker": {
             "line": {
              "color": "#E5ECF6",
              "width": 0.5
             },
             "pattern": {
              "fillmode": "overlay",
              "size": 10,
              "solidity": 0.2
             }
            },
            "type": "barpolar"
           }
          ],
          "carpet": [
           {
            "aaxis": {
             "endlinecolor": "#2a3f5f",
             "gridcolor": "white",
             "linecolor": "white",
             "minorgridcolor": "white",
             "startlinecolor": "#2a3f5f"
            },
            "baxis": {
             "endlinecolor": "#2a3f5f",
             "gridcolor": "white",
             "linecolor": "white",
             "minorgridcolor": "white",
             "startlinecolor": "#2a3f5f"
            },
            "type": "carpet"
           }
          ],
          "choropleth": [
           {
            "colorbar": {
             "outlinewidth": 0,
             "ticks": ""
            },
            "type": "choropleth"
           }
          ],
          "contour": [
           {
            "colorbar": {
             "outlinewidth": 0,
             "ticks": ""
            },
            "colorscale": [
             [
              0,
              "#0d0887"
             ],
             [
              0.1111111111111111,
              "#46039f"
             ],
             [
              0.2222222222222222,
              "#7201a8"
             ],
             [
              0.3333333333333333,
              "#9c179e"
             ],
             [
              0.4444444444444444,
              "#bd3786"
             ],
             [
              0.5555555555555556,
              "#d8576b"
             ],
             [
              0.6666666666666666,
              "#ed7953"
             ],
             [
              0.7777777777777778,
              "#fb9f3a"
             ],
             [
              0.8888888888888888,
              "#fdca26"
             ],
             [
              1,
              "#f0f921"
             ]
            ],
            "type": "contour"
           }
          ],
          "contourcarpet": [
           {
            "colorbar": {
             "outlinewidth": 0,
             "ticks": ""
            },
            "type": "contourcarpet"
           }
          ],
          "heatmap": [
           {
            "colorbar": {
             "outlinewidth": 0,
             "ticks": ""
            },
            "colorscale": [
             [
              0,
              "#0d0887"
             ],
             [
              0.1111111111111111,
              "#46039f"
             ],
             [
              0.2222222222222222,
              "#7201a8"
             ],
             [
              0.3333333333333333,
              "#9c179e"
             ],
             [
              0.4444444444444444,
              "#bd3786"
             ],
             [
              0.5555555555555556,
              "#d8576b"
             ],
             [
              0.6666666666666666,
              "#ed7953"
             ],
             [
              0.7777777777777778,
              "#fb9f3a"
             ],
             [
              0.8888888888888888,
              "#fdca26"
             ],
             [
              1,
              "#f0f921"
             ]
            ],
            "type": "heatmap"
           }
          ],
          "histogram": [
           {
            "marker": {
             "pattern": {
              "fillmode": "overlay",
              "size": 10,
              "solidity": 0.2
             }
            },
            "type": "histogram"
           }
          ],
          "histogram2d": [
           {
            "colorbar": {
             "outlinewidth": 0,
             "ticks": ""
            },
            "colorscale": [
             [
              0,
              "#0d0887"
             ],
             [
              0.1111111111111111,
              "#46039f"
             ],
             [
              0.2222222222222222,
              "#7201a8"
             ],
             [
              0.3333333333333333,
              "#9c179e"
             ],
             [
              0.4444444444444444,
              "#bd3786"
             ],
             [
              0.5555555555555556,
              "#d8576b"
             ],
             [
              0.6666666666666666,
              "#ed7953"
             ],
             [
              0.7777777777777778,
              "#fb9f3a"
             ],
             [
              0.8888888888888888,
              "#fdca26"
             ],
             [
              1,
              "#f0f921"
             ]
            ],
            "type": "histogram2d"
           }
          ],
          "histogram2dcontour": [
           {
            "colorbar": {
             "outlinewidth": 0,
             "ticks": ""
            },
            "colorscale": [
             [
              0,
              "#0d0887"
             ],
             [
              0.1111111111111111,
              "#46039f"
             ],
             [
              0.2222222222222222,
              "#7201a8"
             ],
             [
              0.3333333333333333,
              "#9c179e"
             ],
             [
              0.4444444444444444,
              "#bd3786"
             ],
             [
              0.5555555555555556,
              "#d8576b"
             ],
             [
              0.6666666666666666,
              "#ed7953"
             ],
             [
              0.7777777777777778,
              "#fb9f3a"
             ],
             [
              0.8888888888888888,
              "#fdca26"
             ],
             [
              1,
              "#f0f921"
             ]
            ],
            "type": "histogram2dcontour"
           }
          ],
          "mesh3d": [
           {
            "colorbar": {
             "outlinewidth": 0,
             "ticks": ""
            },
            "type": "mesh3d"
           }
          ],
          "parcoords": [
           {
            "line": {
             "colorbar": {
              "outlinewidth": 0,
              "ticks": ""
             }
            },
            "type": "parcoords"
           }
          ],
          "pie": [
           {
            "automargin": true,
            "type": "pie"
           }
          ],
          "scatter": [
           {
            "fillpattern": {
             "fillmode": "overlay",
             "size": 10,
             "solidity": 0.2
            },
            "type": "scatter"
           }
          ],
          "scatter3d": [
           {
            "line": {
             "colorbar": {
              "outlinewidth": 0,
              "ticks": ""
             }
            },
            "marker": {
             "colorbar": {
              "outlinewidth": 0,
              "ticks": ""
             }
            },
            "type": "scatter3d"
           }
          ],
          "scattercarpet": [
           {
            "marker": {
             "colorbar": {
              "outlinewidth": 0,
              "ticks": ""
             }
            },
            "type": "scattercarpet"
           }
          ],
          "scattergeo": [
           {
            "marker": {
             "colorbar": {
              "outlinewidth": 0,
              "ticks": ""
             }
            },
            "type": "scattergeo"
           }
          ],
          "scattergl": [
           {
            "marker": {
             "colorbar": {
              "outlinewidth": 0,
              "ticks": ""
             }
            },
            "type": "scattergl"
           }
          ],
          "scattermap": [
           {
            "marker": {
             "colorbar": {
              "outlinewidth": 0,
              "ticks": ""
             }
            },
            "type": "scattermap"
           }
          ],
          "scattermapbox": [
           {
            "marker": {
             "colorbar": {
              "outlinewidth": 0,
              "ticks": ""
             }
            },
            "type": "scattermapbox"
           }
          ],
          "scatterpolar": [
           {
            "marker": {
             "colorbar": {
              "outlinewidth": 0,
              "ticks": ""
             }
            },
            "type": "scatterpolar"
           }
          ],
          "scatterpolargl": [
           {
            "marker": {
             "colorbar": {
              "outlinewidth": 0,
              "ticks": ""
             }
            },
            "type": "scatterpolargl"
           }
          ],
          "scatterternary": [
           {
            "marker": {
             "colorbar": {
              "outlinewidth": 0,
              "ticks": ""
             }
            },
            "type": "scatterternary"
           }
          ],
          "surface": [
           {
            "colorbar": {
             "outlinewidth": 0,
             "ticks": ""
            },
            "colorscale": [
             [
              0,
              "#0d0887"
             ],
             [
              0.1111111111111111,
              "#46039f"
             ],
             [
              0.2222222222222222,
              "#7201a8"
             ],
             [
              0.3333333333333333,
              "#9c179e"
             ],
             [
              0.4444444444444444,
              "#bd3786"
             ],
             [
              0.5555555555555556,
              "#d8576b"
             ],
             [
              0.6666666666666666,
              "#ed7953"
             ],
             [
              0.7777777777777778,
              "#fb9f3a"
             ],
             [
              0.8888888888888888,
              "#fdca26"
             ],
             [
              1,
              "#f0f921"
             ]
            ],
            "type": "surface"
           }
          ],
          "table": [
           {
            "cells": {
             "fill": {
              "color": "#EBF0F8"
             },
             "line": {
              "color": "white"
             }
            },
            "header": {
             "fill": {
              "color": "#C8D4E3"
             },
             "line": {
              "color": "white"
             }
            },
            "type": "table"
           }
          ]
         },
         "layout": {
          "annotationdefaults": {
           "arrowcolor": "#2a3f5f",
           "arrowhead": 0,
           "arrowwidth": 1
          },
          "autotypenumbers": "strict",
          "coloraxis": {
           "colorbar": {
            "outlinewidth": 0,
            "ticks": ""
           }
          },
          "colorscale": {
           "diverging": [
            [
             0,
             "#8e0152"
            ],
            [
             0.1,
             "#c51b7d"
            ],
            [
             0.2,
             "#de77ae"
            ],
            [
             0.3,
             "#f1b6da"
            ],
            [
             0.4,
             "#fde0ef"
            ],
            [
             0.5,
             "#f7f7f7"
            ],
            [
             0.6,
             "#e6f5d0"
            ],
            [
             0.7,
             "#b8e186"
            ],
            [
             0.8,
             "#7fbc41"
            ],
            [
             0.9,
             "#4d9221"
            ],
            [
             1,
             "#276419"
            ]
           ],
           "sequential": [
            [
             0,
             "#0d0887"
            ],
            [
             0.1111111111111111,
             "#46039f"
            ],
            [
             0.2222222222222222,
             "#7201a8"
            ],
            [
             0.3333333333333333,
             "#9c179e"
            ],
            [
             0.4444444444444444,
             "#bd3786"
            ],
            [
             0.5555555555555556,
             "#d8576b"
            ],
            [
             0.6666666666666666,
             "#ed7953"
            ],
            [
             0.7777777777777778,
             "#fb9f3a"
            ],
            [
             0.8888888888888888,
             "#fdca26"
            ],
            [
             1,
             "#f0f921"
            ]
           ],
           "sequentialminus": [
            [
             0,
             "#0d0887"
            ],
            [
             0.1111111111111111,
             "#46039f"
            ],
            [
             0.2222222222222222,
             "#7201a8"
            ],
            [
             0.3333333333333333,
             "#9c179e"
            ],
            [
             0.4444444444444444,
             "#bd3786"
            ],
            [
             0.5555555555555556,
             "#d8576b"
            ],
            [
             0.6666666666666666,
             "#ed7953"
            ],
            [
             0.7777777777777778,
             "#fb9f3a"
            ],
            [
             0.8888888888888888,
             "#fdca26"
            ],
            [
             1,
             "#f0f921"
            ]
           ]
          },
          "colorway": [
           "#636efa",
           "#EF553B",
           "#00cc96",
           "#ab63fa",
           "#FFA15A",
           "#19d3f3",
           "#FF6692",
           "#B6E880",
           "#FF97FF",
           "#FECB52"
          ],
          "font": {
           "color": "#2a3f5f"
          },
          "geo": {
           "bgcolor": "white",
           "lakecolor": "white",
           "landcolor": "#E5ECF6",
           "showlakes": true,
           "showland": true,
           "subunitcolor": "white"
          },
          "hoverlabel": {
           "align": "left"
          },
          "hovermode": "closest",
          "mapbox": {
           "style": "light"
          },
          "paper_bgcolor": "white",
          "plot_bgcolor": "#E5ECF6",
          "polar": {
           "angularaxis": {
            "gridcolor": "white",
            "linecolor": "white",
            "ticks": ""
           },
           "bgcolor": "#E5ECF6",
           "radialaxis": {
            "gridcolor": "white",
            "linecolor": "white",
            "ticks": ""
           }
          },
          "scene": {
           "xaxis": {
            "backgroundcolor": "#E5ECF6",
            "gridcolor": "white",
            "gridwidth": 2,
            "linecolor": "white",
            "showbackground": true,
            "ticks": "",
            "zerolinecolor": "white"
           },
           "yaxis": {
            "backgroundcolor": "#E5ECF6",
            "gridcolor": "white",
            "gridwidth": 2,
            "linecolor": "white",
            "showbackground": true,
            "ticks": "",
            "zerolinecolor": "white"
           },
           "zaxis": {
            "backgroundcolor": "#E5ECF6",
            "gridcolor": "white",
            "gridwidth": 2,
            "linecolor": "white",
            "showbackground": true,
            "ticks": "",
            "zerolinecolor": "white"
           }
          },
          "shapedefaults": {
           "line": {
            "color": "#2a3f5f"
           }
          },
          "ternary": {
           "aaxis": {
            "gridcolor": "white",
            "linecolor": "white",
            "ticks": ""
           },
           "baxis": {
            "gridcolor": "white",
            "linecolor": "white",
            "ticks": ""
           },
           "bgcolor": "#E5ECF6",
           "caxis": {
            "gridcolor": "white",
            "linecolor": "white",
            "ticks": ""
           }
          },
          "title": {
           "x": 0.05
          },
          "xaxis": {
           "automargin": true,
           "gridcolor": "white",
           "linecolor": "white",
           "ticks": "",
           "title": {
            "standoff": 15
           },
           "zerolinecolor": "white",
           "zerolinewidth": 2
          },
          "yaxis": {
           "automargin": true,
           "gridcolor": "white",
           "linecolor": "white",
           "ticks": "",
           "title": {
            "standoff": 15
           },
           "zerolinecolor": "white",
           "zerolinewidth": 2
          }
         }
        },
        "title": {
         "text": "Matriz de Confusão"
        },
        "width": 500,
        "xaxis": {
         "title": {
          "text": "Classe Prevista"
         }
        },
        "yaxis": {
         "title": {
          "text": "Classe Real"
         }
        }
       }
      }
     },
     "metadata": {},
     "output_type": "display_data"
    }
   ],
   "source": [
    "# Make predictions on the test set\n",
    "\n",
    "y_pred_proba = model.predict_proba(X_test)[:, 1]\n",
    "\n",
    "# Calculate the false positive rate, true positive rate, and thresholds\n",
    "\n",
    "fpr, tpr, thresholds = roc_curve(y_test, y_pred_proba)\n",
    "\n",
    "# Calculate the area under the ROC curve (AUC)\n",
    "\n",
    "roc_auc = auc(fpr, tpr)\n",
    "\n",
    "# Plot the ROC curve\n",
    "\n",
    "fig = go.Figure()\n",
    "\n",
    "fig.add_trace(go.Scatter(x=fpr, y=tpr, mode=\"lines\", name=\"ROC curve (AUC = %0.2f)\" % roc_auc))\n",
    "fig.add_trace(\n",
    "    go.Scatter(x=[0, 1], y=[0, 1], mode=\"lines\", name=\"Random Classifier\", line=dict(dash=\"dash\"))\n",
    ")\n",
    "fig.update_layout(\n",
    "    title=\"Receiver Operating Characteristic (ROC) Curve\",\n",
    "    xaxis_title=\"False Positive Rate\",\n",
    "    yaxis_title=\"True Positive Rate\",\n",
    "    width=500,\n",
    "    height=500,\n",
    "    legend=dict(x=0, y=0, traceorder=\"normal\"),\n",
    ")\n",
    "fig.show()\n",
    "\n",
    "# Calculate the confusion matrix\n",
    "\n",
    "cm = confusion_matrix(y_test, y_pred)\n",
    "print(cm)\n",
    "\n",
    "# Plot the confusion matrix\n",
    "\n",
    "fig = go.Figure(\n",
    "    data=go.Heatmap(\n",
    "        z=cm,\n",
    "        x=[\"Previsto 0\", \"Previsto 1\"],\n",
    "        y=[\"Real 0\", \"Real 1\"],\n",
    "        colorscale=\"Blues\",\n",
    "        hoverongaps=False,\n",
    "    )\n",
    ")\n",
    "\n",
    "max_val = cm.max()\n",
    "annotations = []\n",
    "for i in range(len(cm)):\n",
    "    for j in range(len(cm[0])):\n",
    "        annotations.append(\n",
    "            dict(\n",
    "                x=j,\n",
    "                y=i,\n",
    "                text=str(cm[i][j]),\n",
    "                showarrow=False,\n",
    "                font=dict(color=\"white\" if cm[i][j] > max_val / 2 else \"black\"),\n",
    "            )\n",
    "        )\n",
    "\n",
    "fig.update_layout(\n",
    "    title=\"Matriz de Confusão\",\n",
    "    width=500,\n",
    "    height=500,\n",
    "    xaxis_title=\"Classe Prevista\",\n",
    "    yaxis_title=\"Classe Real\",\n",
    "    annotations=annotations,\n",
    ")\n",
    "\n",
    "fig.show()"
   ]
  },
  {
   "cell_type": "code",
   "execution_count": 18,
   "id": "eded6a48",
   "metadata": {},
   "outputs": [
    {
     "name": "stderr",
     "output_type": "stream",
     "text": [
      " 99%|===================| 19099/19223 [01:22<00:00]        "
     ]
    }
   ],
   "source": [
    "# Plot the feature importance\n",
    "X_train_df = pd.DataFrame(X_train, columns=X.columns)\n",
    "\n",
    "explainer = shap.Explainer(model, X_train, feature_names=X_train_df.columns.tolist())\n",
    "shap_values = explainer(X_test)"
   ]
  },
  {
   "cell_type": "code",
   "execution_count": 19,
   "id": "0a04c02b",
   "metadata": {},
   "outputs": [
    {
     "data": {
      "image/png": "[encoded data removed]",
      "text/plain": [
       "<Figure size 800x550 with 1 Axes>"
      ]
     },
     "metadata": {},
     "output_type": "display_data"
    }
   ],
   "source": [
    "# Global bar plot\n",
    "\n",
    "shap.plots.bar(shap_values)"
   ]
  },
  {
   "cell_type": "code",
   "execution_count": 20,
   "id": "e56b57d8",
   "metadata": {},
   "outputs": [
    {
     "data": {
      "image/png": "[encoded data removed]",
      "text/plain": [
       "<Figure size 800x550 with 1 Axes>"
      ]
     },
     "metadata": {},
     "output_type": "display_data"
    }
   ],
   "source": [
    "shap.plots.bar(shap_values[0])"
   ]
  },
  {
   "cell_type": "code",
   "execution_count": 21,
   "id": "02d19ccb",
   "metadata": {},
   "outputs": [
    {
     "data": {
      "image/png": "[encoded data removed]",
      "text/plain": [
       "<Figure size 800x715.685 with 1 Axes>"
      ]
     },
     "metadata": {},
     "output_type": "display_data"
    }
   ],
   "source": [
    "shap.plots.bar(shap_values.cohorts(2).abs.mean(0))"
   ]
  },
  {
   "cell_type": "code",
   "execution_count": 22,
   "id": "c5446804",
   "metadata": {},
   "outputs": [
    {
     "data": {
      "image/png": "[encoded data removed]",
      "text/plain": [
       "<Figure size 800x470 with 2 Axes>"
      ]
     },
     "metadata": {},
     "output_type": "display_data"
    }
   ],
   "source": [
    "shap.plots.beeswarm(shap_values)"
   ]
  },
  {
   "cell_type": "code",
   "execution_count": null,
   "id": "e905230f",
   "metadata": {},
   "outputs": [
    {
     "data": {
      "image/png": "[encoded data removed]",
      "text/plain": [
       "<Figure size 800x470 with 1 Axes>"
      ]
     },
     "metadata": {},
     "output_type": "display_data"
    }
   ],
   "source": [
    "shap.plots.beeswarm(shap_values.abs, color=\"shap_red\")"
   ]
  },
  {
   "cell_type": "code",
   "execution_count": 28,
   "id": "d94e61ed",
   "metadata": {},
   "outputs": [
    {
     "data": {
      "image/png": "[encoded data removed]",
      "text/plain": [
       "<Figure size 600x500 with 2 Axes>"
      ]
     },
     "metadata": {},
     "output_type": "display_data"
    }
   ],
   "source": [
    "explanation = explainer(X[:1000])\n",
    "shap.plots.scatter(explanation[:, \"age\"])"
   ]
  },
  {
   "cell_type": "code",
   "execution_count": 37,
   "id": "76c79ed8",
   "metadata": {},
   "outputs": [
    {
     "data": {
      "image/png": "[encoded data removed]",
      "text/plain": [
       "<Figure size 600x500 with 2 Axes>"
      ]
     },
     "metadata": {},
     "output_type": "display_data"
    }
   ],
   "source": [
    "shap.plots.scatter(explanation[:, \"HbA1c_level\"])"
   ]
  },
  {
   "cell_type": "code",
   "execution_count": 33,
   "id": "816f5da7",
   "metadata": {},
   "outputs": [
    {
     "data": {
      "image/png": "[encoded data removed]",
      "text/plain": [
       "<Figure size 600x500 with 2 Axes>"
      ]
     },
     "metadata": {},
     "output_type": "display_data"
    }
   ],
   "source": [
    "shap.plots.scatter(explanation[:, \"bmi\"])"
   ]
  },
  {
   "cell_type": "code",
   "execution_count": null,
   "id": "b1522a8f",
   "metadata": {},
   "outputs": [],
   "source": [
    "# Save feature names\n",
    "\n",
    "feature_names = list(X.columns)\n",
    "joblib.dump(feature_names, \"../model/feature_names.pkl\")"
   ]
  },
  {
   "cell_type": "code",
   "execution_count": null,
   "id": "398233fc",
   "metadata": {},
   "outputs": [],
   "source": [
    "# Save all components\n",
    "\n",
    "joblib.dump(model, \"../model/diabetes_model.pkl\")\n",
    "joblib.dump(scaler, \"../model/scaler.pkl\")\n",
    "joblib.dump(pca, \"../model/pca.pkl\")\n",
    "joblib.dump(le_gender, \"../model/gender_encoder.pkl\")\n",
    "joblib.dump(le_smoking, \"../model/smoking_encoder.pkl\")"
   ]
  }
 ],
 "metadata": {
  "kernelspec": {
   "display_name": "ML_Cla_Flask",
   "language": "python",
   "name": "python3"
  },
  "language_info": {
   "codemirror_mode": {
    "name": "ipython",
    "version": 3
   },
   "file_extension": ".py",
   "mimetype": "text/x-python",
   "name": "python",
   "nbconvert_exporter": "python",
   "pygments_lexer": "ipython3",
   "version": "3.12.4"
  }
 },
 "nbformat": 4,
 "nbformat_minor": 5
}
